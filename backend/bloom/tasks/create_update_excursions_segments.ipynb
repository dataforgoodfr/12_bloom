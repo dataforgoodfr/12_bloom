{
 "cells": [
  {
   "cell_type": "code",
   "execution_count": 2,
   "metadata": {},
   "outputs": [
    {
     "name": "stderr",
     "output_type": "stream",
     "text": [
      "/Users/marthevienne/.pyenv/versions/3.12.5/lib/python3.12/site-packages/pydantic_settings/sources.py:611: UserWarning: directory \"/Users/marthevienne/.pyenv/versions/3.12.5/lib/python3.12/secrets\" does not exist\n",
      "  warnings.warn(f'directory \"{path}\" does not exist')\n"
     ]
    }
   ],
   "source": [
    "from datetime import datetime, timedelta\n",
    "import pandas as pd\n",
    "\n",
    "from bloom.container import UseCases\n",
    "from bloom.logger import logger\n",
    "from thefuzz import fuzz"
   ]
  },
  {
   "cell_type": "code",
   "execution_count": 3,
   "metadata": {},
   "outputs": [],
   "source": [
    "def to_coords(row: pd.Series) -> pd.Series:\n",
    "    if pd.isna(row[\"end_position\"]) is False:\n",
    "        row[\"longitude\"] = row[\"end_position\"].x\n",
    "        row[\"latitude\"] = row[\"end_position\"].y\n",
    "\n",
    "    return row"
   ]
  },
  {
   "cell_type": "code",
   "execution_count": 4,
   "metadata": {},
   "outputs": [],
   "source": [
    "def fuzzy_match_vessel_ais(row: any):\n",
    "    match_name = fuzz.ratio(row[\"ship_name\"], row[\"vessel_name\"])\n",
    "    match_external_marking = fuzz.ratio(row[\"external_marking\"], row[\"vessel_name\"])\n",
    "\n",
    "    if match_name > 70 or match_external_marking > 70:\n",
    "        return True\n",
    "    return False"
   ]
  },
  {
   "cell_type": "code",
   "execution_count": 5,
   "metadata": {},
   "outputs": [],
   "source": [
    "use_cases = UseCases()\n",
    "db = use_cases.db()\n",
    "spire_repository = use_cases.spire_ais_data_repository()\n",
    "vessel_repository = use_cases.vessel_repository()\n",
    "\n",
    "with db.session() as session:\n",
    "    point_in_time = datetime(2024, 10, 25, 00, 00, 00)\n",
    "    batch_limit = point_in_time + timedelta(days=3)\n",
    "    # Step 1: load SPIRE batch: read from SpireAisData\n",
    "    batch = spire_repository.get_all_data_between_date_bis(session, point_in_time, batch_limit)\n",
    "    vessels = vessel_repository.get_vessels_list(session)"
   ]
  },
  {
   "cell_type": "code",
   "execution_count": 6,
   "metadata": {},
   "outputs": [],
   "source": [
    "vessels = pd.DataFrame([o.__dict__ for o in vessels])"
   ]
  },
  {
   "cell_type": "code",
   "execution_count": 8,
   "metadata": {},
   "outputs": [],
   "source": [
    "vessels_details = vessels[[\"mmsi\", \"ship_name\", \"external_marking\", \"ircs\", \"imo\"]]"
   ]
  },
  {
   "cell_type": "code",
   "execution_count": null,
   "metadata": {},
   "outputs": [],
   "source": [
    "ais_with_vessel_info = pd.merge(\n",
    "    batch,\n",
    "    vessels_details,\n",
    "    how=\"left\",\n",
    "    left_on=\"vessel_mmsi\",\n",
    "    right_on=\"mmsi\",\n",
    ")\n",
    "\n",
    "matches_ircs_imo = ais_with_vessel_info[\n",
    "    (ais_with_vessel_info.vessel_callsign == ais_with_vessel_info.ircs)\n",
    "    | (ais_with_vessel_info.vessel_imo == ais_with_vessel_info.imo)\n",
    "]\n",
    "\n",
    "messages_left = pd.merge(\n",
    "    ais_with_vessel_info,\n",
    "    matches_ircs_imo[[\"vessel_mmsi\", \"created_at\"]].drop_duplicates(),\n",
    "    how=\"left\",\n",
    "    indicator=True,\n",
    ")\n",
    "\n",
    "messages_left = messages_left[messages_left._merge == \"left_only\"]"
   ]
  },
  {
   "cell_type": "code",
   "execution_count": 18,
   "metadata": {},
   "outputs": [
    {
     "data": {
      "text/plain": [
       "53"
      ]
     },
     "execution_count": 18,
     "metadata": {},
     "output_type": "execute_result"
    }
   ],
   "source": [
    "messages_left[[\"vessel_mmsi\", \"vessel_imo\", \"vessel_callsign\", \"imo\", \"ircs\"]].drop_duplicates().__len__()"
   ]
  },
  {
   "cell_type": "code",
   "execution_count": 105,
   "metadata": {},
   "outputs": [],
   "source": [
    "batch_grouped = batch.groupby([\"vessel_mmsi\", \"created_at\"])\n",
    "single_message_dates = batch_grouped.filter(lambda x: len(x) == 1)\n",
    "multiple_messages_dates = batch_grouped.filter(lambda x: len(x) > 1)\n",
    "multiple_messages_dates_grouped = multiple_messages_dates.groupby(\n",
    "    [\"vessel_mmsi\", \"created_at\"]\n",
    ")"
   ]
  },
  {
   "cell_type": "code",
   "execution_count": null,
   "metadata": {},
   "outputs": [],
   "source": [
    "# Put aside single messages\n",
    "# Work with multiple messages\n",
    "## Merge with vessels and compare IRCS and IMO => put aside matches and count messages per group (mmsi, created_at)\n",
    "## Work with groups of messages didn't match IMO or IRCS => match external marking and ship name with vessel name => put aside matches and count messages per group (mmsi, created_at)\n",
    "## Summary messages left"
   ]
  },
  {
   "cell_type": "code",
   "execution_count": 109,
   "metadata": {},
   "outputs": [],
   "source": [
    "multiple_messages_dates_with_vessel_info = pd.merge(\n",
    "    multiple_messages_dates,\n",
    "    vessels_details,\n",
    "    how=\"left\",\n",
    "    left_on=\"vessel_mmsi\",\n",
    "    right_on=\"mmsi\",\n",
    ")\n",
    "\n",
    "matches_ircs_imo = multiple_messages_dates_with_vessel_info[\n",
    "    (\n",
    "        multiple_messages_dates_with_vessel_info.vessel_callsign\n",
    "        == multiple_messages_dates_with_vessel_info.ircs\n",
    "    )\n",
    "    & (\n",
    "        multiple_messages_dates_with_vessel_info.vessel_imo\n",
    "        == multiple_messages_dates_with_vessel_info.imo\n",
    "    )\n",
    "]\n",
    "\n",
    "matches_ircs_imo_groups = matches_ircs_imo.groupby([\"vessel_mmsi\", \"created_at\"])\n",
    "matches_ircs_imo_multiple = matches_ircs_imo_groups.filter(lambda x: len(x) > 1)\n",
    "matches_ircs_imo_single = matches_ircs_imo_groups.filter(lambda x: len(x) == 1)\n",
    "if matches_ircs_imo_multiple.__len__() > 0:\n",
    "    logger.warning(f'The following MMSI have simultaneous multiple positions that match with IRCS and/or IMO: {matches_ircs_imo_multiple.vessel_mmsi.unique()}')\n",
    "\n",
    "messages_to_match_with_name = pd.merge(\n",
    "    multiple_messages_dates_with_vessel_info,\n",
    "    matches_ircs_imo[[\"vessel_mmsi\", \"created_at\"]].drop_duplicates(),\n",
    "    how=\"left\",\n",
    "    indicator=True,\n",
    ")\n",
    "\n",
    "messages_to_match_with_name = messages_to_match_with_name[\n",
    "    messages_to_match_with_name._merge == \"left_only\"\n",
    "]\n",
    "\n",
    "messages_to_match_with_name[\"correspondance\"] = messages_to_match_with_name.apply(\n",
    "    lambda x: fuzzy_match_vessel_ais(x), axis=1\n",
    ")\n",
    "\n",
    "messages_to_match_with_name_groups = messages_to_match_with_name[\n",
    "    messages_to_match_with_name.correspondance == True\n",
    "].groupby([\"vessel_mmsi\", \"created_at\"])\n",
    "messages_to_match_with_name_multiple = messages_to_match_with_name_groups.filter(\n",
    "    lambda x: len(x) > 1\n",
    ")\n",
    "messages_to_match_with_name_single = messages_to_match_with_name_groups.filter(\n",
    "    lambda x: len(x) == 1\n",
    ")\n",
    "if messages_to_match_with_name_multiple.__len__() > 0:\n",
    "    logger.warning(\n",
    "        f\"The following MMSI have simultaneous multiple positions that match with ship name and/or external marking: {messages_to_match_with_name_multiple.vessel_mmsi.unique()}\"\n",
    "    )\n",
    "\n",
    "match_ais = pd.concat([matches_ircs_imo, messages_to_match_with_name_multiple])\n",
    "\n",
    "messages_left = pd.merge(\n",
    "    multiple_messages_dates_with_vessel_info,\n",
    "    match_ais[[\"vessel_mmsi\", \"created_at\"]].drop_duplicates(),\n",
    "    how=\"left\",\n",
    "    indicator=True,\n",
    ")\n",
    "\n",
    "messages_left = messages_left[messages_left._merge == \"left_only\"]\n",
    "\n",
    "if messages_left.__len__() > 0:\n",
    "    logger.warning(\n",
    "        f\"The following MMSI have multiple messages that did not match any info: {messages_left.vessel_mmsi.unique()}\"\n",
    "    )"
   ]
  },
  {
   "cell_type": "code",
   "execution_count": 110,
   "metadata": {},
   "outputs": [],
   "source": [
    "cleaned_batch = pd.concat(\n",
    "    [single_message_dates, matches_ircs_imo_single, messages_to_match_with_name_single]\n",
    ")\n",
    "cleaned_batch_sorted = cleaned_batch.sort_index()\n",
    "cleaned_batch_grouped = cleaned_batch_sorted.groupby(\"vessel_mmsi\")"
   ]
  },
  {
   "cell_type": "code",
   "execution_count": 111,
   "metadata": {},
   "outputs": [],
   "source": [
    "for mmsi, group in cleaned_batch_grouped:\n",
    "    dt = group[\"position_timestamp\"].diff()\n",
    "    if dt[dt < timedelta(seconds=0)].__len__() > 0:\n",
    "        print(mmsi)\n",
    "        print(dt[dt < timedelta(seconds=0)])"
   ]
  }
 ],
 "metadata": {
  "kernelspec": {
   "display_name": "Python 3",
   "language": "python",
   "name": "python3"
  },
  "language_info": {
   "codemirror_mode": {
    "name": "ipython",
    "version": 3
   },
   "file_extension": ".py",
   "mimetype": "text/x-python",
   "name": "python",
   "nbconvert_exporter": "python",
   "pygments_lexer": "ipython3",
   "version": "3.12.5"
  }
 },
 "nbformat": 4,
 "nbformat_minor": 2
}
