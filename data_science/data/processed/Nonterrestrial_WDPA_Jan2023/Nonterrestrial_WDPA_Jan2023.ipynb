{
 "cells": [
  {
   "cell_type": "markdown",
   "id": "55dcdf79",
   "metadata": {},
   "source": [
    "#### Based of\n",
    "https://github.com/dataforgoodfr/Bloom/blob/data-science/data_science/notebooks/20230212_bloom_exploration_mathilde.ipynb"
   ]
  },
  {
   "cell_type": "markdown",
   "id": "705bf59e-6a1e-4121-a577-4cdcd8135a5e",
   "metadata": {},
   "source": [
    "## Importing packages"
   ]
  },
  {
   "cell_type": "code",
   "execution_count": 1,
   "id": "2710d806-0896-490b-8df5-7532eced77ab",
   "metadata": {},
   "outputs": [],
   "source": [
    "import pandas as pd\n",
    "import geopandas as gpd\n",
    "%matplotlib inline"
   ]
  },
  {
   "attachments": {},
   "cell_type": "markdown",
   "id": "7b370443-8bfd-4b6c-bd64-d8cff5af6c80",
   "metadata": {},
   "source": [
    "## Path to raw shapefiles\n",
    "\n",
    "See https://data-for-good.slack.com/archives/C04MVJS7E3Z/p1676215360408939 to download the raw shapefiles:\n",
    "\"Télécharger le dataset de toutes les aires protégées (plutôt grossier) \n",
    "ici https://www.dropbox.com/sh/dxdfs3x4b7xqa6b/AADIWUOA5Vc9HhM7leV2d6gla?dl=1 (5.5Go) \n",
    "pour les catégoriser, filtrer et visualiser\""
   ]
  },
  {
   "cell_type": "code",
   "execution_count": 2,
   "id": "31b3fd87-bc27-4613-825c-8d20900c92f6",
   "metadata": {},
   "outputs": [],
   "source": [
    "path_root = '/Users/martinvanderlinden/Documents/raw_data/WDPA_jan2023/'"
   ]
  },
  {
   "cell_type": "code",
   "execution_count": 3,
   "id": "90501eb8-9cea-4910-bef3-757bd6c4471d",
   "metadata": {},
   "outputs": [],
   "source": [
    "## read shapefile using geopandas library"
   ]
  },
  {
   "cell_type": "code",
   "execution_count": 4,
   "id": "fbd86f24-eceb-494d-acd7-65ad405b0496",
   "metadata": {},
   "outputs": [],
   "source": [
    "def shp_file_to_df(path_root: str, folder: str, file_name: str) -> pd.DataFrame:\n",
    "    \n",
    "    full_path = path_root + folder + '/'+ file_name\n",
    "    \n",
    "    df = gpd.GeoDataFrame.from_file(full_path)\n",
    "    \n",
    "    return df"
   ]
  },
  {
   "cell_type": "markdown",
   "id": "12fe2d5a",
   "metadata": {},
   "source": [
    "## Get the polygons"
   ]
  },
  {
   "cell_type": "markdown",
   "id": "6a357688",
   "metadata": {},
   "source": [
    "### 1. Polygons_1"
   ]
  },
  {
   "cell_type": "code",
   "execution_count": 5,
   "id": "bf2bbfd8-bc4b-403d-ace3-d02db98d58c1",
   "metadata": {
    "jupyter": {
     "outputs_hidden": true
    },
    "tags": []
   },
   "outputs": [
    {
     "name": "stdout",
     "output_type": "stream",
     "text": [
      "CPU times: user 24.8 s, sys: 2.48 s, total: 27.3 s\n",
      "Wall time: 31.5 s\n"
     ]
    }
   ],
   "source": [
    "%%time\n",
    "df1 = shp_file_to_df(path_root, 'WDPA_Jan2023_Public_shp_0', 'WDPA_Jan2023_Public_shp-polygons.shp')"
   ]
  },
  {
   "cell_type": "markdown",
   "id": "86f3a1ab",
   "metadata": {},
   "source": [
    "### 2. Polygons_2"
   ]
  },
  {
   "cell_type": "code",
   "execution_count": 6,
   "id": "432206c4",
   "metadata": {},
   "outputs": [
    {
     "name": "stdout",
     "output_type": "stream",
     "text": [
      "CPU times: user 30.8 s, sys: 2.55 s, total: 33.3 s\n",
      "Wall time: 37.4 s\n"
     ]
    }
   ],
   "source": [
    "%%time\n",
    "df2 = shp_file_to_df(path_root,'WDPA_Jan2023_Public_shp_1','WDPA_Jan2023_Public_shp-polygons.shp')"
   ]
  },
  {
   "cell_type": "markdown",
   "id": "6e070dc3",
   "metadata": {},
   "source": [
    "### 3. Polygons_3"
   ]
  },
  {
   "cell_type": "code",
   "execution_count": 7,
   "id": "55658373",
   "metadata": {},
   "outputs": [
    {
     "name": "stdout",
     "output_type": "stream",
     "text": [
      "CPU times: user 35.6 s, sys: 5.55 s, total: 41.1 s\n",
      "Wall time: 57.1 s\n"
     ]
    }
   ],
   "source": [
    "%%time\n",
    "df3 = shp_file_to_df(path_root,'WDPA_Jan2023_Public_shp_2','WDPA_Jan2023_Public_shp-polygons.shp')"
   ]
  },
  {
   "cell_type": "markdown",
   "id": "6def111a",
   "metadata": {},
   "source": [
    "## Concat & inspect"
   ]
  },
  {
   "cell_type": "code",
   "execution_count": 8,
   "id": "00278432",
   "metadata": {},
   "outputs": [],
   "source": [
    "df = pd.concat([df1, df2, df3])"
   ]
  },
  {
   "cell_type": "code",
   "execution_count": 9,
   "id": "4a54e769",
   "metadata": {},
   "outputs": [
    {
     "data": {
      "text/plain": [
       "(273261, 32)"
      ]
     },
     "execution_count": 9,
     "metadata": {},
     "output_type": "execute_result"
    }
   ],
   "source": [
    "#there were several index = 0, 1, 2 etc... so reset index is needed\n",
    "df.reset_index(inplace=True)\n",
    "df.shape"
   ]
  },
  {
   "cell_type": "code",
   "execution_count": 10,
   "id": "d609a2d7",
   "metadata": {
    "scrolled": true
   },
   "outputs": [
    {
     "data": {
      "text/plain": [
       "Index(['index', 'WDPAID', 'WDPA_PID', 'PA_DEF', 'NAME', 'ORIG_NAME', 'DESIG',\n",
       "       'DESIG_ENG', 'DESIG_TYPE', 'IUCN_CAT', 'INT_CRIT', 'MARINE',\n",
       "       'REP_M_AREA', 'GIS_M_AREA', 'REP_AREA', 'GIS_AREA', 'NO_TAKE',\n",
       "       'NO_TK_AREA', 'STATUS', 'STATUS_YR', 'GOV_TYPE', 'OWN_TYPE',\n",
       "       'MANG_AUTH', 'MANG_PLAN', 'VERIF', 'METADATAID', 'SUB_LOC',\n",
       "       'PARENT_ISO', 'ISO3', 'SUPP_INFO', 'CONS_OBJ', 'geometry'],\n",
       "      dtype='object')"
      ]
     },
     "execution_count": 10,
     "metadata": {},
     "output_type": "execute_result"
    }
   ],
   "source": [
    "#check which info we have\n",
    "df.columns"
   ]
  },
  {
   "cell_type": "markdown",
   "id": "9bb3f27d",
   "metadata": {},
   "source": [
    "Many of the included polygons are for in-land protected areas.\n",
    "\n",
    "See quick overview of included area, e.g., from front-cover of the User Manual (https://www.ibat-alliance.org/pdf/wdpa_manual.pdf) or directly from https://www.dropbox.com/s/bqiuqfvkh87ddgq/Screen%20Shot%202023-02-12%20at%209.54.58%20PM.png?dl=1"
   ]
  },
  {
   "cell_type": "markdown",
   "id": "d2eea7d8",
   "metadata": {},
   "source": [
    "From pg. 36 of \"User Manual for the World Database on Protected Areas and world database on other effective area- based conservation measures: 1.6\" (https://www.ibat-alliance.org/pdf/wdpa_manual.pdf):\n",
    "\n",
    "> \"Marine Protected Areas\n",
    "\n",
    "> The ‘Marine’ field provides an indication of whether a protected area or OECM is located entirely or partially in > the marine environment.\n",
    "> A value of\n",
    "> * ‘0’ indicates that there is very little to no marine component,\n",
    "> * ‘1’ indicates > that the site has substantial marine and terrestrial components and\n",
    "> * ’2’ indicates that there is very little to no > terrestrial component.\""
   ]
  },
  {
   "cell_type": "code",
   "execution_count": 11,
   "id": "38c420bb",
   "metadata": {},
   "outputs": [
    {
     "data": {
      "text/plain": [
       "0         2\n",
       "1         2\n",
       "2         0\n",
       "3         0\n",
       "4         0\n",
       "         ..\n",
       "273256    0\n",
       "273257    0\n",
       "273258    0\n",
       "273259    0\n",
       "273260    0\n",
       "Name: MARINE, Length: 273261, dtype: object"
      ]
     },
     "execution_count": 11,
     "metadata": {},
     "output_type": "execute_result"
    }
   ],
   "source": [
    "df['MARINE']"
   ]
  },
  {
   "attachments": {},
   "cell_type": "markdown",
   "id": "9417c24e",
   "metadata": {},
   "source": [
    "# Filter for `MARINE != 0` only and export"
   ]
  },
  {
   "cell_type": "code",
   "execution_count": 12,
   "id": "7c493477",
   "metadata": {},
   "outputs": [],
   "source": [
    "df_nonterr = df[df.MARINE != '0']"
   ]
  },
  {
   "cell_type": "code",
   "execution_count": 13,
   "id": "79664f36",
   "metadata": {},
   "outputs": [
    {
     "name": "stdout",
     "output_type": "stream",
     "text": [
      "273261 vs 18019\n"
     ]
    }
   ],
   "source": [
    "print(f\"{df.shape[0]} vs {df_nonterr.shape[0]}\")"
   ]
  },
  {
   "cell_type": "code",
   "execution_count": 15,
   "id": "383a2f5b",
   "metadata": {},
   "outputs": [],
   "source": [
    "df_nonterr.to_file('./Nonterrestrial_WDPA_Jan2023')"
   ]
  },
  {
   "cell_type": "code",
   "execution_count": null,
   "metadata": {
    "collapsed": false,
    "pycharm": {
     "name": "#%%\n"
    }
   },
   "outputs": [
    {
     "data": {
      "text/plain": [
       "<Axes: >"
      ]
     },
     "execution_count": 28,
     "metadata": {},
     "output_type": "execute_result"
    },
    {
     "data": {
      "image/png": "[encoded data removed]",
      "text/plain": [
       "<Figure size 640x480 with 1 Axes>"
      ]
     },
     "metadata": {},
     "output_type": "display_data"
    }
   ],
   "source": [
    "df_nonterr.plot()"
   ]
  },
  {
   "cell_type": "code",
   "execution_count": null,
   "metadata": {
    "collapsed": false,
    "pycharm": {
     "name": "#%%\n"
    }
   },
   "outputs": [],
   "source": []
  }
 ],
 "metadata": {
  "kernelspec": {
   "display_name": "base",
   "language": "python",
   "name": "python3"
  },
  "language_info": {
   "codemirror_mode": {
    "name": "ipython",
    "version": 3
   },
   "file_extension": ".py",
   "mimetype": "text/x-python",
   "name": "python",
   "nbconvert_exporter": "python",
   "pygments_lexer": "ipython3",
   "version": "3.9.13"
  },
  "vscode": {
   "interpreter": {
    "hash": "dd1bab0505cfe3deac851cea48066c77b2a4b79f5674222563ebb7cf3d85088c"
   }
  }
 },
 "nbformat": 4,
 "nbformat_minor": 5
}
