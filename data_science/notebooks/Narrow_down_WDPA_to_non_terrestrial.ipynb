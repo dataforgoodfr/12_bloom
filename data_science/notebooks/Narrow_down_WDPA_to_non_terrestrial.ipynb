{
 "cells": [
  {
   "cell_type": "markdown",
   "id": "8ea90c4a",
   "metadata": {},
   "source": [
    "#### Based of\n",
    "https://github.com/dataforgoodfr/Bloom/blob/data-science/data_science/notebooks/20230212_bloom_exploration_mathilde.ipynb"
   ]
  },
  {
   "cell_type": "markdown",
   "id": "475f97a9",
   "metadata": {},
   "source": [
    "## Installing packages"
   ]
  },
  {
   "cell_type": "code",
   "execution_count": 1,
   "id": "74ddd8a6",
   "metadata": {},
   "outputs": [
    {
     "name": "stdout",
     "output_type": "stream",
     "text": [
      "Requirement already satisfied: shapely in /Users/martinvanderlinden/opt/anaconda3/lib/python3.9/site-packages (1.8.5.post1)\n",
      "Note: you may need to restart the kernel to use updated packages.\n"
     ]
    }
   ],
   "source": [
    "pip install shapely"
   ]
  },
  {
   "cell_type": "code",
   "execution_count": 2,
   "id": "b1fe58c8",
   "metadata": {},
   "outputs": [
    {
     "name": "stdout",
     "output_type": "stream",
     "text": [
      "Requirement already satisfied: folium in /Users/martinvanderlinden/opt/anaconda3/lib/python3.9/site-packages (0.13.0)\n",
      "Requirement already satisfied: numpy in /Users/martinvanderlinden/opt/anaconda3/lib/python3.9/site-packages (from folium) (1.21.5)\n",
      "Requirement already satisfied: jinja2>=2.9 in /Users/martinvanderlinden/opt/anaconda3/lib/python3.9/site-packages (from folium) (2.11.3)\n",
      "Requirement already satisfied: requests in /Users/martinvanderlinden/opt/anaconda3/lib/python3.9/site-packages (from folium) (2.28.1)\n",
      "Requirement already satisfied: branca>=0.3.0 in /Users/martinvanderlinden/opt/anaconda3/lib/python3.9/site-packages (from folium) (0.5.0)\n",
      "Requirement already satisfied: MarkupSafe>=0.23 in /Users/martinvanderlinden/opt/anaconda3/lib/python3.9/site-packages (from jinja2>=2.9->folium) (2.0.1)\n",
      "Requirement already satisfied: certifi>=2017.4.17 in /Users/martinvanderlinden/opt/anaconda3/lib/python3.9/site-packages (from requests->folium) (2022.9.24)\n",
      "Requirement already satisfied: urllib3<1.27,>=1.21.1 in /Users/martinvanderlinden/opt/anaconda3/lib/python3.9/site-packages (from requests->folium) (1.26.11)\n",
      "Requirement already satisfied: charset-normalizer<3,>=2 in /Users/martinvanderlinden/opt/anaconda3/lib/python3.9/site-packages (from requests->folium) (2.0.4)\n",
      "Requirement already satisfied: idna<4,>=2.5 in /Users/martinvanderlinden/opt/anaconda3/lib/python3.9/site-packages (from requests->folium) (3.3)\n",
      "Note: you may need to restart the kernel to use updated packages.\n"
     ]
    }
   ],
   "source": [
    "pip install folium"
   ]
  },
  {
   "cell_type": "code",
   "execution_count": 3,
   "id": "22ce905f-22bb-4fbb-97e6-0aa809f682d3",
   "metadata": {},
   "outputs": [
    {
     "name": "stdout",
     "output_type": "stream",
     "text": [
      "Requirement already satisfied: geopandas in /Users/martinvanderlinden/opt/anaconda3/lib/python3.9/site-packages (0.12.1)\n",
      "Requirement already satisfied: fiona>=1.8 in /Users/martinvanderlinden/opt/anaconda3/lib/python3.9/site-packages (from geopandas) (1.8.22)\n",
      "Requirement already satisfied: shapely>=1.7 in /Users/martinvanderlinden/opt/anaconda3/lib/python3.9/site-packages (from geopandas) (1.8.5.post1)\n",
      "Requirement already satisfied: pyproj>=2.6.1.post1 in /Users/martinvanderlinden/opt/anaconda3/lib/python3.9/site-packages (from geopandas) (3.4.0)\n",
      "Requirement already satisfied: packaging in /Users/martinvanderlinden/opt/anaconda3/lib/python3.9/site-packages (from geopandas) (21.3)\n",
      "Requirement already satisfied: pandas>=1.0.0 in /Users/martinvanderlinden/opt/anaconda3/lib/python3.9/site-packages (from geopandas) (1.4.4)\n",
      "Requirement already satisfied: cligj>=0.5 in /Users/martinvanderlinden/opt/anaconda3/lib/python3.9/site-packages (from fiona>=1.8->geopandas) (0.7.2)\n",
      "Requirement already satisfied: click>=4.0 in /Users/martinvanderlinden/opt/anaconda3/lib/python3.9/site-packages (from fiona>=1.8->geopandas) (8.0.4)\n",
      "Requirement already satisfied: attrs>=17 in /Users/martinvanderlinden/opt/anaconda3/lib/python3.9/site-packages (from fiona>=1.8->geopandas) (21.4.0)\n",
      "Requirement already satisfied: munch in /Users/martinvanderlinden/opt/anaconda3/lib/python3.9/site-packages (from fiona>=1.8->geopandas) (2.5.0)\n",
      "Requirement already satisfied: setuptools in /Users/martinvanderlinden/opt/anaconda3/lib/python3.9/site-packages (from fiona>=1.8->geopandas) (63.4.1)\n",
      "Requirement already satisfied: click-plugins>=1.0 in /Users/martinvanderlinden/opt/anaconda3/lib/python3.9/site-packages (from fiona>=1.8->geopandas) (1.1.1)\n",
      "Requirement already satisfied: six>=1.7 in /Users/martinvanderlinden/opt/anaconda3/lib/python3.9/site-packages (from fiona>=1.8->geopandas) (1.16.0)\n",
      "Requirement already satisfied: certifi in /Users/martinvanderlinden/opt/anaconda3/lib/python3.9/site-packages (from fiona>=1.8->geopandas) (2022.9.24)\n",
      "Requirement already satisfied: python-dateutil>=2.8.1 in /Users/martinvanderlinden/opt/anaconda3/lib/python3.9/site-packages (from pandas>=1.0.0->geopandas) (2.8.2)\n",
      "Requirement already satisfied: pytz>=2020.1 in /Users/martinvanderlinden/opt/anaconda3/lib/python3.9/site-packages (from pandas>=1.0.0->geopandas) (2022.1)\n",
      "Requirement already satisfied: numpy>=1.18.5 in /Users/martinvanderlinden/opt/anaconda3/lib/python3.9/site-packages (from pandas>=1.0.0->geopandas) (1.21.5)\n",
      "Requirement already satisfied: pyparsing!=3.0.5,>=2.0.2 in /Users/martinvanderlinden/opt/anaconda3/lib/python3.9/site-packages (from packaging->geopandas) (3.0.9)\n",
      "Note: you may need to restart the kernel to use updated packages.\n"
     ]
    }
   ],
   "source": [
    "pip install geopandas"
   ]
  },
  {
   "cell_type": "markdown",
   "id": "705bf59e-6a1e-4121-a577-4cdcd8135a5e",
   "metadata": {},
   "source": [
    "## Importing packages"
   ]
  },
  {
   "cell_type": "code",
   "execution_count": 2,
   "id": "2710d806-0896-490b-8df5-7532eced77ab",
   "metadata": {},
   "outputs": [],
   "source": [
    "import pandas as pd\n",
    "import geopandas as gpd\n",
    "import numpy as np\n",
    "from geopandas.tools import sjoin\n",
    "from shapely.geometry import Point, MultiPolygon, Polygon\n",
    "%matplotlib inline\n",
    "import time\n",
    "import folium\n",
    "import json\n"
   ]
  },
  {
   "cell_type": "markdown",
   "id": "7b370443-8bfd-4b6c-bd64-d8cff5af6c80",
   "metadata": {},
   "source": [
    "## Path to Shapefile"
   ]
  },
  {
   "cell_type": "code",
   "execution_count": 3,
   "id": "db267134",
   "metadata": {},
   "outputs": [
    {
     "data": {
      "text/plain": [
       "'/Users/martinvanderlinden/Documents/Github_repos/Bloom/data_science/notebooks'"
      ]
     },
     "execution_count": 3,
     "metadata": {},
     "output_type": "execute_result"
    }
   ],
   "source": [
    "pwd"
   ]
  },
  {
   "cell_type": "code",
   "execution_count": 4,
   "id": "31b3fd87-bc27-4613-825c-8d20900c92f6",
   "metadata": {},
   "outputs": [],
   "source": [
    "path_root='/Users/martinvanderlinden/Documents/raw_data/WDPA_jan2023/'"
   ]
  },
  {
   "cell_type": "code",
   "execution_count": 239,
   "id": "90501eb8-9cea-4910-bef3-757bd6c4471d",
   "metadata": {},
   "outputs": [],
   "source": [
    "## read shapefile using geopandas library"
   ]
  },
  {
   "cell_type": "code",
   "execution_count": 5,
   "id": "fbd86f24-eceb-494d-acd7-65ad405b0496",
   "metadata": {},
   "outputs": [],
   "source": [
    "def shp_file_to_df(path_root: str, folder: str, file_name: str) -> pd.DataFrame:\n",
    "    \n",
    "    full_path = path_root + folder + '/'+ file_name\n",
    "    \n",
    "    df = gpd.GeoDataFrame.from_file(full_path)\n",
    "    \n",
    "    return df"
   ]
  },
  {
   "cell_type": "markdown",
   "id": "12fe2d5a",
   "metadata": {},
   "source": [
    "## Get the polygons"
   ]
  },
  {
   "cell_type": "markdown",
   "id": "6a357688",
   "metadata": {},
   "source": [
    "### 1. Polygons_1"
   ]
  },
  {
   "cell_type": "code",
   "execution_count": 6,
   "id": "bf2bbfd8-bc4b-403d-ace3-d02db98d58c1",
   "metadata": {
    "jupyter": {
     "outputs_hidden": true
    },
    "tags": []
   },
   "outputs": [
    {
     "name": "stdout",
     "output_type": "stream",
     "text": [
      "CPU times: user 23.7 s, sys: 1.53 s, total: 25.2 s\n",
      "Wall time: 26.4 s\n"
     ]
    }
   ],
   "source": [
    "%%time\n",
    "df1 = shp_file_to_df(path_root,'WDPA_Jan2023_Public_shp_0','WDPA_Jan2023_Public_shp-polygons.shp')"
   ]
  },
  {
   "cell_type": "code",
   "execution_count": 12,
   "id": "18529ca7",
   "metadata": {},
   "outputs": [
    {
     "data": {
      "text/plain": [
       "<Geographic 2D CRS: EPSG:4326>\n",
       "Name: WGS 84\n",
       "Axis Info [ellipsoidal]:\n",
       "- Lat[north]: Geodetic latitude (degree)\n",
       "- Lon[east]: Geodetic longitude (degree)\n",
       "Area of Use:\n",
       "- name: World.\n",
       "- bounds: (-180.0, -90.0, 180.0, 90.0)\n",
       "Datum: World Geodetic System 1984 ensemble\n",
       "- Ellipsoid: WGS 84\n",
       "- Prime Meridian: Greenwich"
      ]
     },
     "execution_count": 12,
     "metadata": {},
     "output_type": "execute_result"
    }
   ],
   "source": [
    "# inspect crs\n",
    "df1.crs"
   ]
  },
  {
   "cell_type": "markdown",
   "id": "86f3a1ab",
   "metadata": {},
   "source": [
    "### 2. Polygons_2"
   ]
  },
  {
   "cell_type": "code",
   "execution_count": 7,
   "id": "432206c4",
   "metadata": {},
   "outputs": [
    {
     "name": "stdout",
     "output_type": "stream",
     "text": [
      "CPU times: user 30.2 s, sys: 2.29 s, total: 32.5 s\n",
      "Wall time: 34.6 s\n"
     ]
    }
   ],
   "source": [
    "%%time\n",
    "df2 = shp_file_to_df(path_root,'WDPA_Jan2023_Public_shp_1','WDPA_Jan2023_Public_shp-polygons.shp')"
   ]
  },
  {
   "cell_type": "markdown",
   "id": "6e070dc3",
   "metadata": {},
   "source": [
    "### 3. Polygons_3"
   ]
  },
  {
   "cell_type": "code",
   "execution_count": null,
   "id": "7b903a07",
   "metadata": {},
   "outputs": [],
   "source": [
    "# inspect crs\n",
    "df2.crs"
   ]
  },
  {
   "cell_type": "code",
   "execution_count": 8,
   "id": "55658373",
   "metadata": {},
   "outputs": [
    {
     "name": "stdout",
     "output_type": "stream",
     "text": [
      "CPU times: user 33.3 s, sys: 2.48 s, total: 35.8 s\n",
      "Wall time: 39.2 s\n"
     ]
    }
   ],
   "source": [
    "%%time\n",
    "df3 = shp_file_to_df(path_root,'WDPA_Jan2023_Public_shp_2','WDPA_Jan2023_Public_shp-polygons.shp')"
   ]
  },
  {
   "cell_type": "markdown",
   "id": "4234e2ef",
   "metadata": {},
   "source": [
    "#### --> DFs have the same CRS (CRS: EPSG:4326)"
   ]
  },
  {
   "cell_type": "markdown",
   "id": "6def111a",
   "metadata": {},
   "source": [
    "## Concat & inspect"
   ]
  },
  {
   "cell_type": "code",
   "execution_count": null,
   "id": "ea4f5b4b",
   "metadata": {},
   "outputs": [],
   "source": [
    "# inspect crs\n",
    "df3.crs"
   ]
  },
  {
   "cell_type": "code",
   "execution_count": 9,
   "id": "4a54e769",
   "metadata": {},
   "outputs": [],
   "source": [
    "df = pd.concat([df1, df2, df3]).drop_duplicates()"
   ]
  },
  {
   "cell_type": "code",
   "execution_count": 10,
   "id": "9f8a5bd8",
   "metadata": {},
   "outputs": [
    {
     "data": {
      "text/plain": [
       "(273261, 31)"
      ]
     },
     "execution_count": 10,
     "metadata": {},
     "output_type": "execute_result"
    }
   ],
   "source": [
    "df.shape"
   ]
  },
  {
   "cell_type": "code",
   "execution_count": 11,
   "id": "1650ddc8",
   "metadata": {},
   "outputs": [
    {
     "data": {
      "text/html": [
       "<div>\n",
       "<style scoped>\n",
       "    .dataframe tbody tr th:only-of-type {\n",
       "        vertical-align: middle;\n",
       "    }\n",
       "\n",
       "    .dataframe tbody tr th {\n",
       "        vertical-align: top;\n",
       "    }\n",
       "\n",
       "    .dataframe thead th {\n",
       "        text-align: right;\n",
       "    }\n",
       "</style>\n",
       "<table border=\"1\" class=\"dataframe\">\n",
       "  <thead>\n",
       "    <tr style=\"text-align: right;\">\n",
       "      <th></th>\n",
       "      <th>WDPAID</th>\n",
       "      <th>WDPA_PID</th>\n",
       "      <th>PA_DEF</th>\n",
       "      <th>NAME</th>\n",
       "      <th>ORIG_NAME</th>\n",
       "      <th>DESIG</th>\n",
       "      <th>DESIG_ENG</th>\n",
       "      <th>DESIG_TYPE</th>\n",
       "      <th>IUCN_CAT</th>\n",
       "      <th>INT_CRIT</th>\n",
       "      <th>...</th>\n",
       "      <th>MANG_AUTH</th>\n",
       "      <th>MANG_PLAN</th>\n",
       "      <th>VERIF</th>\n",
       "      <th>METADATAID</th>\n",
       "      <th>SUB_LOC</th>\n",
       "      <th>PARENT_ISO</th>\n",
       "      <th>ISO3</th>\n",
       "      <th>SUPP_INFO</th>\n",
       "      <th>CONS_OBJ</th>\n",
       "      <th>geometry</th>\n",
       "    </tr>\n",
       "  </thead>\n",
       "  <tbody>\n",
       "    <tr>\n",
       "      <th>0</th>\n",
       "      <td>1.0</td>\n",
       "      <td>1</td>\n",
       "      <td>1</td>\n",
       "      <td>Diamond Reef and Salt Fish Tail Reef</td>\n",
       "      <td>Diamond Reef</td>\n",
       "      <td>Marine Reserve</td>\n",
       "      <td>Marine Reserve</td>\n",
       "      <td>National</td>\n",
       "      <td>Ia</td>\n",
       "      <td>Not Applicable</td>\n",
       "      <td>...</td>\n",
       "      <td>Fisheries Division</td>\n",
       "      <td>Not Reported</td>\n",
       "      <td>State Verified</td>\n",
       "      <td>1807</td>\n",
       "      <td>AG-04</td>\n",
       "      <td>ATG</td>\n",
       "      <td>ATG</td>\n",
       "      <td>Not Applicable</td>\n",
       "      <td>Not Applicable</td>\n",
       "      <td>POLYGON ((-61.82494 17.18497, -61.82497 17.184...</td>\n",
       "    </tr>\n",
       "    <tr>\n",
       "      <th>1</th>\n",
       "      <td>2.0</td>\n",
       "      <td>2</td>\n",
       "      <td>1</td>\n",
       "      <td>Palaster Reef</td>\n",
       "      <td>Palaster Reef</td>\n",
       "      <td>Marine Reserve</td>\n",
       "      <td>Marine Reserve</td>\n",
       "      <td>National</td>\n",
       "      <td>Ia</td>\n",
       "      <td>Not Applicable</td>\n",
       "      <td>...</td>\n",
       "      <td>Fisheries Division</td>\n",
       "      <td>Not Reported</td>\n",
       "      <td>State Verified</td>\n",
       "      <td>1807</td>\n",
       "      <td>AG-10</td>\n",
       "      <td>ATG</td>\n",
       "      <td>ATG</td>\n",
       "      <td>Not Applicable</td>\n",
       "      <td>Not Applicable</td>\n",
       "      <td>POLYGON ((-61.74007 17.52001, -61.77174 17.526...</td>\n",
       "    </tr>\n",
       "  </tbody>\n",
       "</table>\n",
       "<p>2 rows × 31 columns</p>\n",
       "</div>"
      ],
      "text/plain": [
       "   WDPAID WDPA_PID PA_DEF                                  NAME  \\\n",
       "0     1.0        1      1  Diamond Reef and Salt Fish Tail Reef   \n",
       "1     2.0        2      1                         Palaster Reef   \n",
       "\n",
       "       ORIG_NAME           DESIG       DESIG_ENG DESIG_TYPE IUCN_CAT  \\\n",
       "0   Diamond Reef  Marine Reserve  Marine Reserve   National       Ia   \n",
       "1  Palaster Reef  Marine Reserve  Marine Reserve   National       Ia   \n",
       "\n",
       "         INT_CRIT  ...           MANG_AUTH     MANG_PLAN           VERIF  \\\n",
       "0  Not Applicable  ...  Fisheries Division  Not Reported  State Verified   \n",
       "1  Not Applicable  ...  Fisheries Division  Not Reported  State Verified   \n",
       "\n",
       "   METADATAID  SUB_LOC PARENT_ISO  ISO3       SUPP_INFO        CONS_OBJ  \\\n",
       "0        1807    AG-04        ATG   ATG  Not Applicable  Not Applicable   \n",
       "1        1807    AG-10        ATG   ATG  Not Applicable  Not Applicable   \n",
       "\n",
       "                                            geometry  \n",
       "0  POLYGON ((-61.82494 17.18497, -61.82497 17.184...  \n",
       "1  POLYGON ((-61.74007 17.52001, -61.77174 17.526...  \n",
       "\n",
       "[2 rows x 31 columns]"
      ]
     },
     "execution_count": 11,
     "metadata": {},
     "output_type": "execute_result"
    }
   ],
   "source": [
    "df.head(2)"
   ]
  },
  {
   "cell_type": "code",
   "execution_count": 12,
   "id": "58dc896d",
   "metadata": {},
   "outputs": [],
   "source": [
    "#there were several index = 0, 1, 2 etc... so reset index is needed\n",
    "df.reset_index(inplace=True)"
   ]
  },
  {
   "cell_type": "code",
   "execution_count": 17,
   "id": "d609a2d7",
   "metadata": {
    "scrolled": true
   },
   "outputs": [
    {
     "data": {
      "text/plain": [
       "Index(['index', 'WDPAID', 'WDPA_PID', 'PA_DEF', 'NAME', 'ORIG_NAME', 'DESIG',\n",
       "       'DESIG_ENG', 'DESIG_TYPE', 'IUCN_CAT', 'INT_CRIT', 'MARINE',\n",
       "       'REP_M_AREA', 'GIS_M_AREA', 'REP_AREA', 'GIS_AREA', 'NO_TAKE',\n",
       "       'NO_TK_AREA', 'STATUS', 'STATUS_YR', 'GOV_TYPE', 'OWN_TYPE',\n",
       "       'MANG_AUTH', 'MANG_PLAN', 'VERIF', 'METADATAID', 'SUB_LOC',\n",
       "       'PARENT_ISO', 'ISO3', 'SUPP_INFO', 'CONS_OBJ', 'geometry'],\n",
       "      dtype='object')"
      ]
     },
     "execution_count": 17,
     "metadata": {},
     "output_type": "execute_result"
    }
   ],
   "source": [
    "#check which info we have\n",
    "df.columns"
   ]
  },
  {
   "cell_type": "markdown",
   "id": "0a822325",
   "metadata": {},
   "source": [
    "Many of the included polygons are for in-land protected areas.\n",
    "\n",
    "See quick overview of included area, e.g., from front-cover of the User Manual (https://www.ibat-alliance.org/pdf/wdpa_manual.pdf) or directly from https://www.dropbox.com/s/bqiuqfvkh87ddgq/Screen%20Shot%202023-02-12%20at%209.54.58%20PM.png?dl=1"
   ]
  },
  {
   "cell_type": "markdown",
   "id": "b5d29200",
   "metadata": {},
   "source": [
    "From \"User Manual for the World Database on Protected Areas and world database on other effective area- based conservation measures: 1.6\" (https://www.ibat-alliance.org/pdf/wdpa_manual.pdf):\n",
    "\n",
    "> \"Marine Protected Areas\n",
    "\n",
    "> The ‘Marine’ field provides an indication of whether a protected area or OECM is located entirely or partially in > the marine environment. A value of ‘0’ indicates that there is very little to no marine component, ‘1’ indicates > that the site has substantial marine and terrestrial components and ’2’ indicates that there is very little to no > terrestrial component.\""
   ]
  },
  {
   "cell_type": "code",
   "execution_count": 42,
   "id": "38c420bb",
   "metadata": {},
   "outputs": [
    {
     "data": {
      "text/plain": [
       "0         2\n",
       "1         2\n",
       "2         0\n",
       "3         0\n",
       "4         0\n",
       "         ..\n",
       "273256    0\n",
       "273257    0\n",
       "273258    0\n",
       "273259    0\n",
       "273260    0\n",
       "Name: MARINE, Length: 273261, dtype: object"
      ]
     },
     "execution_count": 42,
     "metadata": {},
     "output_type": "execute_result"
    }
   ],
   "source": [
    "df['MARINE']"
   ]
  },
  {
   "cell_type": "code",
   "execution_count": 43,
   "id": "7c493477",
   "metadata": {},
   "outputs": [],
   "source": [
    "df_nonterr = df[df.MARINE != '0']"
   ]
  },
  {
   "cell_type": "code",
   "execution_count": 45,
   "id": "79664f36",
   "metadata": {},
   "outputs": [
    {
     "data": {
      "text/plain": [
       "(18019, 32)"
      ]
     },
     "execution_count": 45,
     "metadata": {},
     "output_type": "execute_result"
    }
   ],
   "source": [
    "df_nonterr.shape"
   ]
  },
  {
   "cell_type": "code",
   "execution_count": null,
   "id": "383a2f5b",
   "metadata": {},
   "outputs": [],
   "source": [
    "df_nonterr.to_file('Nonterr_WDPA_Jan2023_Public_shp-polygons.shp')"
   ]
  }
 ],
 "metadata": {
  "kernelspec": {
   "display_name": "Python 3 (ipykernel)",
   "language": "python",
   "name": "python3"
  },
  "language_info": {
   "codemirror_mode": {
    "name": "ipython",
    "version": 3
   },
   "file_extension": ".py",
   "mimetype": "text/x-python",
   "name": "python",
   "nbconvert_exporter": "python",
   "pygments_lexer": "ipython3",
   "version": "3.9.13"
  }
 },
 "nbformat": 4,
 "nbformat_minor": 5
}
