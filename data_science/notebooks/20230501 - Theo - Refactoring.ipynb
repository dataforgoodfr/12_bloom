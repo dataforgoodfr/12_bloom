{
 "cells": [
  {
   "cell_type": "code",
   "execution_count": 46,
   "id": "d67631c5",
   "metadata": {
    "ExecuteTime": {
     "end_time": "2023-05-02T11:22:24.811808Z",
     "start_time": "2023-05-02T11:22:24.743133Z"
    }
   },
   "outputs": [
    {
     "name": "stdout",
     "output_type": "stream",
     "text": [
      "The autoreload extension is already loaded. To reload it, use:\n",
      "  %reload_ext autoreload\n"
     ]
    }
   ],
   "source": [
    "%load_ext autoreload\n",
    "%autoreload 2\n",
    "\n",
    "import sys\n",
    "sys.path.append(\"../\")\n",
    "\n",
    "import pandas as pd\n",
    "\n",
    "from trawlwatcher.zones.polygons import Polygons\n",
    "from trawlwatcher.zones.coastlines import Coastlines"
   ]
  },
  {
   "cell_type": "markdown",
   "id": "33856bb9",
   "metadata": {},
   "source": [
    "# Load vessels data"
   ]
  },
  {
   "cell_type": "code",
   "execution_count": 47,
   "id": "4cefc502",
   "metadata": {
    "ExecuteTime": {
     "end_time": "2023-05-02T11:22:24.863255Z",
     "start_time": "2023-05-02T11:22:24.815418Z"
    }
   },
   "outputs": [],
   "source": [
    "from trawlwatcher.data_loading_scripts.global_fishing_watch import load_global_fishing_watch_dataset\n",
    "from trawlwatcher.vessels.vessel import Vessel"
   ]
  },
  {
   "cell_type": "code",
   "execution_count": 97,
   "id": "98329b68",
   "metadata": {
    "ExecuteTime": {
     "end_time": "2023-05-02T11:23:16.547178Z",
     "start_time": "2023-05-02T11:22:24.866384Z"
    }
   },
   "outputs": [
    {
     "data": {
      "text/plain": [
       "Fleet(n_vessels=49)"
      ]
     },
     "execution_count": 97,
     "metadata": {},
     "output_type": "execute_result"
    }
   ],
   "source": [
    "vessels_path = \"../data/trawlers.csv\"\n",
    "\n",
    "fleet,df = load_global_fishing_watch_dataset(vessels_path)\n",
    "fleet.chunk_data(24*7)\n",
    "fleet"
   ]
  },
  {
   "cell_type": "code",
   "execution_count": 98,
   "id": "905234c6",
   "metadata": {
    "ExecuteTime": {
     "end_time": "2023-05-02T11:23:16.603821Z",
     "start_time": "2023-05-02T11:23:16.549723Z"
    }
   },
   "outputs": [
    {
     "data": {
      "text/plain": [
       "Vessel(n_points=134288,n_chunks=250)"
      ]
     },
     "execution_count": 98,
     "metadata": {},
     "output_type": "execute_result"
    }
   ],
   "source": [
    "v = fleet.tolist()[0]\n",
    "v"
   ]
  },
  {
   "cell_type": "code",
   "execution_count": 99,
   "id": "7414f134",
   "metadata": {
    "ExecuteTime": {
     "end_time": "2023-05-02T11:23:16.679171Z",
     "start_time": "2023-05-02T11:23:16.607180Z"
    }
   },
   "outputs": [
    {
     "data": {
      "text/plain": [
       "Vessel(n_points=22,n_chunks=1)"
      ]
     },
     "execution_count": 99,
     "metadata": {},
     "output_type": "execute_result"
    }
   ],
   "source": [
    "v2 = v.sample()\n",
    "v2"
   ]
  },
  {
   "cell_type": "code",
   "execution_count": 100,
   "id": "8c6bc8af",
   "metadata": {},
   "outputs": [
    {
     "data": {
      "text/plain": [
       "Vessel(n_points=4641,n_chunks=10)"
      ]
     },
     "execution_count": 100,
     "metadata": {},
     "output_type": "execute_result"
    }
   ],
   "source": [
    "v3 = v.sample(10)\n",
    "v3"
   ]
  },
  {
   "cell_type": "code",
   "execution_count": 101,
   "id": "2cc67001",
   "metadata": {},
   "outputs": [
    {
     "data": {
      "text/plain": [
       "Vessel(n_points=6318,n_chunks=1)"
      ]
     },
     "execution_count": 101,
     "metadata": {},
     "output_type": "execute_result"
    }
   ],
   "source": [
    "v4 = v.sample(10, reset_chunk_id=True)\n",
    "v4"
   ]
  },
  {
   "cell_type": "markdown",
   "id": "fb79cdd2",
   "metadata": {},
   "source": [
    "# Load zones"
   ]
  },
  {
   "cell_type": "code",
   "execution_count": 51,
   "id": "729ccd70",
   "metadata": {
    "ExecuteTime": {
     "end_time": "2023-05-02T11:26:06.643314Z",
     "start_time": "2023-05-02T11:23:26.839323Z"
    }
   },
   "outputs": [
    {
     "ename": "KeyboardInterrupt",
     "evalue": "",
     "output_type": "error",
     "traceback": [
      "\u001b[0;31m---------------------------------------------------------------------------\u001b[0m",
      "\u001b[0;31mKeyboardInterrupt\u001b[0m                         Traceback (most recent call last)",
      "File \u001b[0;32m<timed exec>:3\u001b[0m\n",
      "File \u001b[0;32m~/Documents/Github_repos/Bloom/data_science/notebooks/../trawlwatcher/zones/polygons.py:24\u001b[0m, in \u001b[0;36mPolygons.load_shp\u001b[0;34m(self, path)\u001b[0m\n\u001b[1;32m     23\u001b[0m \u001b[39mdef\u001b[39;00m \u001b[39mload_shp\u001b[39m(\u001b[39mself\u001b[39m,path):\n\u001b[0;32m---> 24\u001b[0m     \u001b[39mself\u001b[39m\u001b[39m.\u001b[39mdata \u001b[39m=\u001b[39m gpd\u001b[39m.\u001b[39;49mGeoDataFrame\u001b[39m.\u001b[39;49mfrom_file(path)\n",
      "File \u001b[0;32m~/mambaforge/lib/python3.10/site-packages/geopandas/geodataframe.py:556\u001b[0m, in \u001b[0;36mGeoDataFrame.from_file\u001b[0;34m(cls, filename, **kwargs)\u001b[0m\n\u001b[1;32m    507\u001b[0m \u001b[39m@classmethod\u001b[39m\n\u001b[1;32m    508\u001b[0m \u001b[39mdef\u001b[39;00m \u001b[39mfrom_file\u001b[39m(\u001b[39mcls\u001b[39m, filename, \u001b[39m*\u001b[39m\u001b[39m*\u001b[39mkwargs):\n\u001b[1;32m    509\u001b[0m \u001b[39m    \u001b[39m\u001b[39m\"\"\"Alternate constructor to create a ``GeoDataFrame`` from a file.\u001b[39;00m\n\u001b[1;32m    510\u001b[0m \n\u001b[1;32m    511\u001b[0m \u001b[39m    It is recommended to use :func:`geopandas.read_file` instead.\u001b[39;00m\n\u001b[0;32m   (...)\u001b[0m\n\u001b[1;32m    554\u001b[0m \n\u001b[1;32m    555\u001b[0m \u001b[39m    \"\"\"\u001b[39;00m\n\u001b[0;32m--> 556\u001b[0m     \u001b[39mreturn\u001b[39;00m geopandas\u001b[39m.\u001b[39;49mio\u001b[39m.\u001b[39;49mfile\u001b[39m.\u001b[39;49m_read_file(filename, \u001b[39m*\u001b[39;49m\u001b[39m*\u001b[39;49mkwargs)\n",
      "File \u001b[0;32m~/mambaforge/lib/python3.10/site-packages/geopandas/io/file.py:259\u001b[0m, in \u001b[0;36m_read_file\u001b[0;34m(filename, bbox, mask, rows, engine, **kwargs)\u001b[0m\n\u001b[1;32m    256\u001b[0m     path_or_bytes \u001b[39m=\u001b[39m filename\n\u001b[1;32m    258\u001b[0m \u001b[39mif\u001b[39;00m engine \u001b[39m==\u001b[39m \u001b[39m\"\u001b[39m\u001b[39mfiona\u001b[39m\u001b[39m\"\u001b[39m:\n\u001b[0;32m--> 259\u001b[0m     \u001b[39mreturn\u001b[39;00m _read_file_fiona(\n\u001b[1;32m    260\u001b[0m         path_or_bytes, from_bytes, bbox\u001b[39m=\u001b[39;49mbbox, mask\u001b[39m=\u001b[39;49mmask, rows\u001b[39m=\u001b[39;49mrows, \u001b[39m*\u001b[39;49m\u001b[39m*\u001b[39;49mkwargs\n\u001b[1;32m    261\u001b[0m     )\n\u001b[1;32m    262\u001b[0m \u001b[39melif\u001b[39;00m engine \u001b[39m==\u001b[39m \u001b[39m\"\u001b[39m\u001b[39mpyogrio\u001b[39m\u001b[39m\"\u001b[39m:\n\u001b[1;32m    263\u001b[0m     \u001b[39mreturn\u001b[39;00m _read_file_pyogrio(\n\u001b[1;32m    264\u001b[0m         path_or_bytes, bbox\u001b[39m=\u001b[39mbbox, mask\u001b[39m=\u001b[39mmask, rows\u001b[39m=\u001b[39mrows, \u001b[39m*\u001b[39m\u001b[39m*\u001b[39mkwargs\n\u001b[1;32m    265\u001b[0m     )\n",
      "File \u001b[0;32m~/mambaforge/lib/python3.10/site-packages/geopandas/io/file.py:360\u001b[0m, in \u001b[0;36m_read_file_fiona\u001b[0;34m(path_or_bytes, from_bytes, bbox, mask, rows, where, **kwargs)\u001b[0m\n\u001b[1;32m    356\u001b[0m     df \u001b[39m=\u001b[39m pd\u001b[39m.\u001b[39mDataFrame(\n\u001b[1;32m    357\u001b[0m         [record[\u001b[39m\"\u001b[39m\u001b[39mproperties\u001b[39m\u001b[39m\"\u001b[39m] \u001b[39mfor\u001b[39;00m record \u001b[39min\u001b[39;00m f_filt], columns\u001b[39m=\u001b[39mcolumns\n\u001b[1;32m    358\u001b[0m     )\n\u001b[1;32m    359\u001b[0m \u001b[39melse\u001b[39;00m:\n\u001b[0;32m--> 360\u001b[0m     df \u001b[39m=\u001b[39m GeoDataFrame\u001b[39m.\u001b[39;49mfrom_features(\n\u001b[1;32m    361\u001b[0m         f_filt, crs\u001b[39m=\u001b[39;49mcrs, columns\u001b[39m=\u001b[39;49mcolumns \u001b[39m+\u001b[39;49m [\u001b[39m\"\u001b[39;49m\u001b[39mgeometry\u001b[39;49m\u001b[39m\"\u001b[39;49m]\n\u001b[1;32m    362\u001b[0m     )\n\u001b[1;32m    363\u001b[0m \u001b[39mfor\u001b[39;00m k \u001b[39min\u001b[39;00m datetime_fields:\n\u001b[1;32m    364\u001b[0m     as_dt \u001b[39m=\u001b[39m pd\u001b[39m.\u001b[39mto_datetime(df[k], errors\u001b[39m=\u001b[39m\u001b[39m\"\u001b[39m\u001b[39mignore\u001b[39m\u001b[39m\"\u001b[39m)\n",
      "File \u001b[0;32m~/mambaforge/lib/python3.10/site-packages/geopandas/geodataframe.py:635\u001b[0m, in \u001b[0;36mGeoDataFrame.from_features\u001b[0;34m(cls, features, crs, columns)\u001b[0m\n\u001b[1;32m    632\u001b[0m \u001b[39mif\u001b[39;00m \u001b[39mhasattr\u001b[39m(feature, \u001b[39m\"\u001b[39m\u001b[39m__geo_interface__\u001b[39m\u001b[39m\"\u001b[39m):\n\u001b[1;32m    633\u001b[0m     feature \u001b[39m=\u001b[39m feature\u001b[39m.\u001b[39m__geo_interface__\n\u001b[1;32m    634\u001b[0m row \u001b[39m=\u001b[39m {\n\u001b[0;32m--> 635\u001b[0m     \u001b[39m\"\u001b[39m\u001b[39mgeometry\u001b[39m\u001b[39m\"\u001b[39m: shape(feature[\u001b[39m\"\u001b[39;49m\u001b[39mgeometry\u001b[39;49m\u001b[39m\"\u001b[39;49m]) \u001b[39mif\u001b[39;00m feature[\u001b[39m\"\u001b[39m\u001b[39mgeometry\u001b[39m\u001b[39m\"\u001b[39m] \u001b[39melse\u001b[39;00m \u001b[39mNone\u001b[39;00m\n\u001b[1;32m    636\u001b[0m }\n\u001b[1;32m    637\u001b[0m \u001b[39m# load properties\u001b[39;00m\n\u001b[1;32m    638\u001b[0m properties \u001b[39m=\u001b[39m feature[\u001b[39m\"\u001b[39m\u001b[39mproperties\u001b[39m\u001b[39m\"\u001b[39m]\n",
      "File \u001b[0;32m~/mambaforge/lib/python3.10/site-packages/shapely/geometry/geo.py:108\u001b[0m, in \u001b[0;36mshape\u001b[0;34m(context)\u001b[0m\n\u001b[1;32m    106\u001b[0m     \u001b[39mreturn\u001b[39;00m MultiLineString(ob[\u001b[39m\"\u001b[39m\u001b[39mcoordinates\u001b[39m\u001b[39m\"\u001b[39m])\n\u001b[1;32m    107\u001b[0m \u001b[39melif\u001b[39;00m geom_type \u001b[39m==\u001b[39m \u001b[39m\"\u001b[39m\u001b[39mmultipolygon\u001b[39m\u001b[39m\"\u001b[39m:\n\u001b[0;32m--> 108\u001b[0m     \u001b[39mreturn\u001b[39;00m MultiPolygon([[c[\u001b[39m0\u001b[39;49m], c[\u001b[39m1\u001b[39;49m:]] \u001b[39mfor\u001b[39;49;00m c \u001b[39min\u001b[39;49;00m ob[\u001b[39m\"\u001b[39;49m\u001b[39mcoordinates\u001b[39;49m\u001b[39m\"\u001b[39;49m]])\n\u001b[1;32m    109\u001b[0m \u001b[39melif\u001b[39;00m geom_type \u001b[39m==\u001b[39m \u001b[39m\"\u001b[39m\u001b[39mgeometrycollection\u001b[39m\u001b[39m\"\u001b[39m:\n\u001b[1;32m    110\u001b[0m     geoms \u001b[39m=\u001b[39m [shape(g) \u001b[39mfor\u001b[39;00m g \u001b[39min\u001b[39;00m ob\u001b[39m.\u001b[39mget(\u001b[39m\"\u001b[39m\u001b[39mgeometries\u001b[39m\u001b[39m\"\u001b[39m, [])]\n",
      "File \u001b[0;32m~/mambaforge/lib/python3.10/site-packages/shapely/geometry/multipolygon.py:81\u001b[0m, in \u001b[0;36mMultiPolygon.__new__\u001b[0;34m(self, polygons)\u001b[0m\n\u001b[1;32m     79\u001b[0m     shell \u001b[39m=\u001b[39m ob[\u001b[39m0\u001b[39m]\n\u001b[1;32m     80\u001b[0m     holes \u001b[39m=\u001b[39m ob[\u001b[39m1\u001b[39m]\n\u001b[0;32m---> 81\u001b[0m     p \u001b[39m=\u001b[39m polygon\u001b[39m.\u001b[39;49mPolygon(shell, holes)\n\u001b[1;32m     82\u001b[0m \u001b[39melse\u001b[39;00m:\n\u001b[1;32m     83\u001b[0m     p \u001b[39m=\u001b[39m polygon\u001b[39m.\u001b[39mPolygon(ob)\n",
      "File \u001b[0;32m~/mambaforge/lib/python3.10/site-packages/shapely/geometry/polygon.py:230\u001b[0m, in \u001b[0;36mPolygon.__new__\u001b[0;34m(self, shell, holes)\u001b[0m\n\u001b[1;32m    228\u001b[0m     \u001b[39mreturn\u001b[39;00m shell\n\u001b[1;32m    229\u001b[0m \u001b[39melse\u001b[39;00m:\n\u001b[0;32m--> 230\u001b[0m     shell \u001b[39m=\u001b[39m LinearRing(shell)\n\u001b[1;32m    232\u001b[0m \u001b[39mif\u001b[39;00m holes \u001b[39mis\u001b[39;00m \u001b[39mnot\u001b[39;00m \u001b[39mNone\u001b[39;00m:\n\u001b[1;32m    233\u001b[0m     \u001b[39mif\u001b[39;00m \u001b[39mlen\u001b[39m(holes) \u001b[39m==\u001b[39m \u001b[39m0\u001b[39m:\n\u001b[1;32m    234\u001b[0m         \u001b[39m# shapely constructor cannot handle holes=[]\u001b[39;00m\n",
      "File \u001b[0;32m~/mambaforge/lib/python3.10/site-packages/shapely/geometry/polygon.py:93\u001b[0m, in \u001b[0;36mLinearRing.__new__\u001b[0;34m(self, coordinates)\u001b[0m\n\u001b[1;32m     90\u001b[0m     \u001b[39melse\u001b[39;00m:\n\u001b[1;32m     91\u001b[0m         \u001b[39mreturn\u001b[39;00m [\u001b[39mfloat\u001b[39m(c) \u001b[39mfor\u001b[39;00m c \u001b[39min\u001b[39;00m o]\n\u001b[0;32m---> 93\u001b[0m coordinates \u001b[39m=\u001b[39m np\u001b[39m.\u001b[39marray([_coords(o) \u001b[39mfor\u001b[39;00m o \u001b[39min\u001b[39;00m coordinates])\n\u001b[1;32m     94\u001b[0m \u001b[39mif\u001b[39;00m \u001b[39mnot\u001b[39;00m np\u001b[39m.\u001b[39missubdtype(coordinates\u001b[39m.\u001b[39mdtype, np\u001b[39m.\u001b[39mnumber):\n\u001b[1;32m     95\u001b[0m     \u001b[39m# conversion of coords to 2D array failed, this might be due\u001b[39;00m\n\u001b[1;32m     96\u001b[0m     \u001b[39m# to inconsistent coordinate dimensionality\u001b[39;00m\n\u001b[1;32m     97\u001b[0m     \u001b[39mraise\u001b[39;00m \u001b[39mValueError\u001b[39;00m(\u001b[39m\"\u001b[39m\u001b[39mInconsistent coordinate dimensionality\u001b[39m\u001b[39m\"\u001b[39m)\n",
      "File \u001b[0;32m~/mambaforge/lib/python3.10/site-packages/shapely/geometry/polygon.py:93\u001b[0m, in \u001b[0;36m<listcomp>\u001b[0;34m(.0)\u001b[0m\n\u001b[1;32m     90\u001b[0m     \u001b[39melse\u001b[39;00m:\n\u001b[1;32m     91\u001b[0m         \u001b[39mreturn\u001b[39;00m [\u001b[39mfloat\u001b[39m(c) \u001b[39mfor\u001b[39;00m c \u001b[39min\u001b[39;00m o]\n\u001b[0;32m---> 93\u001b[0m coordinates \u001b[39m=\u001b[39m np\u001b[39m.\u001b[39marray([_coords(o) \u001b[39mfor\u001b[39;00m o \u001b[39min\u001b[39;00m coordinates])\n\u001b[1;32m     94\u001b[0m \u001b[39mif\u001b[39;00m \u001b[39mnot\u001b[39;00m np\u001b[39m.\u001b[39missubdtype(coordinates\u001b[39m.\u001b[39mdtype, np\u001b[39m.\u001b[39mnumber):\n\u001b[1;32m     95\u001b[0m     \u001b[39m# conversion of coords to 2D array failed, this might be due\u001b[39;00m\n\u001b[1;32m     96\u001b[0m     \u001b[39m# to inconsistent coordinate dimensionality\u001b[39;00m\n\u001b[1;32m     97\u001b[0m     \u001b[39mraise\u001b[39;00m \u001b[39mValueError\u001b[39;00m(\u001b[39m\"\u001b[39m\u001b[39mInconsistent coordinate dimensionality\u001b[39m\u001b[39m\"\u001b[39m)\n",
      "File \u001b[0;32m~/mambaforge/lib/python3.10/site-packages/shapely/geometry/polygon.py:91\u001b[0m, in \u001b[0;36mLinearRing.__new__.<locals>._coords\u001b[0;34m(o)\u001b[0m\n\u001b[1;32m     89\u001b[0m     \u001b[39mreturn\u001b[39;00m o\u001b[39m.\u001b[39mcoords[\u001b[39m0\u001b[39m]\n\u001b[1;32m     90\u001b[0m \u001b[39melse\u001b[39;00m:\n\u001b[0;32m---> 91\u001b[0m     \u001b[39mreturn\u001b[39;00m [\u001b[39mfloat\u001b[39m(c) \u001b[39mfor\u001b[39;00m c \u001b[39min\u001b[39;00m o]\n",
      "File \u001b[0;32m~/mambaforge/lib/python3.10/site-packages/shapely/geometry/polygon.py:91\u001b[0m, in \u001b[0;36m<listcomp>\u001b[0;34m(.0)\u001b[0m\n\u001b[1;32m     89\u001b[0m     \u001b[39mreturn\u001b[39;00m o\u001b[39m.\u001b[39mcoords[\u001b[39m0\u001b[39m]\n\u001b[1;32m     90\u001b[0m \u001b[39melse\u001b[39;00m:\n\u001b[0;32m---> 91\u001b[0m     \u001b[39mreturn\u001b[39;00m [\u001b[39mfloat\u001b[39m(c) \u001b[39mfor\u001b[39;00m c \u001b[39min\u001b[39;00m o]\n",
      "\u001b[0;31mKeyboardInterrupt\u001b[0m: "
     ]
    }
   ],
   "source": [
    "%%time\n",
    "path = '../data/Nonterrestrial_WDPA_Jan2023/Nonterrestrial_WDPA_Jan2023.shp'\n",
    "polygons = Polygons()\n",
    "polygons.load_shp(path)"
   ]
  },
  {
   "cell_type": "code",
   "execution_count": 44,
   "id": "45d5e93a",
   "metadata": {
    "ExecuteTime": {
     "end_time": "2023-05-02T11:05:00.634106Z",
     "start_time": "2023-05-02T11:05:00.579427Z"
    }
   },
   "outputs": [
    {
     "data": {
      "text/html": [
       "<div>\n",
       "<style scoped>\n",
       "    .dataframe tbody tr th:only-of-type {\n",
       "        vertical-align: middle;\n",
       "    }\n",
       "\n",
       "    .dataframe tbody tr th {\n",
       "        vertical-align: top;\n",
       "    }\n",
       "\n",
       "    .dataframe thead th {\n",
       "        text-align: right;\n",
       "    }\n",
       "</style>\n",
       "<table border=\"1\" class=\"dataframe\">\n",
       "  <thead>\n",
       "    <tr style=\"text-align: right;\">\n",
       "      <th></th>\n",
       "      <th>index</th>\n",
       "      <th>WDPAID</th>\n",
       "      <th>WDPA_PID</th>\n",
       "      <th>PA_DEF</th>\n",
       "      <th>NAME</th>\n",
       "      <th>ORIG_NAME</th>\n",
       "      <th>DESIG</th>\n",
       "      <th>DESIG_ENG</th>\n",
       "      <th>DESIG_TYPE</th>\n",
       "      <th>IUCN_CAT</th>\n",
       "      <th>...</th>\n",
       "      <th>MANG_AUTH</th>\n",
       "      <th>MANG_PLAN</th>\n",
       "      <th>VERIF</th>\n",
       "      <th>METADATAID</th>\n",
       "      <th>SUB_LOC</th>\n",
       "      <th>PARENT_ISO</th>\n",
       "      <th>ISO3</th>\n",
       "      <th>SUPP_INFO</th>\n",
       "      <th>CONS_OBJ</th>\n",
       "      <th>geometry</th>\n",
       "    </tr>\n",
       "  </thead>\n",
       "  <tbody>\n",
       "    <tr>\n",
       "      <th>0</th>\n",
       "      <td>0</td>\n",
       "      <td>1.0</td>\n",
       "      <td>1</td>\n",
       "      <td>1</td>\n",
       "      <td>Diamond Reef and Salt Fish Tail Reef</td>\n",
       "      <td>Diamond Reef</td>\n",
       "      <td>Marine Reserve</td>\n",
       "      <td>Marine Reserve</td>\n",
       "      <td>National</td>\n",
       "      <td>Ia</td>\n",
       "      <td>...</td>\n",
       "      <td>Fisheries Division</td>\n",
       "      <td>Not Reported</td>\n",
       "      <td>State Verified</td>\n",
       "      <td>1807</td>\n",
       "      <td>AG-04</td>\n",
       "      <td>ATG</td>\n",
       "      <td>ATG</td>\n",
       "      <td>Not Applicable</td>\n",
       "      <td>Not Applicable</td>\n",
       "      <td>POLYGON ((-61.82494 17.18497, -61.82497 17.184...</td>\n",
       "    </tr>\n",
       "    <tr>\n",
       "      <th>1</th>\n",
       "      <td>1</td>\n",
       "      <td>2.0</td>\n",
       "      <td>2</td>\n",
       "      <td>1</td>\n",
       "      <td>Palaster Reef</td>\n",
       "      <td>Palaster Reef</td>\n",
       "      <td>Marine Reserve</td>\n",
       "      <td>Marine Reserve</td>\n",
       "      <td>National</td>\n",
       "      <td>Ia</td>\n",
       "      <td>...</td>\n",
       "      <td>Fisheries Division</td>\n",
       "      <td>Not Reported</td>\n",
       "      <td>State Verified</td>\n",
       "      <td>1807</td>\n",
       "      <td>AG-10</td>\n",
       "      <td>ATG</td>\n",
       "      <td>ATG</td>\n",
       "      <td>Not Applicable</td>\n",
       "      <td>Not Applicable</td>\n",
       "      <td>POLYGON ((-61.74007 17.52001, -61.77174 17.526...</td>\n",
       "    </tr>\n",
       "    <tr>\n",
       "      <th>2</th>\n",
       "      <td>21</td>\n",
       "      <td>27.0</td>\n",
       "      <td>27</td>\n",
       "      <td>1</td>\n",
       "      <td>Folkstone</td>\n",
       "      <td>Folkstone</td>\n",
       "      <td>Marine Reserve</td>\n",
       "      <td>Marine Reserve</td>\n",
       "      <td>National</td>\n",
       "      <td>II</td>\n",
       "      <td>...</td>\n",
       "      <td>National Conservation Commission (NCC)</td>\n",
       "      <td>Not Reported</td>\n",
       "      <td>Not Reported</td>\n",
       "      <td>1867</td>\n",
       "      <td>Not Reported</td>\n",
       "      <td>BRB</td>\n",
       "      <td>BRB</td>\n",
       "      <td>Not Applicable</td>\n",
       "      <td>Not Applicable</td>\n",
       "      <td>POLYGON ((-59.63212 13.17370, -59.63263 13.168...</td>\n",
       "    </tr>\n",
       "    <tr>\n",
       "      <th>3</th>\n",
       "      <td>30</td>\n",
       "      <td>46.0</td>\n",
       "      <td>46</td>\n",
       "      <td>1</td>\n",
       "      <td>Reserva Biológica Atol Das Rocas</td>\n",
       "      <td>Reserva Biológica Atol Das Rocas</td>\n",
       "      <td>Reserva Biológica</td>\n",
       "      <td>Biological Reserve</td>\n",
       "      <td>National</td>\n",
       "      <td>Ia</td>\n",
       "      <td>...</td>\n",
       "      <td>Instituto Chico Mendes de Conservação da Biodi...</td>\n",
       "      <td>Not Reported</td>\n",
       "      <td>State Verified</td>\n",
       "      <td>1802</td>\n",
       "      <td>BR-RN</td>\n",
       "      <td>BRA</td>\n",
       "      <td>BRA</td>\n",
       "      <td>Not Applicable</td>\n",
       "      <td>Not Applicable</td>\n",
       "      <td>POLYGON ((-33.92124 -3.83378, -33.92114 -3.833...</td>\n",
       "    </tr>\n",
       "    <tr>\n",
       "      <th>4</th>\n",
       "      <td>40</td>\n",
       "      <td>57.0</td>\n",
       "      <td>57</td>\n",
       "      <td>1</td>\n",
       "      <td>Parque Nacional Do Cabo Orange</td>\n",
       "      <td>Parque Nacional Do Cabo Orange</td>\n",
       "      <td>Parque</td>\n",
       "      <td>Park</td>\n",
       "      <td>National</td>\n",
       "      <td>II</td>\n",
       "      <td>...</td>\n",
       "      <td>Instituto Chico Mendes de Conservação da Biodi...</td>\n",
       "      <td>Not Reported</td>\n",
       "      <td>State Verified</td>\n",
       "      <td>1802</td>\n",
       "      <td>BR-AP</td>\n",
       "      <td>BRA</td>\n",
       "      <td>BRA</td>\n",
       "      <td>Not Applicable</td>\n",
       "      <td>Not Applicable</td>\n",
       "      <td>POLYGON ((-50.85383 2.81366, -50.85444 2.81362...</td>\n",
       "    </tr>\n",
       "  </tbody>\n",
       "</table>\n",
       "<p>5 rows × 32 columns</p>\n",
       "</div>"
      ],
      "text/plain": [
       "   index  WDPAID WDPA_PID PA_DEF                                  NAME   \n",
       "0      0     1.0        1      1  Diamond Reef and Salt Fish Tail Reef  \\\n",
       "1      1     2.0        2      1                         Palaster Reef   \n",
       "2     21    27.0       27      1                             Folkstone   \n",
       "3     30    46.0       46      1      Reserva Biológica Atol Das Rocas   \n",
       "4     40    57.0       57      1        Parque Nacional Do Cabo Orange   \n",
       "\n",
       "                          ORIG_NAME              DESIG           DESIG_ENG   \n",
       "0                      Diamond Reef     Marine Reserve      Marine Reserve  \\\n",
       "1                     Palaster Reef     Marine Reserve      Marine Reserve   \n",
       "2                         Folkstone     Marine Reserve      Marine Reserve   \n",
       "3  Reserva Biológica Atol Das Rocas  Reserva Biológica  Biological Reserve   \n",
       "4    Parque Nacional Do Cabo Orange             Parque                Park   \n",
       "\n",
       "  DESIG_TYPE IUCN_CAT  ...                                          MANG_AUTH   \n",
       "0   National       Ia  ...                                 Fisheries Division  \\\n",
       "1   National       Ia  ...                                 Fisheries Division   \n",
       "2   National       II  ...             National Conservation Commission (NCC)   \n",
       "3   National       Ia  ...  Instituto Chico Mendes de Conservação da Biodi...   \n",
       "4   National       II  ...  Instituto Chico Mendes de Conservação da Biodi...   \n",
       "\n",
       "      MANG_PLAN           VERIF  METADATAID       SUB_LOC  PARENT_ISO ISO3   \n",
       "0  Not Reported  State Verified        1807         AG-04         ATG  ATG  \\\n",
       "1  Not Reported  State Verified        1807         AG-10         ATG  ATG   \n",
       "2  Not Reported    Not Reported        1867  Not Reported         BRB  BRB   \n",
       "3  Not Reported  State Verified        1802         BR-RN         BRA  BRA   \n",
       "4  Not Reported  State Verified        1802         BR-AP         BRA  BRA   \n",
       "\n",
       "        SUPP_INFO        CONS_OBJ   \n",
       "0  Not Applicable  Not Applicable  \\\n",
       "1  Not Applicable  Not Applicable   \n",
       "2  Not Applicable  Not Applicable   \n",
       "3  Not Applicable  Not Applicable   \n",
       "4  Not Applicable  Not Applicable   \n",
       "\n",
       "                                            geometry  \n",
       "0  POLYGON ((-61.82494 17.18497, -61.82497 17.184...  \n",
       "1  POLYGON ((-61.74007 17.52001, -61.77174 17.526...  \n",
       "2  POLYGON ((-59.63212 13.17370, -59.63263 13.168...  \n",
       "3  POLYGON ((-33.92124 -3.83378, -33.92114 -3.833...  \n",
       "4  POLYGON ((-50.85383 2.81366, -50.85444 2.81362...  \n",
       "\n",
       "[5 rows x 32 columns]"
      ]
     },
     "execution_count": 44,
     "metadata": {},
     "output_type": "execute_result"
    }
   ],
   "source": [
    "polygons.data.head()"
   ]
  },
  {
   "cell_type": "markdown",
   "id": "9a011a10",
   "metadata": {},
   "source": [
    "# Visualize zones"
   ]
  },
  {
   "cell_type": "code",
   "execution_count": 45,
   "id": "c89deb44",
   "metadata": {
    "ExecuteTime": {
     "end_time": "2023-05-02T11:13:25.110766Z",
     "start_time": "2023-05-02T11:13:23.837838Z"
    },
    "scrolled": false
   },
   "outputs": [
    {
     "ename": "NameError",
     "evalue": "name 'polygons_fra' is not defined",
     "output_type": "error",
     "traceback": [
      "\u001b[0;31m---------------------------------------------------------------------------\u001b[0m",
      "\u001b[0;31mNameError\u001b[0m                                 Traceback (most recent call last)",
      "Cell \u001b[0;32mIn[45], line 2\u001b[0m\n\u001b[1;32m      1\u001b[0m \u001b[39mfor\u001b[39;00m vessel \u001b[39min\u001b[39;00m fleet\u001b[39m.\u001b[39mtolist():\n\u001b[0;32m----> 2\u001b[0m     \u001b[39mprint\u001b[39m(\u001b[39mlen\u001b[39m(v\u001b[39m.\u001b[39mdata\u001b[39m.\u001b[39msjoin(polygons_fra\u001b[39m.\u001b[39mdata,how \u001b[39m=\u001b[39m \u001b[39m\"\u001b[39m\u001b[39minner\u001b[39m\u001b[39m\"\u001b[39m)))\n",
      "\u001b[0;31mNameError\u001b[0m: name 'polygons_fra' is not defined"
     ]
    }
   ],
   "source": [
    "for vessel in fleet.tolist():\n",
    "    print(len(v.data.sjoin(polygons_fra.data,how = \"inner\")))"
   ]
  },
  {
   "cell_type": "code",
   "execution_count": null,
   "id": "a34ae6e5",
   "metadata": {},
   "outputs": [],
   "source": []
  }
 ],
 "metadata": {
  "kernelspec": {
   "display_name": "Python 3 (ipykernel)",
   "language": "python",
   "name": "python3"
  },
  "language_info": {
   "codemirror_mode": {
    "name": "ipython",
    "version": 3
   },
   "file_extension": ".py",
   "mimetype": "text/x-python",
   "name": "python",
   "nbconvert_exporter": "python",
   "pygments_lexer": "ipython3",
   "version": "3.10.10"
  },
  "toc": {
   "base_numbering": 1,
   "nav_menu": {},
   "number_sections": true,
   "sideBar": true,
   "skip_h1_title": false,
   "title_cell": "Table of Contents",
   "title_sidebar": "Contents",
   "toc_cell": false,
   "toc_position": {},
   "toc_section_display": true,
   "toc_window_display": false
  }
 },
 "nbformat": 4,
 "nbformat_minor": 5
}
