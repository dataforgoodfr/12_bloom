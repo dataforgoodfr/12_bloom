{
 "cells": [
  {
   "cell_type": "code",
   "execution_count": 3,
   "id": "d67631c5",
   "metadata": {
    "ExecuteTime": {
     "end_time": "2023-05-02T11:22:24.811808Z",
     "start_time": "2023-05-02T11:22:24.743133Z"
    }
   },
   "outputs": [
    {
     "name": "stdout",
     "output_type": "stream",
     "text": [
      "The autoreload extension is already loaded. To reload it, use:\n",
      "  %reload_ext autoreload\n"
     ]
    }
   ],
   "source": [
    "%load_ext autoreload\n",
    "%autoreload 2\n",
    "\n",
    "import sys\n",
    "sys.path.append(\"../\")\n",
    "\n",
    "import pandas as pd\n",
    "\n",
    "from trawlwatcher.zones.polygons import Polygons\n",
    "from trawlwatcher.zones.coastlines import Coastlines"
   ]
  },
  {
   "cell_type": "markdown",
   "id": "33856bb9",
   "metadata": {},
   "source": [
    "# Load vessels data"
   ]
  },
  {
   "cell_type": "code",
   "execution_count": 4,
   "id": "4cefc502",
   "metadata": {
    "ExecuteTime": {
     "end_time": "2023-05-02T11:22:24.863255Z",
     "start_time": "2023-05-02T11:22:24.815418Z"
    }
   },
   "outputs": [],
   "source": [
    "from trawlwatcher.data_loading_scripts.global_fishing_watch import load_global_fishing_watch_dataset\n",
    "from trawlwatcher.vessels.vessel import Vessel"
   ]
  },
  {
   "cell_type": "code",
   "execution_count": 5,
   "id": "98329b68",
   "metadata": {
    "ExecuteTime": {
     "end_time": "2023-05-02T11:23:16.547178Z",
     "start_time": "2023-05-02T11:22:24.866384Z"
    }
   },
   "outputs": [
    {
     "data": {
      "text/plain": [
       "Fleet(n_vessels=49)"
      ]
     },
     "execution_count": 5,
     "metadata": {},
     "output_type": "execute_result"
    }
   ],
   "source": [
    "vessels_path = \"../data/trawlers.csv\"\n",
    "\n",
    "fleet,df = load_global_fishing_watch_dataset(vessels_path)\n",
    "fleet.chunk_data(24*7)\n",
    "fleet"
   ]
  },
  {
   "cell_type": "code",
   "execution_count": 6,
   "id": "905234c6",
   "metadata": {
    "ExecuteTime": {
     "end_time": "2023-05-02T11:23:16.603821Z",
     "start_time": "2023-05-02T11:23:16.549723Z"
    }
   },
   "outputs": [
    {
     "data": {
      "text/plain": [
       "Vessel(n_points=134288,n_chunks=250)"
      ]
     },
     "execution_count": 6,
     "metadata": {},
     "output_type": "execute_result"
    }
   ],
   "source": [
    "v = fleet.tolist()[0]\n",
    "v"
   ]
  },
  {
   "cell_type": "code",
   "execution_count": 7,
   "id": "7414f134",
   "metadata": {
    "ExecuteTime": {
     "end_time": "2023-05-02T11:23:16.679171Z",
     "start_time": "2023-05-02T11:23:16.607180Z"
    }
   },
   "outputs": [
    {
     "data": {
      "text/plain": [
       "Vessel(n_points=111,n_chunks=1)"
      ]
     },
     "execution_count": 7,
     "metadata": {},
     "output_type": "execute_result"
    }
   ],
   "source": [
    "v2 = v.sample()\n",
    "v2"
   ]
  },
  {
   "cell_type": "markdown",
   "id": "fb79cdd2",
   "metadata": {},
   "source": [
    "# Load zones"
   ]
  },
  {
   "cell_type": "code",
   "execution_count": 10,
   "id": "729ccd70",
   "metadata": {
    "ExecuteTime": {
     "end_time": "2023-05-02T11:26:06.643314Z",
     "start_time": "2023-05-02T11:23:26.839323Z"
    }
   },
   "outputs": [
    {
     "ename": "DriverError",
     "evalue": "../data/Nonterrestrial_WDPA_Jan2023/Nonterrestrial_WDPA_Jan2023.shp: No such file or directory",
     "output_type": "error",
     "traceback": [
      "\u001b[0;31m---------------------------------------------------------------------------\u001b[0m",
      "\u001b[0;31mCPLE_OpenFailedError\u001b[0m                      Traceback (most recent call last)",
      "File \u001b[0;32mfiona/ogrext.pyx:136\u001b[0m, in \u001b[0;36mfiona.ogrext.gdal_open_vector\u001b[0;34m()\u001b[0m\n",
      "File \u001b[0;32mfiona/_err.pyx:291\u001b[0m, in \u001b[0;36mfiona._err.exc_wrap_pointer\u001b[0;34m()\u001b[0m\n",
      "\u001b[0;31mCPLE_OpenFailedError\u001b[0m: ../data/Nonterrestrial_WDPA_Jan2023/Nonterrestrial_WDPA_Jan2023.shp: No such file or directory",
      "\nDuring handling of the above exception, another exception occurred:\n",
      "\u001b[0;31mDriverError\u001b[0m                               Traceback (most recent call last)",
      "File \u001b[0;32m<timed exec>:3\u001b[0m\n",
      "File \u001b[0;32m~/Documents/Github_repos/Bloom/data_science/notebooks/../trawlwatcher/zones/polygons.py:24\u001b[0m, in \u001b[0;36mPolygons.load_shp\u001b[0;34m(self, path)\u001b[0m\n\u001b[1;32m     23\u001b[0m \u001b[39mdef\u001b[39;00m \u001b[39mload_shp\u001b[39m(\u001b[39mself\u001b[39m,path):\n\u001b[0;32m---> 24\u001b[0m     \u001b[39mself\u001b[39m\u001b[39m.\u001b[39mdata \u001b[39m=\u001b[39m gpd\u001b[39m.\u001b[39;49mGeoDataFrame\u001b[39m.\u001b[39;49mfrom_file(path)\n",
      "File \u001b[0;32m~/mambaforge/lib/python3.10/site-packages/geopandas/geodataframe.py:556\u001b[0m, in \u001b[0;36mGeoDataFrame.from_file\u001b[0;34m(cls, filename, **kwargs)\u001b[0m\n\u001b[1;32m    507\u001b[0m \u001b[39m@classmethod\u001b[39m\n\u001b[1;32m    508\u001b[0m \u001b[39mdef\u001b[39;00m \u001b[39mfrom_file\u001b[39m(\u001b[39mcls\u001b[39m, filename, \u001b[39m*\u001b[39m\u001b[39m*\u001b[39mkwargs):\n\u001b[1;32m    509\u001b[0m \u001b[39m    \u001b[39m\u001b[39m\"\"\"Alternate constructor to create a ``GeoDataFrame`` from a file.\u001b[39;00m\n\u001b[1;32m    510\u001b[0m \n\u001b[1;32m    511\u001b[0m \u001b[39m    It is recommended to use :func:`geopandas.read_file` instead.\u001b[39;00m\n\u001b[0;32m   (...)\u001b[0m\n\u001b[1;32m    554\u001b[0m \n\u001b[1;32m    555\u001b[0m \u001b[39m    \"\"\"\u001b[39;00m\n\u001b[0;32m--> 556\u001b[0m     \u001b[39mreturn\u001b[39;00m geopandas\u001b[39m.\u001b[39;49mio\u001b[39m.\u001b[39;49mfile\u001b[39m.\u001b[39;49m_read_file(filename, \u001b[39m*\u001b[39;49m\u001b[39m*\u001b[39;49mkwargs)\n",
      "File \u001b[0;32m~/mambaforge/lib/python3.10/site-packages/geopandas/io/file.py:259\u001b[0m, in \u001b[0;36m_read_file\u001b[0;34m(filename, bbox, mask, rows, engine, **kwargs)\u001b[0m\n\u001b[1;32m    256\u001b[0m     path_or_bytes \u001b[39m=\u001b[39m filename\n\u001b[1;32m    258\u001b[0m \u001b[39mif\u001b[39;00m engine \u001b[39m==\u001b[39m \u001b[39m\"\u001b[39m\u001b[39mfiona\u001b[39m\u001b[39m\"\u001b[39m:\n\u001b[0;32m--> 259\u001b[0m     \u001b[39mreturn\u001b[39;00m _read_file_fiona(\n\u001b[1;32m    260\u001b[0m         path_or_bytes, from_bytes, bbox\u001b[39m=\u001b[39;49mbbox, mask\u001b[39m=\u001b[39;49mmask, rows\u001b[39m=\u001b[39;49mrows, \u001b[39m*\u001b[39;49m\u001b[39m*\u001b[39;49mkwargs\n\u001b[1;32m    261\u001b[0m     )\n\u001b[1;32m    262\u001b[0m \u001b[39melif\u001b[39;00m engine \u001b[39m==\u001b[39m \u001b[39m\"\u001b[39m\u001b[39mpyogrio\u001b[39m\u001b[39m\"\u001b[39m:\n\u001b[1;32m    263\u001b[0m     \u001b[39mreturn\u001b[39;00m _read_file_pyogrio(\n\u001b[1;32m    264\u001b[0m         path_or_bytes, bbox\u001b[39m=\u001b[39mbbox, mask\u001b[39m=\u001b[39mmask, rows\u001b[39m=\u001b[39mrows, \u001b[39m*\u001b[39m\u001b[39m*\u001b[39mkwargs\n\u001b[1;32m    265\u001b[0m     )\n",
      "File \u001b[0;32m~/mambaforge/lib/python3.10/site-packages/geopandas/io/file.py:303\u001b[0m, in \u001b[0;36m_read_file_fiona\u001b[0;34m(path_or_bytes, from_bytes, bbox, mask, rows, where, **kwargs)\u001b[0m\n\u001b[1;32m    300\u001b[0m     reader \u001b[39m=\u001b[39m fiona\u001b[39m.\u001b[39mopen\n\u001b[1;32m    302\u001b[0m \u001b[39mwith\u001b[39;00m fiona_env():\n\u001b[0;32m--> 303\u001b[0m     \u001b[39mwith\u001b[39;00m reader(path_or_bytes, \u001b[39m*\u001b[39;49m\u001b[39m*\u001b[39;49mkwargs) \u001b[39mas\u001b[39;00m features:\n\u001b[1;32m    304\u001b[0m         crs \u001b[39m=\u001b[39m features\u001b[39m.\u001b[39mcrs_wkt\n\u001b[1;32m    305\u001b[0m         \u001b[39m# attempt to get EPSG code\u001b[39;00m\n",
      "File \u001b[0;32m~/mambaforge/lib/python3.10/site-packages/fiona/env.py:457\u001b[0m, in \u001b[0;36mensure_env_with_credentials.<locals>.wrapper\u001b[0;34m(*args, **kwds)\u001b[0m\n\u001b[1;32m    454\u001b[0m     session \u001b[39m=\u001b[39m DummySession()\n\u001b[1;32m    456\u001b[0m \u001b[39mwith\u001b[39;00m env_ctor(session\u001b[39m=\u001b[39msession):\n\u001b[0;32m--> 457\u001b[0m     \u001b[39mreturn\u001b[39;00m f(\u001b[39m*\u001b[39;49margs, \u001b[39m*\u001b[39;49m\u001b[39m*\u001b[39;49mkwds)\n",
      "File \u001b[0;32m~/mambaforge/lib/python3.10/site-packages/fiona/__init__.py:336\u001b[0m, in \u001b[0;36mopen\u001b[0;34m(fp, mode, driver, schema, crs, encoding, layer, vfs, enabled_drivers, crs_wkt, allow_unsupported_drivers, **kwargs)\u001b[0m\n\u001b[1;32m    333\u001b[0m     path \u001b[39m=\u001b[39m parse_path(fp)\n\u001b[1;32m    335\u001b[0m \u001b[39mif\u001b[39;00m mode \u001b[39min\u001b[39;00m (\u001b[39m\"\u001b[39m\u001b[39ma\u001b[39m\u001b[39m\"\u001b[39m, \u001b[39m\"\u001b[39m\u001b[39mr\u001b[39m\u001b[39m\"\u001b[39m):\n\u001b[0;32m--> 336\u001b[0m     colxn \u001b[39m=\u001b[39m Collection(\n\u001b[1;32m    337\u001b[0m         path,\n\u001b[1;32m    338\u001b[0m         mode,\n\u001b[1;32m    339\u001b[0m         driver\u001b[39m=\u001b[39;49mdriver,\n\u001b[1;32m    340\u001b[0m         encoding\u001b[39m=\u001b[39;49mencoding,\n\u001b[1;32m    341\u001b[0m         layer\u001b[39m=\u001b[39;49mlayer,\n\u001b[1;32m    342\u001b[0m         enabled_drivers\u001b[39m=\u001b[39;49menabled_drivers,\n\u001b[1;32m    343\u001b[0m         allow_unsupported_drivers\u001b[39m=\u001b[39;49mallow_unsupported_drivers,\n\u001b[1;32m    344\u001b[0m         \u001b[39m*\u001b[39;49m\u001b[39m*\u001b[39;49mkwargs\n\u001b[1;32m    345\u001b[0m     )\n\u001b[1;32m    346\u001b[0m \u001b[39melif\u001b[39;00m mode \u001b[39m==\u001b[39m \u001b[39m\"\u001b[39m\u001b[39mw\u001b[39m\u001b[39m\"\u001b[39m:\n\u001b[1;32m    347\u001b[0m     colxn \u001b[39m=\u001b[39m Collection(\n\u001b[1;32m    348\u001b[0m         path,\n\u001b[1;32m    349\u001b[0m         mode,\n\u001b[0;32m   (...)\u001b[0m\n\u001b[1;32m    358\u001b[0m         \u001b[39m*\u001b[39m\u001b[39m*\u001b[39mkwargs\n\u001b[1;32m    359\u001b[0m     )\n",
      "File \u001b[0;32m~/mambaforge/lib/python3.10/site-packages/fiona/collection.py:243\u001b[0m, in \u001b[0;36mCollection.__init__\u001b[0;34m(self, path, mode, driver, schema, crs, encoding, layer, vsi, archive, enabled_drivers, crs_wkt, ignore_fields, ignore_geometry, include_fields, wkt_version, allow_unsupported_drivers, **kwargs)\u001b[0m\n\u001b[1;32m    241\u001b[0m \u001b[39mif\u001b[39;00m \u001b[39mself\u001b[39m\u001b[39m.\u001b[39mmode \u001b[39m==\u001b[39m \u001b[39m\"\u001b[39m\u001b[39mr\u001b[39m\u001b[39m\"\u001b[39m:\n\u001b[1;32m    242\u001b[0m     \u001b[39mself\u001b[39m\u001b[39m.\u001b[39msession \u001b[39m=\u001b[39m Session()\n\u001b[0;32m--> 243\u001b[0m     \u001b[39mself\u001b[39;49m\u001b[39m.\u001b[39;49msession\u001b[39m.\u001b[39;49mstart(\u001b[39mself\u001b[39;49m, \u001b[39m*\u001b[39;49m\u001b[39m*\u001b[39;49mkwargs)\n\u001b[1;32m    244\u001b[0m \u001b[39melif\u001b[39;00m \u001b[39mself\u001b[39m\u001b[39m.\u001b[39mmode \u001b[39min\u001b[39;00m (\u001b[39m\"\u001b[39m\u001b[39ma\u001b[39m\u001b[39m\"\u001b[39m, \u001b[39m\"\u001b[39m\u001b[39mw\u001b[39m\u001b[39m\"\u001b[39m):\n\u001b[1;32m    245\u001b[0m     \u001b[39mself\u001b[39m\u001b[39m.\u001b[39msession \u001b[39m=\u001b[39m WritingSession()\n",
      "File \u001b[0;32mfiona/ogrext.pyx:588\u001b[0m, in \u001b[0;36mfiona.ogrext.Session.start\u001b[0;34m()\u001b[0m\n",
      "File \u001b[0;32mfiona/ogrext.pyx:143\u001b[0m, in \u001b[0;36mfiona.ogrext.gdal_open_vector\u001b[0;34m()\u001b[0m\n",
      "\u001b[0;31mDriverError\u001b[0m: ../data/Nonterrestrial_WDPA_Jan2023/Nonterrestrial_WDPA_Jan2023.shp: No such file or directory"
     ]
    }
   ],
   "source": [
    "%%time\n",
    "path = '../data/Nonterrestrial_WDPA_Jan2023/Nonterrestrial_WDPA_Jan2023.shp'\n",
    "polygons = Polygons()\n",
    "polygons.load_shp(path)"
   ]
  },
  {
   "cell_type": "code",
   "execution_count": null,
   "id": "45d5e93a",
   "metadata": {
    "ExecuteTime": {
     "end_time": "2023-05-02T11:05:00.634106Z",
     "start_time": "2023-05-02T11:05:00.579427Z"
    }
   },
   "outputs": [
    {
     "data": {
      "text/html": [
       "<div>\n",
       "<style scoped>\n",
       "    .dataframe tbody tr th:only-of-type {\n",
       "        vertical-align: middle;\n",
       "    }\n",
       "\n",
       "    .dataframe tbody tr th {\n",
       "        vertical-align: top;\n",
       "    }\n",
       "\n",
       "    .dataframe thead th {\n",
       "        text-align: right;\n",
       "    }\n",
       "</style>\n",
       "<table border=\"1\" class=\"dataframe\">\n",
       "  <thead>\n",
       "    <tr style=\"text-align: right;\">\n",
       "      <th></th>\n",
       "      <th>type_de_reglementation</th>\n",
       "      <th>thematique</th>\n",
       "      <th>zone</th>\n",
       "      <th>reglementations</th>\n",
       "      <th>geometry</th>\n",
       "    </tr>\n",
       "  </thead>\n",
       "  <tbody>\n",
       "    <tr>\n",
       "      <th>0</th>\n",
       "      <td>Reg. NAMO</td>\n",
       "      <td>Côtes d'Armor - CSJ</td>\n",
       "      <td>Banc de Maërl - Zone interdite à la pêche</td>\n",
       "      <td>Arrêté Préfectoral R3-2022-09-15-00004 - Délib...</td>\n",
       "      <td>MULTIPOLYGON (((-382286.716 6246983.302, -3801...</td>\n",
       "    </tr>\n",
       "    <tr>\n",
       "      <th>1</th>\n",
       "      <td>Reg. NAMO</td>\n",
       "      <td>Côtes d'Armor - CSJ - plongée</td>\n",
       "      <td>Gisement Rance Côte d'Armor soumis à licence</td>\n",
       "      <td>Arrêté Préfectoral R53-2022-09-22-00003 - déli...</td>\n",
       "      <td>MULTIPOLYGON (((-222947.550 6202453.325, -2228...</td>\n",
       "    </tr>\n",
       "    <tr>\n",
       "      <th>2</th>\n",
       "      <td>Reg. NAMO</td>\n",
       "      <td>Côtes d'Armor - CSJ - plongée</td>\n",
       "      <td>Gisement Rance de Saint-Malo soumis à licence ...</td>\n",
       "      <td>Arrêté Préfectoral R3-2022-09-15-00001 - Délib...</td>\n",
       "      <td>MULTIPOLYGON (((-225203.508 6210050.087, -2251...</td>\n",
       "    </tr>\n",
       "    <tr>\n",
       "      <th>3</th>\n",
       "      <td>Reg. NAMO</td>\n",
       "      <td>Lorient - CSJ - Dragues</td>\n",
       "      <td>Lorient-Groix - pêche soumise à une licence</td>\n",
       "      <td>Arrêté Préfectoral R53-2019-04-18-006 / Délib ...</td>\n",
       "      <td>MULTIPOLYGON (((-380499.660 6046345.270, -3805...</td>\n",
       "    </tr>\n",
       "    <tr>\n",
       "      <th>4</th>\n",
       "      <td>Reg. NAMO</td>\n",
       "      <td>Lorient - CSJ - Dragues</td>\n",
       "      <td>Banc de Maërl - interdiction de pêche</td>\n",
       "      <td>Arrêté Préfectoral R53-2019-04-18-006 / Délib ...</td>\n",
       "      <td>MULTIPOLYGON (((-382531.619 6048444.344, -3824...</td>\n",
       "    </tr>\n",
       "  </tbody>\n",
       "</table>\n",
       "</div>"
      ],
      "text/plain": [
       "  type_de_reglementation                     thematique  \\\n",
       "0              Reg. NAMO            Côtes d'Armor - CSJ   \n",
       "1              Reg. NAMO  Côtes d'Armor - CSJ - plongée   \n",
       "2              Reg. NAMO  Côtes d'Armor - CSJ - plongée   \n",
       "3              Reg. NAMO        Lorient - CSJ - Dragues   \n",
       "4              Reg. NAMO        Lorient - CSJ - Dragues   \n",
       "\n",
       "                                                zone  \\\n",
       "0          Banc de Maërl - Zone interdite à la pêche   \n",
       "1       Gisement Rance Côte d'Armor soumis à licence   \n",
       "2  Gisement Rance de Saint-Malo soumis à licence ...   \n",
       "3        Lorient-Groix - pêche soumise à une licence   \n",
       "4              Banc de Maërl - interdiction de pêche   \n",
       "\n",
       "                                     reglementations  \\\n",
       "0  Arrêté Préfectoral R3-2022-09-15-00004 - Délib...   \n",
       "1  Arrêté Préfectoral R53-2022-09-22-00003 - déli...   \n",
       "2  Arrêté Préfectoral R3-2022-09-15-00001 - Délib...   \n",
       "3  Arrêté Préfectoral R53-2019-04-18-006 / Délib ...   \n",
       "4  Arrêté Préfectoral R53-2019-04-18-006 / Délib ...   \n",
       "\n",
       "                                            geometry  \n",
       "0  MULTIPOLYGON (((-382286.716 6246983.302, -3801...  \n",
       "1  MULTIPOLYGON (((-222947.550 6202453.325, -2228...  \n",
       "2  MULTIPOLYGON (((-225203.508 6210050.087, -2251...  \n",
       "3  MULTIPOLYGON (((-380499.660 6046345.270, -3805...  \n",
       "4  MULTIPOLYGON (((-382531.619 6048444.344, -3824...  "
      ]
     },
     "execution_count": 248,
     "metadata": {},
     "output_type": "execute_result"
    }
   ],
   "source": [
    "polygons.data.head()"
   ]
  },
  {
   "cell_type": "markdown",
   "id": "9a011a10",
   "metadata": {},
   "source": [
    "# Visualize zones"
   ]
  },
  {
   "cell_type": "code",
   "execution_count": null,
   "id": "c89deb44",
   "metadata": {
    "ExecuteTime": {
     "end_time": "2023-05-02T11:13:25.110766Z",
     "start_time": "2023-05-02T11:13:23.837838Z"
    },
    "scrolled": false
   },
   "outputs": [
    {
     "name": "stdout",
     "output_type": "stream",
     "text": [
      "0\n",
      "0\n",
      "0\n",
      "0\n",
      "0\n",
      "0\n",
      "0\n",
      "0\n",
      "0\n",
      "0\n",
      "0\n",
      "0\n",
      "0\n",
      "0\n",
      "0\n",
      "0\n",
      "0\n",
      "0\n",
      "0\n",
      "0\n",
      "0\n",
      "0\n",
      "0\n",
      "0\n",
      "0\n",
      "0\n",
      "0\n",
      "0\n",
      "0\n",
      "0\n",
      "0\n",
      "0\n",
      "0\n",
      "0\n",
      "0\n",
      "0\n",
      "0\n",
      "0\n",
      "0\n",
      "0\n",
      "0\n",
      "0\n",
      "0\n",
      "0\n",
      "0\n",
      "0\n",
      "0\n",
      "0\n",
      "0\n"
     ]
    }
   ],
   "source": [
    "for vessel in fleet.tolist():\n",
    "    print(len(v.data.sjoin(polygons_fra.data,how = \"inner\")))"
   ]
  },
  {
   "cell_type": "code",
   "execution_count": null,
   "id": "a34ae6e5",
   "metadata": {},
   "outputs": [],
   "source": []
  }
 ],
 "metadata": {
  "kernelspec": {
   "display_name": "Python 3 (ipykernel)",
   "language": "python",
   "name": "python3"
  },
  "language_info": {
   "codemirror_mode": {
    "name": "ipython",
    "version": 3
   },
   "file_extension": ".py",
   "mimetype": "text/x-python",
   "name": "python",
   "nbconvert_exporter": "python",
   "pygments_lexer": "ipython3",
   "version": "3.10.10"
  },
  "toc": {
   "base_numbering": 1,
   "nav_menu": {},
   "number_sections": true,
   "sideBar": true,
   "skip_h1_title": false,
   "title_cell": "Table of Contents",
   "title_sidebar": "Contents",
   "toc_cell": false,
   "toc_position": {},
   "toc_section_display": true,
   "toc_window_display": false
  }
 },
 "nbformat": 4,
 "nbformat_minor": 5
}
