{
 "cells": [
  {
   "cell_type": "code",
   "execution_count": 108,
   "id": "d67631c5",
   "metadata": {
    "ExecuteTime": {
     "end_time": "2023-05-02T11:22:24.811808Z",
     "start_time": "2023-05-02T11:22:24.743133Z"
    }
   },
   "outputs": [
    {
     "name": "stdout",
     "output_type": "stream",
     "text": [
      "The autoreload extension is already loaded. To reload it, use:\n",
      "  %reload_ext autoreload\n"
     ]
    }
   ],
   "source": [
    "%load_ext autoreload\n",
    "%autoreload 2\n",
    "\n",
    "import sys\n",
    "sys.path.append(\"../\")\n",
    "\n",
    "import pandas as pd\n",
    "\n",
    "from trawlwatcher.zones.polygons import Polygons\n",
    "from trawlwatcher.zones.coastlines import Coastlines"
   ]
  },
  {
   "cell_type": "markdown",
   "id": "33856bb9",
   "metadata": {},
   "source": [
    "# Load vessels data"
   ]
  },
  {
   "cell_type": "code",
   "execution_count": 109,
   "id": "4cefc502",
   "metadata": {
    "ExecuteTime": {
     "end_time": "2023-05-02T11:22:24.863255Z",
     "start_time": "2023-05-02T11:22:24.815418Z"
    }
   },
   "outputs": [],
   "source": [
    "from trawlwatcher.data_loading_scripts.global_fishing_watch import load_global_fishing_watch_dataset\n",
    "from trawlwatcher.vessels.vessel import Vessel"
   ]
  },
  {
   "cell_type": "code",
   "execution_count": 110,
   "id": "98329b68",
   "metadata": {
    "ExecuteTime": {
     "end_time": "2023-05-02T11:23:16.547178Z",
     "start_time": "2023-05-02T11:22:24.866384Z"
    }
   },
   "outputs": [
    {
     "ename": "TypeError",
     "evalue": "Vessel.load_long_lat_pandas() missing 1 required positional argument: 'path'",
     "output_type": "error",
     "traceback": [
      "\u001b[0;31m---------------------------------------------------------------------------\u001b[0m",
      "\u001b[0;31mTypeError\u001b[0m                                 Traceback (most recent call last)",
      "Cell \u001b[0;32mIn[110], line 3\u001b[0m\n\u001b[1;32m      1\u001b[0m vessels_path \u001b[39m=\u001b[39m \u001b[39m\"\u001b[39m\u001b[39m../data/trawlers.csv\u001b[39m\u001b[39m\"\u001b[39m\n\u001b[0;32m----> 3\u001b[0m fleet,df \u001b[39m=\u001b[39m load_global_fishing_watch_dataset(vessels_path)\n\u001b[1;32m      4\u001b[0m fleet\u001b[39m.\u001b[39mchunk_data(\u001b[39m24\u001b[39m\u001b[39m*\u001b[39m\u001b[39m7\u001b[39m)\n\u001b[1;32m      5\u001b[0m fleet\n",
      "File \u001b[0;32m~/Documents/Github_repos/Bloom/data_science/notebooks/../trawlwatcher/data_loading_scripts/global_fishing_watch.py:20\u001b[0m, in \u001b[0;36mload_global_fishing_watch_dataset\u001b[0;34m(path)\u001b[0m\n\u001b[1;32m     18\u001b[0m \u001b[39mfor\u001b[39;00m mmsi, vessel_data \u001b[39min\u001b[39;00m df\u001b[39m.\u001b[39mgroupby(\u001b[39m'\u001b[39m\u001b[39mmmsi\u001b[39m\u001b[39m'\u001b[39m):\n\u001b[1;32m     19\u001b[0m     vessels[mmsi] \u001b[39m=\u001b[39m Vessel(vessel_id \u001b[39m=\u001b[39m mmsi)\n\u001b[0;32m---> 20\u001b[0m     Vessel\u001b[39m.\u001b[39;49mload_long_lat_pandas(vessel_data\u001b[39m.\u001b[39;49mreset_index(drop \u001b[39m=\u001b[39;49m \u001b[39mTrue\u001b[39;49;00m)\u001b[39m.\u001b[39;49mcopy())\n\u001b[1;32m     22\u001b[0m fleet \u001b[39m=\u001b[39m Fleet(vessels)\n\u001b[1;32m     24\u001b[0m \u001b[39mreturn\u001b[39;00m fleet,df\n",
      "\u001b[0;31mTypeError\u001b[0m: Vessel.load_long_lat_pandas() missing 1 required positional argument: 'path'"
     ]
    }
   ],
   "source": [
    "vessels_path = \"../data/trawlers.csv\"\n",
    "\n",
    "fleet,df = load_global_fishing_watch_dataset(vessels_path)\n",
    "fleet.chunk_data(24*7)\n",
    "fleet"
   ]
  },
  {
   "cell_type": "code",
   "execution_count": 98,
   "id": "905234c6",
   "metadata": {
    "ExecuteTime": {
     "end_time": "2023-05-02T11:23:16.603821Z",
     "start_time": "2023-05-02T11:23:16.549723Z"
    }
   },
   "outputs": [
    {
     "data": {
      "text/plain": [
       "Vessel(n_points=134288,n_chunks=250)"
      ]
     },
     "execution_count": 98,
     "metadata": {},
     "output_type": "execute_result"
    }
   ],
   "source": [
    "v = fleet.tolist()[0]\n",
    "v"
   ]
  },
  {
   "cell_type": "code",
   "execution_count": 99,
   "id": "7414f134",
   "metadata": {
    "ExecuteTime": {
     "end_time": "2023-05-02T11:23:16.679171Z",
     "start_time": "2023-05-02T11:23:16.607180Z"
    }
   },
   "outputs": [
    {
     "data": {
      "text/plain": [
       "Vessel(n_points=22,n_chunks=1)"
      ]
     },
     "execution_count": 99,
     "metadata": {},
     "output_type": "execute_result"
    }
   ],
   "source": [
    "v2 = v.sample()\n",
    "v2"
   ]
  },
  {
   "cell_type": "code",
   "execution_count": 100,
   "id": "8c6bc8af",
   "metadata": {},
   "outputs": [
    {
     "data": {
      "text/plain": [
       "Vessel(n_points=4641,n_chunks=10)"
      ]
     },
     "execution_count": 100,
     "metadata": {},
     "output_type": "execute_result"
    }
   ],
   "source": [
    "v3 = v.sample(10)\n",
    "v3"
   ]
  },
  {
   "cell_type": "code",
   "execution_count": 101,
   "id": "2cc67001",
   "metadata": {},
   "outputs": [
    {
     "data": {
      "text/plain": [
       "Vessel(n_points=6318,n_chunks=1)"
      ]
     },
     "execution_count": 101,
     "metadata": {},
     "output_type": "execute_result"
    }
   ],
   "source": [
    "v4 = v.sample(10, reset_chunk_id=True)\n",
    "v4"
   ]
  },
  {
   "cell_type": "code",
   "execution_count": 104,
   "id": "2cf051e8",
   "metadata": {},
   "outputs": [
    {
     "data": {
      "text/html": [
       "<div>\n",
       "<style scoped>\n",
       "    .dataframe tbody tr th:only-of-type {\n",
       "        vertical-align: middle;\n",
       "    }\n",
       "\n",
       "    .dataframe tbody tr th {\n",
       "        vertical-align: top;\n",
       "    }\n",
       "\n",
       "    .dataframe thead th {\n",
       "        text-align: right;\n",
       "    }\n",
       "</style>\n",
       "<table border=\"1\" class=\"dataframe\">\n",
       "  <thead>\n",
       "    <tr style=\"text-align: right;\">\n",
       "      <th></th>\n",
       "      <th>mmsi</th>\n",
       "      <th>timestamp</th>\n",
       "      <th>distance_from_shore</th>\n",
       "      <th>distance_from_port</th>\n",
       "      <th>speed</th>\n",
       "      <th>course</th>\n",
       "      <th>lat</th>\n",
       "      <th>lon</th>\n",
       "      <th>is_fishing</th>\n",
       "      <th>source</th>\n",
       "      <th>chunk_id</th>\n",
       "    </tr>\n",
       "  </thead>\n",
       "  <tbody>\n",
       "    <tr>\n",
       "      <th>2711</th>\n",
       "      <td>1.252340e+12</td>\n",
       "      <td>2012-02-19 00:11:43</td>\n",
       "      <td>0.0</td>\n",
       "      <td>0.0</td>\n",
       "      <td>0.0</td>\n",
       "      <td>188.0</td>\n",
       "      <td>28.144684</td>\n",
       "      <td>-15.4201</td>\n",
       "      <td>-1.0</td>\n",
       "      <td>gfw</td>\n",
       "      <td>7</td>\n",
       "    </tr>\n",
       "    <tr>\n",
       "      <th>2712</th>\n",
       "      <td>1.252340e+12</td>\n",
       "      <td>2012-02-19 00:28:05</td>\n",
       "      <td>0.0</td>\n",
       "      <td>0.0</td>\n",
       "      <td>0.0</td>\n",
       "      <td>189.0</td>\n",
       "      <td>28.144667</td>\n",
       "      <td>-15.4201</td>\n",
       "      <td>-1.0</td>\n",
       "      <td>gfw</td>\n",
       "      <td>7</td>\n",
       "    </tr>\n",
       "    <tr>\n",
       "      <th>2713</th>\n",
       "      <td>1.252340e+12</td>\n",
       "      <td>2012-02-19 00:35:01</td>\n",
       "      <td>0.0</td>\n",
       "      <td>0.0</td>\n",
       "      <td>0.0</td>\n",
       "      <td>189.0</td>\n",
       "      <td>28.144667</td>\n",
       "      <td>-15.4201</td>\n",
       "      <td>-1.0</td>\n",
       "      <td>gfw</td>\n",
       "      <td>7</td>\n",
       "    </tr>\n",
       "    <tr>\n",
       "      <th>2714</th>\n",
       "      <td>1.252340e+12</td>\n",
       "      <td>2012-02-19 00:38:27</td>\n",
       "      <td>0.0</td>\n",
       "      <td>0.0</td>\n",
       "      <td>0.0</td>\n",
       "      <td>189.0</td>\n",
       "      <td>28.144667</td>\n",
       "      <td>-15.4201</td>\n",
       "      <td>-1.0</td>\n",
       "      <td>gfw</td>\n",
       "      <td>7</td>\n",
       "    </tr>\n",
       "    <tr>\n",
       "      <th>2715</th>\n",
       "      <td>1.252340e+12</td>\n",
       "      <td>2012-02-19 00:49:30</td>\n",
       "      <td>0.0</td>\n",
       "      <td>0.0</td>\n",
       "      <td>0.0</td>\n",
       "      <td>189.0</td>\n",
       "      <td>28.144699</td>\n",
       "      <td>-15.4201</td>\n",
       "      <td>-1.0</td>\n",
       "      <td>gfw</td>\n",
       "      <td>7</td>\n",
       "    </tr>\n",
       "  </tbody>\n",
       "</table>\n",
       "</div>"
      ],
      "text/plain": [
       "              mmsi           timestamp  distance_from_shore   \n",
       "2711  1.252340e+12 2012-02-19 00:11:43                  0.0  \\\n",
       "2712  1.252340e+12 2012-02-19 00:28:05                  0.0   \n",
       "2713  1.252340e+12 2012-02-19 00:35:01                  0.0   \n",
       "2714  1.252340e+12 2012-02-19 00:38:27                  0.0   \n",
       "2715  1.252340e+12 2012-02-19 00:49:30                  0.0   \n",
       "\n",
       "      distance_from_port  speed  course        lat      lon  is_fishing   \n",
       "2711                 0.0    0.0   188.0  28.144684 -15.4201        -1.0  \\\n",
       "2712                 0.0    0.0   189.0  28.144667 -15.4201        -1.0   \n",
       "2713                 0.0    0.0   189.0  28.144667 -15.4201        -1.0   \n",
       "2714                 0.0    0.0   189.0  28.144667 -15.4201        -1.0   \n",
       "2715                 0.0    0.0   189.0  28.144699 -15.4201        -1.0   \n",
       "\n",
       "     source  chunk_id  \n",
       "2711    gfw         7  \n",
       "2712    gfw         7  \n",
       "2713    gfw         7  \n",
       "2714    gfw         7  \n",
       "2715    gfw         7  "
      ]
     },
     "execution_count": 104,
     "metadata": {},
     "output_type": "execute_result"
    }
   ],
   "source": [
    "v3.data.head()"
   ]
  },
  {
   "cell_type": "markdown",
   "id": "fb79cdd2",
   "metadata": {},
   "source": [
    "# Load zones"
   ]
  },
  {
   "cell_type": "code",
   "execution_count": 102,
   "id": "729ccd70",
   "metadata": {
    "ExecuteTime": {
     "end_time": "2023-05-02T11:26:06.643314Z",
     "start_time": "2023-05-02T11:23:26.839323Z"
    }
   },
   "outputs": [
    {
     "name": "stdout",
     "output_type": "stream",
     "text": [
      "CPU times: user 50.7 s, sys: 4.91 s, total: 55.6 s\n",
      "Wall time: 1min 23s\n"
     ]
    }
   ],
   "source": [
    "%%time\n",
    "path = '../data/Nonterrestrial_WDPA_Jan2023/Nonterrestrial_WDPA_Jan2023.shp'\n",
    "polygons = Polygons()\n",
    "polygons.load_shp(path)"
   ]
  },
  {
   "cell_type": "code",
   "execution_count": 44,
   "id": "45d5e93a",
   "metadata": {
    "ExecuteTime": {
     "end_time": "2023-05-02T11:05:00.634106Z",
     "start_time": "2023-05-02T11:05:00.579427Z"
    }
   },
   "outputs": [
    {
     "data": {
      "text/html": [
       "<div>\n",
       "<style scoped>\n",
       "    .dataframe tbody tr th:only-of-type {\n",
       "        vertical-align: middle;\n",
       "    }\n",
       "\n",
       "    .dataframe tbody tr th {\n",
       "        vertical-align: top;\n",
       "    }\n",
       "\n",
       "    .dataframe thead th {\n",
       "        text-align: right;\n",
       "    }\n",
       "</style>\n",
       "<table border=\"1\" class=\"dataframe\">\n",
       "  <thead>\n",
       "    <tr style=\"text-align: right;\">\n",
       "      <th></th>\n",
       "      <th>index</th>\n",
       "      <th>WDPAID</th>\n",
       "      <th>WDPA_PID</th>\n",
       "      <th>PA_DEF</th>\n",
       "      <th>NAME</th>\n",
       "      <th>ORIG_NAME</th>\n",
       "      <th>DESIG</th>\n",
       "      <th>DESIG_ENG</th>\n",
       "      <th>DESIG_TYPE</th>\n",
       "      <th>IUCN_CAT</th>\n",
       "      <th>...</th>\n",
       "      <th>MANG_AUTH</th>\n",
       "      <th>MANG_PLAN</th>\n",
       "      <th>VERIF</th>\n",
       "      <th>METADATAID</th>\n",
       "      <th>SUB_LOC</th>\n",
       "      <th>PARENT_ISO</th>\n",
       "      <th>ISO3</th>\n",
       "      <th>SUPP_INFO</th>\n",
       "      <th>CONS_OBJ</th>\n",
       "      <th>geometry</th>\n",
       "    </tr>\n",
       "  </thead>\n",
       "  <tbody>\n",
       "    <tr>\n",
       "      <th>0</th>\n",
       "      <td>0</td>\n",
       "      <td>1.0</td>\n",
       "      <td>1</td>\n",
       "      <td>1</td>\n",
       "      <td>Diamond Reef and Salt Fish Tail Reef</td>\n",
       "      <td>Diamond Reef</td>\n",
       "      <td>Marine Reserve</td>\n",
       "      <td>Marine Reserve</td>\n",
       "      <td>National</td>\n",
       "      <td>Ia</td>\n",
       "      <td>...</td>\n",
       "      <td>Fisheries Division</td>\n",
       "      <td>Not Reported</td>\n",
       "      <td>State Verified</td>\n",
       "      <td>1807</td>\n",
       "      <td>AG-04</td>\n",
       "      <td>ATG</td>\n",
       "      <td>ATG</td>\n",
       "      <td>Not Applicable</td>\n",
       "      <td>Not Applicable</td>\n",
       "      <td>POLYGON ((-61.82494 17.18497, -61.82497 17.184...</td>\n",
       "    </tr>\n",
       "    <tr>\n",
       "      <th>1</th>\n",
       "      <td>1</td>\n",
       "      <td>2.0</td>\n",
       "      <td>2</td>\n",
       "      <td>1</td>\n",
       "      <td>Palaster Reef</td>\n",
       "      <td>Palaster Reef</td>\n",
       "      <td>Marine Reserve</td>\n",
       "      <td>Marine Reserve</td>\n",
       "      <td>National</td>\n",
       "      <td>Ia</td>\n",
       "      <td>...</td>\n",
       "      <td>Fisheries Division</td>\n",
       "      <td>Not Reported</td>\n",
       "      <td>State Verified</td>\n",
       "      <td>1807</td>\n",
       "      <td>AG-10</td>\n",
       "      <td>ATG</td>\n",
       "      <td>ATG</td>\n",
       "      <td>Not Applicable</td>\n",
       "      <td>Not Applicable</td>\n",
       "      <td>POLYGON ((-61.74007 17.52001, -61.77174 17.526...</td>\n",
       "    </tr>\n",
       "    <tr>\n",
       "      <th>2</th>\n",
       "      <td>21</td>\n",
       "      <td>27.0</td>\n",
       "      <td>27</td>\n",
       "      <td>1</td>\n",
       "      <td>Folkstone</td>\n",
       "      <td>Folkstone</td>\n",
       "      <td>Marine Reserve</td>\n",
       "      <td>Marine Reserve</td>\n",
       "      <td>National</td>\n",
       "      <td>II</td>\n",
       "      <td>...</td>\n",
       "      <td>National Conservation Commission (NCC)</td>\n",
       "      <td>Not Reported</td>\n",
       "      <td>Not Reported</td>\n",
       "      <td>1867</td>\n",
       "      <td>Not Reported</td>\n",
       "      <td>BRB</td>\n",
       "      <td>BRB</td>\n",
       "      <td>Not Applicable</td>\n",
       "      <td>Not Applicable</td>\n",
       "      <td>POLYGON ((-59.63212 13.17370, -59.63263 13.168...</td>\n",
       "    </tr>\n",
       "    <tr>\n",
       "      <th>3</th>\n",
       "      <td>30</td>\n",
       "      <td>46.0</td>\n",
       "      <td>46</td>\n",
       "      <td>1</td>\n",
       "      <td>Reserva Biológica Atol Das Rocas</td>\n",
       "      <td>Reserva Biológica Atol Das Rocas</td>\n",
       "      <td>Reserva Biológica</td>\n",
       "      <td>Biological Reserve</td>\n",
       "      <td>National</td>\n",
       "      <td>Ia</td>\n",
       "      <td>...</td>\n",
       "      <td>Instituto Chico Mendes de Conservação da Biodi...</td>\n",
       "      <td>Not Reported</td>\n",
       "      <td>State Verified</td>\n",
       "      <td>1802</td>\n",
       "      <td>BR-RN</td>\n",
       "      <td>BRA</td>\n",
       "      <td>BRA</td>\n",
       "      <td>Not Applicable</td>\n",
       "      <td>Not Applicable</td>\n",
       "      <td>POLYGON ((-33.92124 -3.83378, -33.92114 -3.833...</td>\n",
       "    </tr>\n",
       "    <tr>\n",
       "      <th>4</th>\n",
       "      <td>40</td>\n",
       "      <td>57.0</td>\n",
       "      <td>57</td>\n",
       "      <td>1</td>\n",
       "      <td>Parque Nacional Do Cabo Orange</td>\n",
       "      <td>Parque Nacional Do Cabo Orange</td>\n",
       "      <td>Parque</td>\n",
       "      <td>Park</td>\n",
       "      <td>National</td>\n",
       "      <td>II</td>\n",
       "      <td>...</td>\n",
       "      <td>Instituto Chico Mendes de Conservação da Biodi...</td>\n",
       "      <td>Not Reported</td>\n",
       "      <td>State Verified</td>\n",
       "      <td>1802</td>\n",
       "      <td>BR-AP</td>\n",
       "      <td>BRA</td>\n",
       "      <td>BRA</td>\n",
       "      <td>Not Applicable</td>\n",
       "      <td>Not Applicable</td>\n",
       "      <td>POLYGON ((-50.85383 2.81366, -50.85444 2.81362...</td>\n",
       "    </tr>\n",
       "  </tbody>\n",
       "</table>\n",
       "<p>5 rows × 32 columns</p>\n",
       "</div>"
      ],
      "text/plain": [
       "   index  WDPAID WDPA_PID PA_DEF                                  NAME   \n",
       "0      0     1.0        1      1  Diamond Reef and Salt Fish Tail Reef  \\\n",
       "1      1     2.0        2      1                         Palaster Reef   \n",
       "2     21    27.0       27      1                             Folkstone   \n",
       "3     30    46.0       46      1      Reserva Biológica Atol Das Rocas   \n",
       "4     40    57.0       57      1        Parque Nacional Do Cabo Orange   \n",
       "\n",
       "                          ORIG_NAME              DESIG           DESIG_ENG   \n",
       "0                      Diamond Reef     Marine Reserve      Marine Reserve  \\\n",
       "1                     Palaster Reef     Marine Reserve      Marine Reserve   \n",
       "2                         Folkstone     Marine Reserve      Marine Reserve   \n",
       "3  Reserva Biológica Atol Das Rocas  Reserva Biológica  Biological Reserve   \n",
       "4    Parque Nacional Do Cabo Orange             Parque                Park   \n",
       "\n",
       "  DESIG_TYPE IUCN_CAT  ...                                          MANG_AUTH   \n",
       "0   National       Ia  ...                                 Fisheries Division  \\\n",
       "1   National       Ia  ...                                 Fisheries Division   \n",
       "2   National       II  ...             National Conservation Commission (NCC)   \n",
       "3   National       Ia  ...  Instituto Chico Mendes de Conservação da Biodi...   \n",
       "4   National       II  ...  Instituto Chico Mendes de Conservação da Biodi...   \n",
       "\n",
       "      MANG_PLAN           VERIF  METADATAID       SUB_LOC  PARENT_ISO ISO3   \n",
       "0  Not Reported  State Verified        1807         AG-04         ATG  ATG  \\\n",
       "1  Not Reported  State Verified        1807         AG-10         ATG  ATG   \n",
       "2  Not Reported    Not Reported        1867  Not Reported         BRB  BRB   \n",
       "3  Not Reported  State Verified        1802         BR-RN         BRA  BRA   \n",
       "4  Not Reported  State Verified        1802         BR-AP         BRA  BRA   \n",
       "\n",
       "        SUPP_INFO        CONS_OBJ   \n",
       "0  Not Applicable  Not Applicable  \\\n",
       "1  Not Applicable  Not Applicable   \n",
       "2  Not Applicable  Not Applicable   \n",
       "3  Not Applicable  Not Applicable   \n",
       "4  Not Applicable  Not Applicable   \n",
       "\n",
       "                                            geometry  \n",
       "0  POLYGON ((-61.82494 17.18497, -61.82497 17.184...  \n",
       "1  POLYGON ((-61.74007 17.52001, -61.77174 17.526...  \n",
       "2  POLYGON ((-59.63212 13.17370, -59.63263 13.168...  \n",
       "3  POLYGON ((-33.92124 -3.83378, -33.92114 -3.833...  \n",
       "4  POLYGON ((-50.85383 2.81366, -50.85444 2.81362...  \n",
       "\n",
       "[5 rows x 32 columns]"
      ]
     },
     "execution_count": 44,
     "metadata": {},
     "output_type": "execute_result"
    }
   ],
   "source": [
    "polygons.data.head()"
   ]
  },
  {
   "cell_type": "markdown",
   "id": "9a011a10",
   "metadata": {},
   "source": [
    "# Visualize zones"
   ]
  },
  {
   "cell_type": "code",
   "execution_count": 45,
   "id": "c89deb44",
   "metadata": {
    "ExecuteTime": {
     "end_time": "2023-05-02T11:13:25.110766Z",
     "start_time": "2023-05-02T11:13:23.837838Z"
    },
    "scrolled": false
   },
   "outputs": [
    {
     "ename": "NameError",
     "evalue": "name 'polygons_fra' is not defined",
     "output_type": "error",
     "traceback": [
      "\u001b[0;31m---------------------------------------------------------------------------\u001b[0m",
      "\u001b[0;31mNameError\u001b[0m                                 Traceback (most recent call last)",
      "Cell \u001b[0;32mIn[45], line 2\u001b[0m\n\u001b[1;32m      1\u001b[0m \u001b[39mfor\u001b[39;00m vessel \u001b[39min\u001b[39;00m fleet\u001b[39m.\u001b[39mtolist():\n\u001b[0;32m----> 2\u001b[0m     \u001b[39mprint\u001b[39m(\u001b[39mlen\u001b[39m(v\u001b[39m.\u001b[39mdata\u001b[39m.\u001b[39msjoin(polygons_fra\u001b[39m.\u001b[39mdata,how \u001b[39m=\u001b[39m \u001b[39m\"\u001b[39m\u001b[39minner\u001b[39m\u001b[39m\"\u001b[39m)))\n",
      "\u001b[0;31mNameError\u001b[0m: name 'polygons_fra' is not defined"
     ]
    }
   ],
   "source": [
    "for vessel in fleet.tolist():\n",
    "    print(len(v.data.sjoin(polygons_fra.data,how = \"inner\")))"
   ]
  },
  {
   "cell_type": "code",
   "execution_count": null,
   "id": "a34ae6e5",
   "metadata": {},
   "outputs": [],
   "source": []
  }
 ],
 "metadata": {
  "kernelspec": {
   "display_name": "Python 3 (ipykernel)",
   "language": "python",
   "name": "python3"
  },
  "language_info": {
   "codemirror_mode": {
    "name": "ipython",
    "version": 3
   },
   "file_extension": ".py",
   "mimetype": "text/x-python",
   "name": "python",
   "nbconvert_exporter": "python",
   "pygments_lexer": "ipython3",
   "version": "3.10.10"
  },
  "toc": {
   "base_numbering": 1,
   "nav_menu": {},
   "number_sections": true,
   "sideBar": true,
   "skip_h1_title": false,
   "title_cell": "Table of Contents",
   "title_sidebar": "Contents",
   "toc_cell": false,
   "toc_position": {},
   "toc_section_display": true,
   "toc_window_display": false
  }
 },
 "nbformat": 4,
 "nbformat_minor": 5
}
