{
 "cells": [
  {
   "cell_type": "code",
   "execution_count": 43,
   "id": "e19cadb0-9145-42ca-b001-ebf7985f0258",
   "metadata": {},
   "outputs": [],
   "source": [
    "import pandas as pd\n",
    "import numpy as np"
   ]
  },
  {
   "cell_type": "code",
   "execution_count": 44,
   "id": "08f8e944-6a36-4f4d-a783-f3b5b441876b",
   "metadata": {},
   "outputs": [],
   "source": [
    "data = pd.read_csv('reglementation-des-peches-cartographiee.csv')"
   ]
  },
  {
   "cell_type": "code",
   "execution_count": 45,
   "id": "2407a515-9e0e-431e-994a-9f5a5c90146f",
   "metadata": {},
   "outputs": [
    {
     "data": {
      "text/html": [
       "<div>\n",
       "<style scoped>\n",
       "    .dataframe tbody tr th:only-of-type {\n",
       "        vertical-align: middle;\n",
       "    }\n",
       "\n",
       "    .dataframe tbody tr th {\n",
       "        vertical-align: top;\n",
       "    }\n",
       "\n",
       "    .dataframe thead th {\n",
       "        text-align: right;\n",
       "    }\n",
       "</style>\n",
       "<table border=\"1\" class=\"dataframe\">\n",
       "  <thead>\n",
       "    <tr style=\"text-align: right;\">\n",
       "      <th></th>\n",
       "      <th>type_de_reglementation</th>\n",
       "      <th>thematique</th>\n",
       "      <th>zone</th>\n",
       "      <th>reglementations</th>\n",
       "      <th>wkt</th>\n",
       "    </tr>\n",
       "  </thead>\n",
       "  <tbody>\n",
       "    <tr>\n",
       "      <th>759</th>\n",
       "      <td>Reg. NAMO</td>\n",
       "      <td>Bretagne - Filets</td>\n",
       "      <td>Zone C - tampon 5 milles nautiques</td>\n",
       "      <td>Arrêté Préfectoral R53-2021-10-19-00003 - déli...</td>\n",
       "      <td>MULTIPOLYGON(((-4.553253 48.294792399985,-4.55...</td>\n",
       "    </tr>\n",
       "    <tr>\n",
       "      <th>10</th>\n",
       "      <td>Reg. NAMO</td>\n",
       "      <td>Auray-Vannes - CSJ - Dragues</td>\n",
       "      <td>A4 - zone soumise à la détention d'une licence...</td>\n",
       "      <td>Arrêté Préfectoral R53-2020-05-19-001 - délib ...</td>\n",
       "      <td>MULTIPOLYGON(((-3.06884999999999 47.35258,-3.0...</td>\n",
       "    </tr>\n",
       "    <tr>\n",
       "      <th>236</th>\n",
       "      <td>Reg. MEMN</td>\n",
       "      <td>Normandie - Crustacés - Casiers et Filets</td>\n",
       "      <td>Zone à Etrilles : Ravenoville</td>\n",
       "      <td>Arrêté Préfectoral 174/2019 - Délib 2019/28-CR...</td>\n",
       "      <td>MULTIPOLYGON(((-1.23702454 49.46860132,-1.2236...</td>\n",
       "    </tr>\n",
       "    <tr>\n",
       "      <th>789</th>\n",
       "      <td>Reg. MED</td>\n",
       "      <td>Corse - Chaluts</td>\n",
       "      <td>3 - 12 MN: Autorisation chalut à panneaux</td>\n",
       "      <td>Arrêté Préfectoral 2013070-0001 / MED</td>\n",
       "      <td>MULTIPOLYGON(((9.40545622982063 43.07767545346...</td>\n",
       "    </tr>\n",
       "    <tr>\n",
       "      <th>735</th>\n",
       "      <td>Reg. MED</td>\n",
       "      <td>Méditerannée - Chaluts</td>\n",
       "      <td>Eau du littoral du Var et des Alpes-Maritimes</td>\n",
       "      <td>Arrêté Préfectoral 99-162 / MED</td>\n",
       "      <td>MULTIPOLYGON(((5.6480657579954 43.119893331304...</td>\n",
       "    </tr>\n",
       "    <tr>\n",
       "      <th>398</th>\n",
       "      <td>Reg. MEMN</td>\n",
       "      <td>Normandie - Crustacés - Casiers et Filets</td>\n",
       "      <td>Zone à Etrilles : Pirou</td>\n",
       "      <td>Arrêté Préfectoral 174/2019 - Délib 2019/28-CR...</td>\n",
       "      <td>MULTIPOLYGON(((-1.63441323636364 49.1625,-1.63...</td>\n",
       "    </tr>\n",
       "    <tr>\n",
       "      <th>161</th>\n",
       "      <td>Reg. MED</td>\n",
       "      <td>Provence Alpes Côte d'Azur - Cantonnements de ...</td>\n",
       "      <td>Cantonnement du Cap-Couronne</td>\n",
       "      <td>Arrêté Ministériel du 12/02/1998</td>\n",
       "      <td>MULTIPOLYGON(((5.05155763480587 43.32314203337...</td>\n",
       "    </tr>\n",
       "    <tr>\n",
       "      <th>462</th>\n",
       "      <td>Reg. MED</td>\n",
       "      <td>Provence Alpes Côte d'Azur - Anguille</td>\n",
       "      <td>Interdictions temporaires pêche Anguille jaune</td>\n",
       "      <td>Arrêté Préfectoral R93-2022-01-03-00007 / MED,...</td>\n",
       "      <td>MULTIPOLYGON(((4.62101922802863 43.35894679549...</td>\n",
       "    </tr>\n",
       "    <tr>\n",
       "      <th>44</th>\n",
       "      <td>Reg. NAMO</td>\n",
       "      <td>Ille-et-Vilaine - Bulots - Casiers</td>\n",
       "      <td>Saint-Malo Ouest - pêche sous licence</td>\n",
       "      <td>Arrêté Préfectoral 2018-16631 - Délib 2018-058...</td>\n",
       "      <td>MULTIPOLYGON(((-2.18904034757802 48.6342799535...</td>\n",
       "    </tr>\n",
       "    <tr>\n",
       "      <th>9</th>\n",
       "      <td>Reg. NAMO</td>\n",
       "      <td>Auray-Vannes - CSJ - Dragues</td>\n",
       "      <td>A3 - zone soumise à la détention d'une licence...</td>\n",
       "      <td>Arrêté Préfectoral R53-2020-05-19-001 - délib ...</td>\n",
       "      <td>MULTIPOLYGON(((-3.12637999999999 47.39427,-3.1...</td>\n",
       "    </tr>\n",
       "  </tbody>\n",
       "</table>\n",
       "</div>"
      ],
      "text/plain": [
       "    type_de_reglementation                                         thematique  \\\n",
       "759              Reg. NAMO                                  Bretagne - Filets   \n",
       "10               Reg. NAMO                       Auray-Vannes - CSJ - Dragues   \n",
       "236              Reg. MEMN          Normandie - Crustacés - Casiers et Filets   \n",
       "789               Reg. MED                                    Corse - Chaluts   \n",
       "735               Reg. MED                             Méditerannée - Chaluts   \n",
       "398              Reg. MEMN          Normandie - Crustacés - Casiers et Filets   \n",
       "161               Reg. MED  Provence Alpes Côte d'Azur - Cantonnements de ...   \n",
       "462               Reg. MED              Provence Alpes Côte d'Azur - Anguille   \n",
       "44               Reg. NAMO                 Ille-et-Vilaine - Bulots - Casiers   \n",
       "9                Reg. NAMO                       Auray-Vannes - CSJ - Dragues   \n",
       "\n",
       "                                                  zone  \\\n",
       "759                 Zone C - tampon 5 milles nautiques   \n",
       "10   A4 - zone soumise à la détention d'une licence...   \n",
       "236                      Zone à Etrilles : Ravenoville   \n",
       "789          3 - 12 MN: Autorisation chalut à panneaux   \n",
       "735      Eau du littoral du Var et des Alpes-Maritimes   \n",
       "398                            Zone à Etrilles : Pirou   \n",
       "161                       Cantonnement du Cap-Couronne   \n",
       "462     Interdictions temporaires pêche Anguille jaune   \n",
       "44               Saint-Malo Ouest - pêche sous licence   \n",
       "9    A3 - zone soumise à la détention d'une licence...   \n",
       "\n",
       "                                       reglementations  \\\n",
       "759  Arrêté Préfectoral R53-2021-10-19-00003 - déli...   \n",
       "10   Arrêté Préfectoral R53-2020-05-19-001 - délib ...   \n",
       "236  Arrêté Préfectoral 174/2019 - Délib 2019/28-CR...   \n",
       "789              Arrêté Préfectoral 2013070-0001 / MED   \n",
       "735                    Arrêté Préfectoral 99-162 / MED   \n",
       "398  Arrêté Préfectoral 174/2019 - Délib 2019/28-CR...   \n",
       "161                   Arrêté Ministériel du 12/02/1998   \n",
       "462  Arrêté Préfectoral R93-2022-01-03-00007 / MED,...   \n",
       "44   Arrêté Préfectoral 2018-16631 - Délib 2018-058...   \n",
       "9    Arrêté Préfectoral R53-2020-05-19-001 - délib ...   \n",
       "\n",
       "                                                   wkt  \n",
       "759  MULTIPOLYGON(((-4.553253 48.294792399985,-4.55...  \n",
       "10   MULTIPOLYGON(((-3.06884999999999 47.35258,-3.0...  \n",
       "236  MULTIPOLYGON(((-1.23702454 49.46860132,-1.2236...  \n",
       "789  MULTIPOLYGON(((9.40545622982063 43.07767545346...  \n",
       "735  MULTIPOLYGON(((5.6480657579954 43.119893331304...  \n",
       "398  MULTIPOLYGON(((-1.63441323636364 49.1625,-1.63...  \n",
       "161  MULTIPOLYGON(((5.05155763480587 43.32314203337...  \n",
       "462  MULTIPOLYGON(((4.62101922802863 43.35894679549...  \n",
       "44   MULTIPOLYGON(((-2.18904034757802 48.6342799535...  \n",
       "9    MULTIPOLYGON(((-3.12637999999999 47.39427,-3.1...  "
      ]
     },
     "execution_count": 45,
     "metadata": {},
     "output_type": "execute_result"
    }
   ],
   "source": [
    "data.sample(10)"
   ]
  },
  {
   "cell_type": "code",
   "execution_count": 46,
   "id": "78c2f1a7-ce01-47d5-b225-0aa06973a5a5",
   "metadata": {},
   "outputs": [
    {
     "name": "stdout",
     "output_type": "stream",
     "text": [
      "<class 'pandas.core.frame.DataFrame'>\n",
      "RangeIndex: 882 entries, 0 to 881\n",
      "Data columns (total 5 columns):\n",
      " #   Column                  Non-Null Count  Dtype \n",
      "---  ------                  --------------  ----- \n",
      " 0   type_de_reglementation  882 non-null    object\n",
      " 1   thematique              882 non-null    object\n",
      " 2   zone                    879 non-null    object\n",
      " 3   reglementations         879 non-null    object\n",
      " 4   wkt                     882 non-null    object\n",
      "dtypes: object(5)\n",
      "memory usage: 34.6+ KB\n"
     ]
    }
   ],
   "source": [
    "data.info()"
   ]
  },
  {
   "cell_type": "code",
   "execution_count": 47,
   "id": "4841cb45-9453-46a1-a102-e3edc3441842",
   "metadata": {},
   "outputs": [
    {
     "data": {
      "text/html": [
       "<div>\n",
       "<style scoped>\n",
       "    .dataframe tbody tr th:only-of-type {\n",
       "        vertical-align: middle;\n",
       "    }\n",
       "\n",
       "    .dataframe tbody tr th {\n",
       "        vertical-align: top;\n",
       "    }\n",
       "\n",
       "    .dataframe thead th {\n",
       "        text-align: right;\n",
       "    }\n",
       "</style>\n",
       "<table border=\"1\" class=\"dataframe\">\n",
       "  <thead>\n",
       "    <tr style=\"text-align: right;\">\n",
       "      <th></th>\n",
       "      <th>type_de_reglementation</th>\n",
       "      <th>thematique</th>\n",
       "      <th>zone</th>\n",
       "      <th>reglementations</th>\n",
       "      <th>wkt</th>\n",
       "    </tr>\n",
       "  </thead>\n",
       "  <tbody>\n",
       "    <tr>\n",
       "      <th>813</th>\n",
       "      <td>Reg. ORGP</td>\n",
       "      <td>OPANO/NAFO - Crevette nordique</td>\n",
       "      <td>NaN</td>\n",
       "      <td>NaN</td>\n",
       "      <td>MULTIPOLYGON(((-45.6666666666667 47.5,-45 47.9...</td>\n",
       "    </tr>\n",
       "    <tr>\n",
       "      <th>814</th>\n",
       "      <td>Reg. ORGP</td>\n",
       "      <td>OPANO/NAFO - Pêche de fond</td>\n",
       "      <td>NaN</td>\n",
       "      <td>NaN</td>\n",
       "      <td>MULTIPOLYGON(((-45.0083333333333 50.0083333333...</td>\n",
       "    </tr>\n",
       "    <tr>\n",
       "      <th>815</th>\n",
       "      <td>Reg. ORGP</td>\n",
       "      <td>OPANO/NAFO - Crevette nordique</td>\n",
       "      <td>NaN</td>\n",
       "      <td>NaN</td>\n",
       "      <td>MULTIPOLYGON(((-41.9999999999999 49.2500000000...</td>\n",
       "    </tr>\n",
       "  </tbody>\n",
       "</table>\n",
       "</div>"
      ],
      "text/plain": [
       "    type_de_reglementation                      thematique zone  \\\n",
       "813              Reg. ORGP  OPANO/NAFO - Crevette nordique  NaN   \n",
       "814              Reg. ORGP      OPANO/NAFO - Pêche de fond  NaN   \n",
       "815              Reg. ORGP  OPANO/NAFO - Crevette nordique  NaN   \n",
       "\n",
       "    reglementations                                                wkt  \n",
       "813             NaN  MULTIPOLYGON(((-45.6666666666667 47.5,-45 47.9...  \n",
       "814             NaN  MULTIPOLYGON(((-45.0083333333333 50.0083333333...  \n",
       "815             NaN  MULTIPOLYGON(((-41.9999999999999 49.2500000000...  "
      ]
     },
     "execution_count": 47,
     "metadata": {},
     "output_type": "execute_result"
    }
   ],
   "source": [
    "data[data.zone.isna()]"
   ]
  },
  {
   "cell_type": "code",
   "execution_count": 48,
   "id": "b4d5a7e2-38c8-40a8-9b4f-4dba0393d464",
   "metadata": {},
   "outputs": [
    {
     "data": {
      "text/html": [
       "<div>\n",
       "<style scoped>\n",
       "    .dataframe tbody tr th:only-of-type {\n",
       "        vertical-align: middle;\n",
       "    }\n",
       "\n",
       "    .dataframe tbody tr th {\n",
       "        vertical-align: top;\n",
       "    }\n",
       "\n",
       "    .dataframe thead th {\n",
       "        text-align: right;\n",
       "    }\n",
       "</style>\n",
       "<table border=\"1\" class=\"dataframe\">\n",
       "  <thead>\n",
       "    <tr style=\"text-align: right;\">\n",
       "      <th></th>\n",
       "      <th>type_de_reglementation</th>\n",
       "      <th>thematique</th>\n",
       "      <th>zone</th>\n",
       "      <th>reglementations</th>\n",
       "      <th>wkt</th>\n",
       "    </tr>\n",
       "  </thead>\n",
       "  <tbody>\n",
       "    <tr>\n",
       "      <th>count</th>\n",
       "      <td>882</td>\n",
       "      <td>882</td>\n",
       "      <td>879</td>\n",
       "      <td>879</td>\n",
       "      <td>882</td>\n",
       "    </tr>\n",
       "    <tr>\n",
       "      <th>unique</th>\n",
       "      <td>11</td>\n",
       "      <td>228</td>\n",
       "      <td>858</td>\n",
       "      <td>295</td>\n",
       "      <td>836</td>\n",
       "    </tr>\n",
       "    <tr>\n",
       "      <th>top</th>\n",
       "      <td>Reg. NAMO</td>\n",
       "      <td>Civelle</td>\n",
       "      <td>Zone d'interdiction de pêche</td>\n",
       "      <td>R(UE) 2019/1241</td>\n",
       "      <td>MULTIPOLYGON(((3.54670758 43.3760237,3.5470558...</td>\n",
       "    </tr>\n",
       "    <tr>\n",
       "      <th>freq</th>\n",
       "      <td>331</td>\n",
       "      <td>26</td>\n",
       "      <td>4</td>\n",
       "      <td>55</td>\n",
       "      <td>10</td>\n",
       "    </tr>\n",
       "  </tbody>\n",
       "</table>\n",
       "</div>"
      ],
      "text/plain": [
       "       type_de_reglementation thematique                          zone  \\\n",
       "count                     882        882                           879   \n",
       "unique                     11        228                           858   \n",
       "top                 Reg. NAMO    Civelle  Zone d'interdiction de pêche   \n",
       "freq                      331         26                             4   \n",
       "\n",
       "        reglementations                                                wkt  \n",
       "count               879                                                882  \n",
       "unique              295                                                836  \n",
       "top     R(UE) 2019/1241  MULTIPOLYGON(((3.54670758 43.3760237,3.5470558...  \n",
       "freq                 55                                                 10  "
      ]
     },
     "execution_count": 48,
     "metadata": {},
     "output_type": "execute_result"
    }
   ],
   "source": [
    "data.describe(include=\"all\")"
   ]
  },
  {
   "cell_type": "code",
   "execution_count": 49,
   "id": "1287de54-cfdc-4cda-a60f-5aec5ed00e31",
   "metadata": {},
   "outputs": [
    {
     "data": {
      "text/plain": [
       "Reg. NAMO          331\n",
       "Reg. MED           166\n",
       "Reg. MEMN          152\n",
       "Reg. Outre-mer      90\n",
       "R(UE) 2019/1241     76\n",
       "Reg. SA             49\n",
       "R(UE) 1380/2013      8\n",
       "Reg. ORGP            3\n",
       "R(UE) 2022/1614      3\n",
       "R(CE) 494/2002       2\n",
       "Reg. CCAMLR          2\n",
       "Name: type_de_reglementation, dtype: int64"
      ]
     },
     "execution_count": 49,
     "metadata": {},
     "output_type": "execute_result"
    }
   ],
   "source": [
    "data.type_de_reglementation.value_counts()"
   ]
  },
  {
   "cell_type": "code",
   "execution_count": 50,
   "id": "08696b7d-fe05-49db-9390-2589d864378a",
   "metadata": {},
   "outputs": [
    {
     "data": {
      "text/plain": [
       "R(UE) 2019/1241                                                                                                                     55\n",
       "Arrêté Préfectoral 96/DRAM/2077 / NAMO                                                                                              26\n",
       "Arrêté Préfectoral 412/2008 / MED                                                                                                   23\n",
       "Arrêté Préfectoral R53-2020-05-19-001 - délib 2020-006 / NAMO, Arrêté Préfectoral R53-2019-09-12-009 / Délib 2019-023 / NAMO CSJ    22\n",
       "R(UE) 2019/1241 Modifié                                                                                                             21\n",
       "                                                                                                                                    ..\n",
       "Arrêté Préfectoral du 30/12/2014                                                                                                     1\n",
       "Arrêté 73 du 04/07/1979 / NAMO, Arrêté Préfectoral R53-2020-05-19-001 - délib 2020-006 / NAMO                                        1\n",
       "Arrêté Préfectoral 206/2021 / MEMN                                                                                                   1\n",
       "Arrêté Préfectoral 2014042-0001- délib 004-2014 / MED                                                                                1\n",
       "Arrêté Préfectoral du 04/08/2011 - délib 11/2011 / SA                                                                                1\n",
       "Name: reglementations, Length: 295, dtype: int64"
      ]
     },
     "execution_count": 50,
     "metadata": {},
     "output_type": "execute_result"
    }
   ],
   "source": [
    "data.reglementations.value_counts()"
   ]
  },
  {
   "cell_type": "code",
   "execution_count": 51,
   "id": "168a6710-95d7-4ee3-912a-3cfce5011315",
   "metadata": {},
   "outputs": [
    {
     "data": {
      "text/plain": [
       "Zone d'interdiction de pêche       4\n",
       "Zone réglementée 2                 3\n",
       "Zone réglementée 1                 3\n",
       "Baie de Bourgneuf                  3\n",
       "Zone autorisée - Seine-Maritime    2\n",
       "                                  ..\n",
       "Coques Vilaine Dragues             1\n",
       "Box merlu - Irlande                1\n",
       "Box merlu - Golfe de Gascogne      1\n",
       "Filet maillant et trémail          1\n",
       "Zone E : réservée arts dormants    1\n",
       "Name: zone, Length: 858, dtype: int64"
      ]
     },
     "execution_count": 51,
     "metadata": {},
     "output_type": "execute_result"
    }
   ],
   "source": [
    "data.zone.value_counts()"
   ]
  },
  {
   "cell_type": "code",
   "execution_count": 52,
   "id": "ce6bb041-ee73-4fba-9ad5-5dfa4dc54281",
   "metadata": {},
   "outputs": [
    {
     "data": {
      "text/html": [
       "<div>\n",
       "<style scoped>\n",
       "    .dataframe tbody tr th:only-of-type {\n",
       "        vertical-align: middle;\n",
       "    }\n",
       "\n",
       "    .dataframe tbody tr th {\n",
       "        vertical-align: top;\n",
       "    }\n",
       "\n",
       "    .dataframe thead th {\n",
       "        text-align: right;\n",
       "    }\n",
       "</style>\n",
       "<table border=\"1\" class=\"dataframe\">\n",
       "  <thead>\n",
       "    <tr style=\"text-align: right;\">\n",
       "      <th></th>\n",
       "      <th>type_de_reglementation</th>\n",
       "      <th>thematique</th>\n",
       "      <th>zone</th>\n",
       "      <th>reglementations</th>\n",
       "      <th>wkt</th>\n",
       "    </tr>\n",
       "  </thead>\n",
       "  <tbody>\n",
       "    <tr>\n",
       "      <th>378</th>\n",
       "      <td>Reg. MEMN</td>\n",
       "      <td>Ouest Cotentin - Dragues - Coquille St Jacques</td>\n",
       "      <td>Zone réglementée 2</td>\n",
       "      <td>Arrêté Préfectoral 147/2022 - délib 2022/E-CSJ...</td>\n",
       "      <td>MULTIPOLYGON(((-2.08333333333333 49.3542386019...</td>\n",
       "    </tr>\n",
       "    <tr>\n",
       "      <th>604</th>\n",
       "      <td>Reg. Outre-mer</td>\n",
       "      <td>Saint Pierre et Miquelon - Concombre de mer</td>\n",
       "      <td>Zone réglementée 2</td>\n",
       "      <td>Arrêté Ministériel du 31/05/2022</td>\n",
       "      <td>MULTIPOLYGON(((-56.7988455095294 46.5219413816...</td>\n",
       "    </tr>\n",
       "    <tr>\n",
       "      <th>607</th>\n",
       "      <td>Reg. Outre-mer</td>\n",
       "      <td>Saint Pierre et Miquelon - Crabe des neiges</td>\n",
       "      <td>Zone réglementée 2</td>\n",
       "      <td>Arrêté Ministériel du 01/04/2022 / Saint-Pierr...</td>\n",
       "      <td>MULTIPOLYGON(((-56.1517110414139 46.0000460614...</td>\n",
       "    </tr>\n",
       "  </tbody>\n",
       "</table>\n",
       "</div>"
      ],
      "text/plain": [
       "    type_de_reglementation                                      thematique  \\\n",
       "378              Reg. MEMN  Ouest Cotentin - Dragues - Coquille St Jacques   \n",
       "604         Reg. Outre-mer     Saint Pierre et Miquelon - Concombre de mer   \n",
       "607         Reg. Outre-mer     Saint Pierre et Miquelon - Crabe des neiges   \n",
       "\n",
       "                   zone                                    reglementations  \\\n",
       "378  Zone réglementée 2  Arrêté Préfectoral 147/2022 - délib 2022/E-CSJ...   \n",
       "604  Zone réglementée 2                   Arrêté Ministériel du 31/05/2022   \n",
       "607  Zone réglementée 2  Arrêté Ministériel du 01/04/2022 / Saint-Pierr...   \n",
       "\n",
       "                                                   wkt  \n",
       "378  MULTIPOLYGON(((-2.08333333333333 49.3542386019...  \n",
       "604  MULTIPOLYGON(((-56.7988455095294 46.5219413816...  \n",
       "607  MULTIPOLYGON(((-56.1517110414139 46.0000460614...  "
      ]
     },
     "execution_count": 52,
     "metadata": {},
     "output_type": "execute_result"
    }
   ],
   "source": [
    "data[data.zone == \"Zone réglementée 2\"]"
   ]
  },
  {
   "cell_type": "code",
   "execution_count": 53,
   "id": "3d5b0b16-3c99-4594-baee-9ce44c29e690",
   "metadata": {},
   "outputs": [
    {
     "data": {
      "text/html": [
       "<div>\n",
       "<style scoped>\n",
       "    .dataframe tbody tr th:only-of-type {\n",
       "        vertical-align: middle;\n",
       "    }\n",
       "\n",
       "    .dataframe tbody tr th {\n",
       "        vertical-align: top;\n",
       "    }\n",
       "\n",
       "    .dataframe thead th {\n",
       "        text-align: right;\n",
       "    }\n",
       "</style>\n",
       "<table border=\"1\" class=\"dataframe\">\n",
       "  <thead>\n",
       "    <tr style=\"text-align: right;\">\n",
       "      <th></th>\n",
       "      <th>type_de_reglementation</th>\n",
       "      <th>thematique</th>\n",
       "      <th>zone</th>\n",
       "      <th>reglementations</th>\n",
       "      <th>wkt</th>\n",
       "    </tr>\n",
       "  </thead>\n",
       "  <tbody>\n",
       "    <tr>\n",
       "      <th>292</th>\n",
       "      <td>Reg. NAMO</td>\n",
       "      <td>Morbihan - bivalves</td>\n",
       "      <td>Coques Vilaine Dragues</td>\n",
       "      <td>Arrêté Préfectoral 2016-13780 - délib 2016-056...</td>\n",
       "      <td>MULTIPOLYGON(((-2.51020277777778 47.49575,-2.5...</td>\n",
       "    </tr>\n",
       "  </tbody>\n",
       "</table>\n",
       "</div>"
      ],
      "text/plain": [
       "    type_de_reglementation           thematique                    zone  \\\n",
       "292              Reg. NAMO  Morbihan - bivalves  Coques Vilaine Dragues   \n",
       "\n",
       "                                       reglementations  \\\n",
       "292  Arrêté Préfectoral 2016-13780 - délib 2016-056...   \n",
       "\n",
       "                                                   wkt  \n",
       "292  MULTIPOLYGON(((-2.51020277777778 47.49575,-2.5...  "
      ]
     },
     "execution_count": 53,
     "metadata": {},
     "output_type": "execute_result"
    }
   ],
   "source": [
    "data[data.zone == \"Coques Vilaine Dragues\"]"
   ]
  },
  {
   "cell_type": "code",
   "execution_count": 63,
   "id": "783b258d-3812-4651-a485-5a76bfbcdcc6",
   "metadata": {},
   "outputs": [],
   "source": [
    "zones_interdites = []\n",
    "for zone in data.zone.unique():\n",
    "    zone = str(zone)\n",
    "    if zone.find(\"interdi\") != -1:\n",
    "        zones_interdites.append(zone)"
   ]
  },
  {
   "cell_type": "code",
   "execution_count": 65,
   "id": "21bd03c5-45cd-4faf-bb36-639257d108df",
   "metadata": {},
   "outputs": [
    {
     "data": {
      "text/plain": [
       "93"
      ]
     },
     "execution_count": 65,
     "metadata": {},
     "output_type": "execute_result"
    }
   ],
   "source": [
    "len(zones_interdites)"
   ]
  },
  {
   "cell_type": "code",
   "execution_count": 66,
   "id": "cfa9cb6b-7d0f-4830-ba64-4c0582708f48",
   "metadata": {},
   "outputs": [
    {
     "data": {
      "text/plain": [
       "['Banc de Maërl - Zone interdite à la pêche',\n",
       " 'Banc de Maërl - interdiction de pêche',\n",
       " 'Herbiers de zostères \"Baie de Morlaix\" - interdiction',\n",
       " \"Kerfinel - zone d'interdiction temporaire\",\n",
       " 'Zone de cohabitation 2 - interdiction pêche',\n",
       " 'Zone de cohabitation 1 - pêche interdite',\n",
       " 'Eaux territoriales Bretagne - Pêche interdite',\n",
       " 'Zone A - interdiction chalutage',\n",
       " 'Zone B - interdiction chalutage',\n",
       " 'Nord Groix - Zone interdite',\n",
       " 'Sud Groix - Zone interdite',\n",
       " 'Belle-Île - interdiction temporaire',\n",
       " 'Quiberon - Zone interdite temporaire',\n",
       " \"Zone d'interdiction : Ile-verte\",\n",
       " \"Zone d'interdiction : Epine-Est\",\n",
       " \"Zone d'interdiction : Agde\",\n",
       " \"Zone d'interdiction : Palavas\",\n",
       " \"Zone d'interdiction : Gruissan\",\n",
       " \"Zone d'interdiction : Fleury D'Aude\",\n",
       " \"Hérault et Gard - Pêche sous-marine interdite - Grau d'Adge\",\n",
       " 'Hérault et Gard - Pêche sous-marine interdite - Etang de Thau',\n",
       " \"Zone d'interdiction 1 : Marseillan-Sète\",\n",
       " \"Zone d'interdiction 2 : Marseillan-Sète\",\n",
       " \"Zone d'interdiction 3 : Marseillan-Sète\",\n",
       " 'Zone H : interdiction totale de pêche',\n",
       " 'Zone F : interdiction totale de pêche',\n",
       " \"Secteur d'interdiction sanitaire de pêche\",\n",
       " 'Zone interdite à la pêche dans la Baie du Trésor',\n",
       " \"Zone interdite à la pêche autour de l'îlet à Ramiers\",\n",
       " \"Zone d'interdiction totale de pêche\",\n",
       " 'Circulation interdite : Anse Amora',\n",
       " 'Navires motorisés interdits : Fanou',\n",
       " \"Zone d'interdiction totale\",\n",
       " \"Zone d'interdiction de pêche\",\n",
       " 'Zones interdites',\n",
       " 'Hérault et Gard - Pêche sous-marine interdite - Brescou',\n",
       " 'Hérault et Gard - Pêche sous-marine interdite - Brescou restreint',\n",
       " 'Pêche de loisir: interdiction en zone F',\n",
       " 'Pêche de loisir: interdiction en zone H',\n",
       " 'Pêche de loisir: interdiction en zone R',\n",
       " \"Bande Côtière: Zone d'interdiction d'usage de la drague\",\n",
       " 'Estuaires interdits aux chaluts selectifs',\n",
       " 'Zone R : interdiction partielle de pêche',\n",
       " 'Zone interdite au chalut barre à dents',\n",
       " 'Secteur interdit aux sennes',\n",
       " \"Zone d'interdiction de pose des casiers\",\n",
       " 'Zone 4 : interdiction totale',\n",
       " 'Zone 3 : interdiction totale',\n",
       " 'Zone 5 : interdiction totale',\n",
       " 'Zone 1 : interdiction totale',\n",
       " 'Zone 2 : interdiction temporaire',\n",
       " \"Zone d'interdiction : Baie des sablettes\",\n",
       " \"Zone d'interdiction : Golfe de Saint-Florent\",\n",
       " 'Zone de préservation des habitats interdite à la pêche',\n",
       " 'Zone des Daviers - interdiction',\n",
       " 'Cantonnement de CSJ La Plate (tourelle) - interdiction',\n",
       " 'Concessions conchylicoles - interdiction',\n",
       " 'Zone portuaire - interdiction',\n",
       " 'Zone interdite - Mousterlin',\n",
       " 'Zone interdite - Beg Meil',\n",
       " 'Zone interdite - Glénan - Saint-Nicolas',\n",
       " \"Zone interdite - Glénan - Est Le Loc'h\",\n",
       " 'Zone interdite - Glénan - Sud Penfret',\n",
       " 'Zone interdite - de Trévignon',\n",
       " 'Zone de Guerhéon - interdiction',\n",
       " 'Zone de Callot - interdiction',\n",
       " \"Zone d'interdiction partielle de pêche\",\n",
       " 'Crozet interdiction mouillage',\n",
       " 'Zone interdiction - ZEE UE',\n",
       " 'Zone interdiction - Eaux internationales',\n",
       " 'A8 - zone de Maërl interdite à la pêche',\n",
       " 'Hérault et Gard - Pêche sous-marine interdite - Bassin de Thau',\n",
       " 'Bouche du Rhône - Pêche sous-marine interdite - Anse de Pomègues',\n",
       " 'Bretagne Nord - interdiction de pêche',\n",
       " \"Zone d'interdiction chalut\",\n",
       " 'Zone interdite aux chaluts jumeaux à panneaux',\n",
       " \"Zone d'interdiction permanentes 1\",\n",
       " \"Zone d'interdiction permanentes 2\",\n",
       " \"Zone d'interdiction permanentes 3\",\n",
       " \"Zone d'interdiction permanentes 4\",\n",
       " \"Zone d'interdiction GOV\",\n",
       " 'Zone C - interdiction chalutage',\n",
       " 'Bouche du Rhône - Pêche sous-marine interdite - Anse des cuivres',\n",
       " \"Zone d'interdiction\",\n",
       " 'Zone A1 - interdiction arts dormants',\n",
       " 'Zone A2 - interdiction tout engin',\n",
       " 'Zone B2 - interdiction tout engin',\n",
       " 'Zone du Foulen : interdiction de chalutage',\n",
       " 'Aire de carénage Le Marin - interdiction arts dormants',\n",
       " \"Schoelcher - interdiction d'engins traînants\",\n",
       " 'Zone interdite à la pêche du pétoncle blanc',\n",
       " 'Zone interdite aux navires ⩾ 13.5 m',\n",
       " 'Zone de pêche interdite']"
      ]
     },
     "execution_count": 66,
     "metadata": {},
     "output_type": "execute_result"
    }
   ],
   "source": [
    "zones_interdites"
   ]
  },
  {
   "cell_type": "code",
   "execution_count": null,
   "id": "1b37c968-2a50-455c-81e9-a28423bd6533",
   "metadata": {},
   "outputs": [],
   "source": []
  },
  {
   "cell_type": "code",
   "execution_count": null,
   "id": "3b07eaae-f109-493d-ab24-9b3021aee06c",
   "metadata": {},
   "outputs": [],
   "source": []
  }
 ],
 "metadata": {
  "kernelspec": {
   "display_name": "Python 3 (ipykernel)",
   "language": "python",
   "name": "python3"
  },
  "language_info": {
   "codemirror_mode": {
    "name": "ipython",
    "version": 3
   },
   "file_extension": ".py",
   "mimetype": "text/x-python",
   "name": "python",
   "nbconvert_exporter": "python",
   "pygments_lexer": "ipython3",
   "version": "3.9.16"
  }
 },
 "nbformat": 4,
 "nbformat_minor": 5
}
