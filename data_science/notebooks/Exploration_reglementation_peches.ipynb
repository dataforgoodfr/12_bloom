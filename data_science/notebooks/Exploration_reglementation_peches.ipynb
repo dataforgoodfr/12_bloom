{
 "cells": [
  {
   "cell_type": "markdown",
   "id": "dcb58358-8666-4bc9-beb4-b2fbc09a34ee",
   "metadata": {},
   "source": [
    "### Imports and data loading"
   ]
  },
  {
   "cell_type": "code",
   "execution_count": 219,
   "id": "e19cadb0-9145-42ca-b001-ebf7985f0258",
   "metadata": {},
   "outputs": [],
   "source": [
    "import pandas as pd\n",
    "import numpy as np\n",
    "import geopandas as gpd\n",
    "from shapely import wkt\n",
    "import folium"
   ]
  },
  {
   "cell_type": "code",
   "execution_count": null,
   "outputs": [],
   "source": [
    "data_root = \"../data\""
   ],
   "metadata": {
    "collapsed": false,
    "pycharm": {
     "name": "#%%\n"
    }
   }
  },
  {
   "cell_type": "code",
   "execution_count": 12,
   "id": "ba315588-c016-4a36-995d-e9311f4519db",
   "metadata": {},
   "outputs": [],
   "source": [
    "geo_data = gpd.read_file(f'{data_root}/reglementation-des-peches-cartographiee.gpkg', encoding='utf-8')"
   ]
  },
  {
   "cell_type": "code",
   "execution_count": 13,
   "id": "f2352697-e130-42c4-917d-5c3363378a6c",
   "metadata": {},
   "outputs": [],
   "source": [
    "data = pd.read_csv(f'{data_root}/reglementation-des-peches-cartographiee.csv')"
   ]
  },
  {
   "cell_type": "code",
   "execution_count": 11,
   "id": "cabe87ae-45d2-4686-ab01-fcfadb6b32e1",
   "metadata": {},
   "outputs": [],
   "source": [
    "data.wkt = gpd.GeoSeries.from_wkt(data.wkt)"
   ]
  },
  {
   "cell_type": "code",
   "execution_count": 223,
   "id": "dbea5528-2805-4713-8d00-30d28500d591",
   "metadata": {},
   "outputs": [],
   "source": [
    "data_csv_geo = gpd.GeoDataFrame(data, geometry='wkt')\n"
   ]
  },
  {
   "cell_type": "markdown",
   "id": "8b0166c6-f505-4d03-93c5-ca20a93c8a7a",
   "metadata": {
    "tags": []
   },
   "source": [
    "### Data exploration"
   ]
  },
  {
   "cell_type": "code",
   "execution_count": 224,
   "id": "2407a515-9e0e-431e-994a-9f5a5c90146f",
   "metadata": {},
   "outputs": [
    {
     "data": {
      "text/html": [
       "<div>\n",
       "<style scoped>\n",
       "    .dataframe tbody tr th:only-of-type {\n",
       "        vertical-align: middle;\n",
       "    }\n",
       "\n",
       "    .dataframe tbody tr th {\n",
       "        vertical-align: top;\n",
       "    }\n",
       "\n",
       "    .dataframe thead th {\n",
       "        text-align: right;\n",
       "    }\n",
       "</style>\n",
       "<table border=\"1\" class=\"dataframe\">\n",
       "  <thead>\n",
       "    <tr style=\"text-align: right;\">\n",
       "      <th></th>\n",
       "      <th>type_de_reglementation</th>\n",
       "      <th>thematique</th>\n",
       "      <th>zone</th>\n",
       "      <th>reglementations</th>\n",
       "      <th>wkt</th>\n",
       "    </tr>\n",
       "  </thead>\n",
       "  <tbody>\n",
       "    <tr>\n",
       "      <th>149</th>\n",
       "      <td>Reg. MED</td>\n",
       "      <td>Occitanie - Dragues</td>\n",
       "      <td>Zone d'autorisation : Sète-Mole</td>\n",
       "      <td>Arrêté Ministériel du 13/05/2014</td>\n",
       "      <td>MULTIPOLYGON (((3.62115 43.29380, 3.56624 43.3...</td>\n",
       "    </tr>\n",
       "    <tr>\n",
       "      <th>396</th>\n",
       "      <td>Reg. MEMN</td>\n",
       "      <td>Normandie - Crustacés - Casiers et Filets</td>\n",
       "      <td>Interdiction de casiers pièges sur la bande co...</td>\n",
       "      <td>Arrêté Préfectoral 174/2019 - Délib 2019/28-CR...</td>\n",
       "      <td>GEOMETRYCOLLECTION (MULTIPOLYGON (((-1.58308 4...</td>\n",
       "    </tr>\n",
       "    <tr>\n",
       "      <th>439</th>\n",
       "      <td>Reg. MEMN</td>\n",
       "      <td>Ouest Cotentin - Casiers - Bulots</td>\n",
       "      <td>Grandville : zone d'entrepôt des casiers</td>\n",
       "      <td>Arrêté Préfectoral 133/2017 / DELIB 2017/29-BU...</td>\n",
       "      <td>MULTIPOLYGON (((-1.84742 48.85995, -1.57998 48...</td>\n",
       "    </tr>\n",
       "    <tr>\n",
       "      <th>406</th>\n",
       "      <td>Reg. MEMN</td>\n",
       "      <td>Normandie - Moules</td>\n",
       "      <td>Gisement de L'épée et le Vilain</td>\n",
       "      <td>Arrêté Préfectoral 56/2018 / MEMN, Arrêté Préf...</td>\n",
       "      <td>MULTIPOLYGON (((-0.64028 49.56098, -0.63648 49...</td>\n",
       "    </tr>\n",
       "    <tr>\n",
       "      <th>529</th>\n",
       "      <td>Reg. NAMO</td>\n",
       "      <td>Bretagne - Ormeaux</td>\n",
       "      <td>Zone 4: Hors Molène et et Ouessant (4A et 4C) ...</td>\n",
       "      <td>Arrêté Préfectoral R3-2022-09-20-00005 - Délib...</td>\n",
       "      <td>MULTIPOLYGON (((-4.55308 48.16801, -5.35146 48...</td>\n",
       "    </tr>\n",
       "  </tbody>\n",
       "</table>\n",
       "</div>"
      ],
      "text/plain": [
       "    type_de_reglementation                                 thematique  \\\n",
       "149               Reg. MED                        Occitanie - Dragues   \n",
       "396              Reg. MEMN  Normandie - Crustacés - Casiers et Filets   \n",
       "439              Reg. MEMN          Ouest Cotentin - Casiers - Bulots   \n",
       "406              Reg. MEMN                         Normandie - Moules   \n",
       "529              Reg. NAMO                         Bretagne - Ormeaux   \n",
       "\n",
       "                                                  zone  \\\n",
       "149                    Zone d'autorisation : Sète-Mole   \n",
       "396  Interdiction de casiers pièges sur la bande co...   \n",
       "439           Grandville : zone d'entrepôt des casiers   \n",
       "406                    Gisement de L'épée et le Vilain   \n",
       "529  Zone 4: Hors Molène et et Ouessant (4A et 4C) ...   \n",
       "\n",
       "                                       reglementations  \\\n",
       "149                   Arrêté Ministériel du 13/05/2014   \n",
       "396  Arrêté Préfectoral 174/2019 - Délib 2019/28-CR...   \n",
       "439  Arrêté Préfectoral 133/2017 / DELIB 2017/29-BU...   \n",
       "406  Arrêté Préfectoral 56/2018 / MEMN, Arrêté Préf...   \n",
       "529  Arrêté Préfectoral R3-2022-09-20-00005 - Délib...   \n",
       "\n",
       "                                                   wkt  \n",
       "149  MULTIPOLYGON (((3.62115 43.29380, 3.56624 43.3...  \n",
       "396  GEOMETRYCOLLECTION (MULTIPOLYGON (((-1.58308 4...  \n",
       "439  MULTIPOLYGON (((-1.84742 48.85995, -1.57998 48...  \n",
       "406  MULTIPOLYGON (((-0.64028 49.56098, -0.63648 49...  \n",
       "529  MULTIPOLYGON (((-4.55308 48.16801, -5.35146 48...  "
      ]
     },
     "execution_count": 224,
     "metadata": {},
     "output_type": "execute_result"
    }
   ],
   "source": [
    "data_csv_geo.sample(5)"
   ]
  },
  {
   "cell_type": "code",
   "execution_count": 225,
   "id": "efc1d04a-db31-4c7f-9a1c-62a888fac572",
   "metadata": {},
   "outputs": [
    {
     "data": {
      "text/html": [
       "<div>\n",
       "<style scoped>\n",
       "    .dataframe tbody tr th:only-of-type {\n",
       "        vertical-align: middle;\n",
       "    }\n",
       "\n",
       "    .dataframe tbody tr th {\n",
       "        vertical-align: top;\n",
       "    }\n",
       "\n",
       "    .dataframe thead th {\n",
       "        text-align: right;\n",
       "    }\n",
       "</style>\n",
       "<table border=\"1\" class=\"dataframe\">\n",
       "  <thead>\n",
       "    <tr style=\"text-align: right;\">\n",
       "      <th></th>\n",
       "      <th>type_de_reglementation</th>\n",
       "      <th>thematique</th>\n",
       "      <th>zone</th>\n",
       "      <th>reglementations</th>\n",
       "      <th>geometry</th>\n",
       "    </tr>\n",
       "  </thead>\n",
       "  <tbody>\n",
       "    <tr>\n",
       "      <th>265</th>\n",
       "      <td>Reg. NAMO</td>\n",
       "      <td>Pays de la Loire - Coquillage - Drague</td>\n",
       "      <td>Banc de Mindin - dispositions spécifiques à l'...</td>\n",
       "      <td>Arrêté Préfectoral 31/2015 - délib 8B/2015 / N...</td>\n",
       "      <td>MULTIPOLYGON (((-2.21833 47.25067, -2.18800 47...</td>\n",
       "    </tr>\n",
       "    <tr>\n",
       "      <th>302</th>\n",
       "      <td>Reg. NAMO</td>\n",
       "      <td>Saint-Brieuc - Chalut - Maquereau</td>\n",
       "      <td>Bande 3-12 MN</td>\n",
       "      <td>Arrêté Préfectoral R53-2019-10-29-002 du 29/10...</td>\n",
       "      <td>MULTIPOLYGON (((-3.68988 48.81066, -3.71048 48...</td>\n",
       "    </tr>\n",
       "    <tr>\n",
       "      <th>98</th>\n",
       "      <td>Reg. NAMO</td>\n",
       "      <td>Civelle</td>\n",
       "      <td>Secteur dit de l’Aiguillon-sur-Mer (le Lay)</td>\n",
       "      <td>Arrêté Préfectoral 96/DRAM/2077 / NAMO</td>\n",
       "      <td>MULTIPOLYGON (((-1.37061 46.39532, -1.37061 46...</td>\n",
       "    </tr>\n",
       "    <tr>\n",
       "      <th>154</th>\n",
       "      <td>Reg. NAMO</td>\n",
       "      <td>Bretagne - Nasses</td>\n",
       "      <td>Secteur 8 - zone soumise à licence spéciale</td>\n",
       "      <td>Arrêté Préfectoral R53-2022-12-08-00001 - déli...</td>\n",
       "      <td>MULTIPOLYGON (((-4.08263 47.46665, -4.08263 47...</td>\n",
       "    </tr>\n",
       "    <tr>\n",
       "      <th>88</th>\n",
       "      <td>Reg. NAMO</td>\n",
       "      <td>Civelle</td>\n",
       "      <td>Secteur dit de Noirmoutier (etier des champs)</td>\n",
       "      <td>Arrêté Préfectoral 96/DRAM/2077 / NAMO</td>\n",
       "      <td>MULTIPOLYGON (((-1.98285 46.96480, -1.98285 46...</td>\n",
       "    </tr>\n",
       "  </tbody>\n",
       "</table>\n",
       "</div>"
      ],
      "text/plain": [
       "    type_de_reglementation                              thematique  \\\n",
       "265              Reg. NAMO  Pays de la Loire - Coquillage - Drague   \n",
       "302              Reg. NAMO       Saint-Brieuc - Chalut - Maquereau   \n",
       "98               Reg. NAMO                                 Civelle   \n",
       "154              Reg. NAMO                       Bretagne - Nasses   \n",
       "88               Reg. NAMO                                 Civelle   \n",
       "\n",
       "                                                  zone  \\\n",
       "265  Banc de Mindin - dispositions spécifiques à l'...   \n",
       "302                                      Bande 3-12 MN   \n",
       "98         Secteur dit de l’Aiguillon-sur-Mer (le Lay)   \n",
       "154        Secteur 8 - zone soumise à licence spéciale   \n",
       "88       Secteur dit de Noirmoutier (etier des champs)   \n",
       "\n",
       "                                       reglementations  \\\n",
       "265  Arrêté Préfectoral 31/2015 - délib 8B/2015 / N...   \n",
       "302  Arrêté Préfectoral R53-2019-10-29-002 du 29/10...   \n",
       "98              Arrêté Préfectoral 96/DRAM/2077 / NAMO   \n",
       "154  Arrêté Préfectoral R53-2022-12-08-00001 - déli...   \n",
       "88              Arrêté Préfectoral 96/DRAM/2077 / NAMO   \n",
       "\n",
       "                                              geometry  \n",
       "265  MULTIPOLYGON (((-2.21833 47.25067, -2.18800 47...  \n",
       "302  MULTIPOLYGON (((-3.68988 48.81066, -3.71048 48...  \n",
       "98   MULTIPOLYGON (((-1.37061 46.39532, -1.37061 46...  \n",
       "154  MULTIPOLYGON (((-4.08263 47.46665, -4.08263 47...  \n",
       "88   MULTIPOLYGON (((-1.98285 46.96480, -1.98285 46...  "
      ]
     },
     "execution_count": 225,
     "metadata": {},
     "output_type": "execute_result"
    }
   ],
   "source": [
    "geo_data.sample(5)"
   ]
  },
  {
   "cell_type": "markdown",
   "id": "4beb5631-5a2e-47b6-a81e-e4d407fafa59",
   "metadata": {
    "tags": []
   },
   "source": [
    "### Check for completude of the data"
   ]
  },
  {
   "cell_type": "code",
   "execution_count": 226,
   "id": "78c2f1a7-ce01-47d5-b225-0aa06973a5a5",
   "metadata": {},
   "outputs": [
    {
     "name": "stdout",
     "output_type": "stream",
     "text": [
      "<class 'geopandas.geodataframe.GeoDataFrame'>\n",
      "RangeIndex: 882 entries, 0 to 881\n",
      "Data columns (total 5 columns):\n",
      " #   Column                  Non-Null Count  Dtype   \n",
      "---  ------                  --------------  -----   \n",
      " 0   type_de_reglementation  882 non-null    object  \n",
      " 1   thematique              882 non-null    object  \n",
      " 2   zone                    879 non-null    object  \n",
      " 3   reglementations         879 non-null    object  \n",
      " 4   wkt                     882 non-null    geometry\n",
      "dtypes: geometry(1), object(4)\n",
      "memory usage: 34.6+ KB\n"
     ]
    }
   ],
   "source": [
    "data_csv_geo.info()"
   ]
  },
  {
   "cell_type": "code",
   "execution_count": 227,
   "id": "3c141b57-88e3-4269-8a49-253cc4cb40ca",
   "metadata": {},
   "outputs": [
    {
     "name": "stdout",
     "output_type": "stream",
     "text": [
      "<class 'geopandas.geodataframe.GeoDataFrame'>\n",
      "RangeIndex: 331 entries, 0 to 330\n",
      "Data columns (total 5 columns):\n",
      " #   Column                  Non-Null Count  Dtype   \n",
      "---  ------                  --------------  -----   \n",
      " 0   type_de_reglementation  331 non-null    object  \n",
      " 1   thematique              331 non-null    object  \n",
      " 2   zone                    331 non-null    object  \n",
      " 3   reglementations         331 non-null    object  \n",
      " 4   geometry                331 non-null    geometry\n",
      "dtypes: geometry(1), object(4)\n",
      "memory usage: 13.1+ KB\n"
     ]
    }
   ],
   "source": [
    "geo_data.info()"
   ]
  },
  {
   "cell_type": "code",
   "execution_count": 228,
   "id": "4841cb45-9453-46a1-a102-e3edc3441842",
   "metadata": {},
   "outputs": [
    {
     "data": {
      "text/html": [
       "<div>\n",
       "<style scoped>\n",
       "    .dataframe tbody tr th:only-of-type {\n",
       "        vertical-align: middle;\n",
       "    }\n",
       "\n",
       "    .dataframe tbody tr th {\n",
       "        vertical-align: top;\n",
       "    }\n",
       "\n",
       "    .dataframe thead th {\n",
       "        text-align: right;\n",
       "    }\n",
       "</style>\n",
       "<table border=\"1\" class=\"dataframe\">\n",
       "  <thead>\n",
       "    <tr style=\"text-align: right;\">\n",
       "      <th></th>\n",
       "      <th>type_de_reglementation</th>\n",
       "      <th>thematique</th>\n",
       "      <th>zone</th>\n",
       "      <th>reglementations</th>\n",
       "      <th>wkt</th>\n",
       "    </tr>\n",
       "  </thead>\n",
       "  <tbody>\n",
       "    <tr>\n",
       "      <th>813</th>\n",
       "      <td>Reg. ORGP</td>\n",
       "      <td>OPANO/NAFO - Crevette nordique</td>\n",
       "      <td>NaN</td>\n",
       "      <td>NaN</td>\n",
       "      <td>MULTIPOLYGON (((-45.66667 47.50000, -45.00000 ...</td>\n",
       "    </tr>\n",
       "    <tr>\n",
       "      <th>814</th>\n",
       "      <td>Reg. ORGP</td>\n",
       "      <td>OPANO/NAFO - Pêche de fond</td>\n",
       "      <td>NaN</td>\n",
       "      <td>NaN</td>\n",
       "      <td>MULTIPOLYGON (((-45.00833 50.00833, -47.00833 ...</td>\n",
       "    </tr>\n",
       "    <tr>\n",
       "      <th>815</th>\n",
       "      <td>Reg. ORGP</td>\n",
       "      <td>OPANO/NAFO - Crevette nordique</td>\n",
       "      <td>NaN</td>\n",
       "      <td>NaN</td>\n",
       "      <td>MULTIPOLYGON (((-42.00000 49.25000, -42.00000 ...</td>\n",
       "    </tr>\n",
       "  </tbody>\n",
       "</table>\n",
       "</div>"
      ],
      "text/plain": [
       "    type_de_reglementation                      thematique zone  \\\n",
       "813              Reg. ORGP  OPANO/NAFO - Crevette nordique  NaN   \n",
       "814              Reg. ORGP      OPANO/NAFO - Pêche de fond  NaN   \n",
       "815              Reg. ORGP  OPANO/NAFO - Crevette nordique  NaN   \n",
       "\n",
       "    reglementations                                                wkt  \n",
       "813             NaN  MULTIPOLYGON (((-45.66667 47.50000, -45.00000 ...  \n",
       "814             NaN  MULTIPOLYGON (((-45.00833 50.00833, -47.00833 ...  \n",
       "815             NaN  MULTIPOLYGON (((-42.00000 49.25000, -42.00000 ...  "
      ]
     },
     "execution_count": 228,
     "metadata": {},
     "output_type": "execute_result"
    }
   ],
   "source": [
    "data_csv_geo[data_csv_geo.zone.isna()]"
   ]
  },
  {
   "cell_type": "markdown",
   "id": "e61aa2aa-ab16-42ff-99de-d59d3a5e2e70",
   "metadata": {},
   "source": [
    "We have only 3 null values on **\"zone\"** and **\"reglementations\"** that corresponds to the same observations. They share the **same type of reglementation** and the **same region of the world**."
   ]
  },
  {
   "cell_type": "markdown",
   "id": "736304f1-1013-46d0-915b-5882b1870ceb",
   "metadata": {},
   "source": [
    "### Lets' see the number of unique values for each category"
   ]
  },
  {
   "cell_type": "code",
   "execution_count": 229,
   "id": "b4d5a7e2-38c8-40a8-9b4f-4dba0393d464",
   "metadata": {},
   "outputs": [
    {
     "data": {
      "text/html": [
       "<div>\n",
       "<style scoped>\n",
       "    .dataframe tbody tr th:only-of-type {\n",
       "        vertical-align: middle;\n",
       "    }\n",
       "\n",
       "    .dataframe tbody tr th {\n",
       "        vertical-align: top;\n",
       "    }\n",
       "\n",
       "    .dataframe thead th {\n",
       "        text-align: right;\n",
       "    }\n",
       "</style>\n",
       "<table border=\"1\" class=\"dataframe\">\n",
       "  <thead>\n",
       "    <tr style=\"text-align: right;\">\n",
       "      <th></th>\n",
       "      <th>type_de_reglementation</th>\n",
       "      <th>thematique</th>\n",
       "      <th>zone</th>\n",
       "      <th>reglementations</th>\n",
       "      <th>wkt</th>\n",
       "    </tr>\n",
       "  </thead>\n",
       "  <tbody>\n",
       "    <tr>\n",
       "      <th>count</th>\n",
       "      <td>882</td>\n",
       "      <td>882</td>\n",
       "      <td>879</td>\n",
       "      <td>879</td>\n",
       "      <td>882</td>\n",
       "    </tr>\n",
       "    <tr>\n",
       "      <th>unique</th>\n",
       "      <td>11</td>\n",
       "      <td>228</td>\n",
       "      <td>858</td>\n",
       "      <td>295</td>\n",
       "      <td>836</td>\n",
       "    </tr>\n",
       "    <tr>\n",
       "      <th>top</th>\n",
       "      <td>Reg. NAMO</td>\n",
       "      <td>Civelle</td>\n",
       "      <td>Zone d'interdiction de pêche</td>\n",
       "      <td>R(UE) 2019/1241</td>\n",
       "      <td>MULTIPOLYGON (((3.54670758 43.3760237, 3.54705...</td>\n",
       "    </tr>\n",
       "    <tr>\n",
       "      <th>freq</th>\n",
       "      <td>331</td>\n",
       "      <td>26</td>\n",
       "      <td>4</td>\n",
       "      <td>55</td>\n",
       "      <td>10</td>\n",
       "    </tr>\n",
       "  </tbody>\n",
       "</table>\n",
       "</div>"
      ],
      "text/plain": [
       "       type_de_reglementation thematique                          zone  \\\n",
       "count                     882        882                           879   \n",
       "unique                     11        228                           858   \n",
       "top                 Reg. NAMO    Civelle  Zone d'interdiction de pêche   \n",
       "freq                      331         26                             4   \n",
       "\n",
       "        reglementations                                                wkt  \n",
       "count               879                                                882  \n",
       "unique              295                                                836  \n",
       "top     R(UE) 2019/1241  MULTIPOLYGON (((3.54670758 43.3760237, 3.54705...  \n",
       "freq                 55                                                 10  "
      ]
     },
     "execution_count": 229,
     "metadata": {},
     "output_type": "execute_result"
    }
   ],
   "source": [
    "data_csv_geo.describe(include=\"all\")"
   ]
  },
  {
   "cell_type": "code",
   "execution_count": 230,
   "id": "1287de54-cfdc-4cda-a60f-5aec5ed00e31",
   "metadata": {},
   "outputs": [
    {
     "data": {
      "text/plain": [
       "Reg. NAMO          331\n",
       "Reg. MED           166\n",
       "Reg. MEMN          152\n",
       "Reg. Outre-mer      90\n",
       "R(UE) 2019/1241     76\n",
       "Reg. SA             49\n",
       "R(UE) 1380/2013      8\n",
       "Reg. ORGP            3\n",
       "R(UE) 2022/1614      3\n",
       "R(CE) 494/2002       2\n",
       "Reg. CCAMLR          2\n",
       "Name: type_de_reglementation, dtype: int64"
      ]
     },
     "execution_count": 230,
     "metadata": {},
     "output_type": "execute_result"
    }
   ],
   "source": [
    "data_csv_geo.type_de_reglementation.value_counts()"
   ]
  },
  {
   "cell_type": "code",
   "execution_count": 231,
   "id": "69e9d2b8-523f-43cd-bfab-cd2a0d57d605",
   "metadata": {},
   "outputs": [
    {
     "data": {
      "text/plain": [
       "Reg. NAMO    331\n",
       "Name: type_de_reglementation, dtype: int64"
      ]
     },
     "execution_count": 231,
     "metadata": {},
     "output_type": "execute_result"
    }
   ],
   "source": [
    "geo_data.type_de_reglementation.value_counts()"
   ]
  },
  {
   "cell_type": "code",
   "execution_count": 232,
   "id": "08696b7d-fe05-49db-9390-2589d864378a",
   "metadata": {},
   "outputs": [
    {
     "data": {
      "text/plain": [
       "R(UE) 2019/1241                                                                                                                     55\n",
       "Arrêté Préfectoral 96/DRAM/2077 / NAMO                                                                                              26\n",
       "Arrêté Préfectoral 412/2008 / MED                                                                                                   23\n",
       "Arrêté Préfectoral R53-2020-05-19-001 - délib 2020-006 / NAMO, Arrêté Préfectoral R53-2019-09-12-009 / Délib 2019-023 / NAMO CSJ    22\n",
       "R(UE) 2019/1241 Modifié                                                                                                             21\n",
       "                                                                                                                                    ..\n",
       "Arrêté Préfectoral du 30/12/2014                                                                                                     1\n",
       "Arrêté 73 du 04/07/1979 / NAMO, Arrêté Préfectoral R53-2020-05-19-001 - délib 2020-006 / NAMO                                        1\n",
       "Arrêté Préfectoral 206/2021 / MEMN                                                                                                   1\n",
       "Arrêté Préfectoral 2014042-0001- délib 004-2014 / MED                                                                                1\n",
       "Arrêté Préfectoral du 04/08/2011 - délib 11/2011 / SA                                                                                1\n",
       "Name: reglementations, Length: 295, dtype: int64"
      ]
     },
     "execution_count": 232,
     "metadata": {},
     "output_type": "execute_result"
    }
   ],
   "source": [
    "data_csv_geo.reglementations.value_counts()"
   ]
  },
  {
   "cell_type": "code",
   "execution_count": 233,
   "id": "168a6710-95d7-4ee3-912a-3cfce5011315",
   "metadata": {},
   "outputs": [
    {
     "data": {
      "text/plain": [
       "Zone d'interdiction de pêche       4\n",
       "Zone réglementée 2                 3\n",
       "Zone réglementée 1                 3\n",
       "Baie de Bourgneuf                  3\n",
       "Zone autorisée - Seine-Maritime    2\n",
       "                                  ..\n",
       "Coques Vilaine Dragues             1\n",
       "Box merlu - Irlande                1\n",
       "Box merlu - Golfe de Gascogne      1\n",
       "Filet maillant et trémail          1\n",
       "Zone E : réservée arts dormants    1\n",
       "Name: zone, Length: 858, dtype: int64"
      ]
     },
     "execution_count": 233,
     "metadata": {},
     "output_type": "execute_result"
    }
   ],
   "source": [
    "data_csv_geo.zone.value_counts()"
   ]
  },
  {
   "cell_type": "code",
   "execution_count": 234,
   "id": "ce6bb041-ee73-4fba-9ad5-5dfa4dc54281",
   "metadata": {},
   "outputs": [
    {
     "data": {
      "text/html": [
       "<div>\n",
       "<style scoped>\n",
       "    .dataframe tbody tr th:only-of-type {\n",
       "        vertical-align: middle;\n",
       "    }\n",
       "\n",
       "    .dataframe tbody tr th {\n",
       "        vertical-align: top;\n",
       "    }\n",
       "\n",
       "    .dataframe thead th {\n",
       "        text-align: right;\n",
       "    }\n",
       "</style>\n",
       "<table border=\"1\" class=\"dataframe\">\n",
       "  <thead>\n",
       "    <tr style=\"text-align: right;\">\n",
       "      <th></th>\n",
       "      <th>type_de_reglementation</th>\n",
       "      <th>thematique</th>\n",
       "      <th>zone</th>\n",
       "      <th>reglementations</th>\n",
       "      <th>wkt</th>\n",
       "    </tr>\n",
       "  </thead>\n",
       "  <tbody>\n",
       "    <tr>\n",
       "      <th>378</th>\n",
       "      <td>Reg. MEMN</td>\n",
       "      <td>Ouest Cotentin - Dragues - Coquille St Jacques</td>\n",
       "      <td>Zone réglementée 2</td>\n",
       "      <td>Arrêté Préfectoral 147/2022 - délib 2022/E-CSJ...</td>\n",
       "      <td>MULTIPOLYGON (((-2.08333 49.35424, -2.08333 49...</td>\n",
       "    </tr>\n",
       "    <tr>\n",
       "      <th>604</th>\n",
       "      <td>Reg. Outre-mer</td>\n",
       "      <td>Saint Pierre et Miquelon - Concombre de mer</td>\n",
       "      <td>Zone réglementée 2</td>\n",
       "      <td>Arrêté Ministériel du 31/05/2022</td>\n",
       "      <td>MULTIPOLYGON (((-56.79885 46.52194, -56.48167 ...</td>\n",
       "    </tr>\n",
       "    <tr>\n",
       "      <th>607</th>\n",
       "      <td>Reg. Outre-mer</td>\n",
       "      <td>Saint Pierre et Miquelon - Crabe des neiges</td>\n",
       "      <td>Zone réglementée 2</td>\n",
       "      <td>Arrêté Ministériel du 01/04/2022 / Saint-Pierr...</td>\n",
       "      <td>MULTIPOLYGON (((-56.15171 46.00005, -56.15171 ...</td>\n",
       "    </tr>\n",
       "  </tbody>\n",
       "</table>\n",
       "</div>"
      ],
      "text/plain": [
       "    type_de_reglementation                                      thematique  \\\n",
       "378              Reg. MEMN  Ouest Cotentin - Dragues - Coquille St Jacques   \n",
       "604         Reg. Outre-mer     Saint Pierre et Miquelon - Concombre de mer   \n",
       "607         Reg. Outre-mer     Saint Pierre et Miquelon - Crabe des neiges   \n",
       "\n",
       "                   zone                                    reglementations  \\\n",
       "378  Zone réglementée 2  Arrêté Préfectoral 147/2022 - délib 2022/E-CSJ...   \n",
       "604  Zone réglementée 2                   Arrêté Ministériel du 31/05/2022   \n",
       "607  Zone réglementée 2  Arrêté Ministériel du 01/04/2022 / Saint-Pierr...   \n",
       "\n",
       "                                                   wkt  \n",
       "378  MULTIPOLYGON (((-2.08333 49.35424, -2.08333 49...  \n",
       "604  MULTIPOLYGON (((-56.79885 46.52194, -56.48167 ...  \n",
       "607  MULTIPOLYGON (((-56.15171 46.00005, -56.15171 ...  "
      ]
     },
     "execution_count": 234,
     "metadata": {},
     "output_type": "execute_result"
    }
   ],
   "source": [
    "data_csv_geo[data_csv_geo.zone == \"Zone réglementée 2\"]"
   ]
  },
  {
   "cell_type": "code",
   "execution_count": 235,
   "id": "3d5b0b16-3c99-4594-baee-9ce44c29e690",
   "metadata": {},
   "outputs": [
    {
     "data": {
      "text/html": [
       "<div>\n",
       "<style scoped>\n",
       "    .dataframe tbody tr th:only-of-type {\n",
       "        vertical-align: middle;\n",
       "    }\n",
       "\n",
       "    .dataframe tbody tr th {\n",
       "        vertical-align: top;\n",
       "    }\n",
       "\n",
       "    .dataframe thead th {\n",
       "        text-align: right;\n",
       "    }\n",
       "</style>\n",
       "<table border=\"1\" class=\"dataframe\">\n",
       "  <thead>\n",
       "    <tr style=\"text-align: right;\">\n",
       "      <th></th>\n",
       "      <th>type_de_reglementation</th>\n",
       "      <th>thematique</th>\n",
       "      <th>zone</th>\n",
       "      <th>reglementations</th>\n",
       "      <th>wkt</th>\n",
       "    </tr>\n",
       "  </thead>\n",
       "  <tbody>\n",
       "    <tr>\n",
       "      <th>292</th>\n",
       "      <td>Reg. NAMO</td>\n",
       "      <td>Morbihan - bivalves</td>\n",
       "      <td>Coques Vilaine Dragues</td>\n",
       "      <td>Arrêté Préfectoral 2016-13780 - délib 2016-056...</td>\n",
       "      <td>MULTIPOLYGON (((-2.51020 47.49575, -2.54363 47...</td>\n",
       "    </tr>\n",
       "  </tbody>\n",
       "</table>\n",
       "</div>"
      ],
      "text/plain": [
       "    type_de_reglementation           thematique                    zone  \\\n",
       "292              Reg. NAMO  Morbihan - bivalves  Coques Vilaine Dragues   \n",
       "\n",
       "                                       reglementations  \\\n",
       "292  Arrêté Préfectoral 2016-13780 - délib 2016-056...   \n",
       "\n",
       "                                                   wkt  \n",
       "292  MULTIPOLYGON (((-2.51020 47.49575, -2.54363 47...  "
      ]
     },
     "execution_count": 235,
     "metadata": {},
     "output_type": "execute_result"
    }
   ],
   "source": [
    "data_csv_geo[data_csv_geo.zone == \"Coques Vilaine Dragues\"]"
   ]
  },
  {
   "cell_type": "markdown",
   "id": "a463bcc3-df89-44d7-9209-0ffdef196b7e",
   "metadata": {},
   "source": [
    "<br>"
   ]
  },
  {
   "cell_type": "markdown",
   "id": "d6b78e53-7837-41c9-8ce6-00c78d0c2e26",
   "metadata": {},
   "source": [
    "First, we see that the data in the geopackage format only contains partial data, from only 1 region (NAMO). We see further down in this notebook that it seems to concern only the Brittanic littoral."
   ]
  },
  {
   "cell_type": "markdown",
   "id": "aeda5f56-cc04-4e41-b8d2-a2327277d79f",
   "metadata": {},
   "source": [
    "According to what we see, it seems that only the \"zone\" and the \"wkt\" columns could be interesting for our use case."
   ]
  },
  {
   "cell_type": "markdown",
   "id": "e77bb6c0-2547-4365-9625-96ef24400b70",
   "metadata": {},
   "source": [
    "But there are 858 unique zones from 882 lines in the dataset. We should explore further. A first thing to test is maybe to have zones that contains the word \"Interdiction\" and separate them from other reglementations (\"Temporary authorized fishing\" for instance)."
   ]
  },
  {
   "cell_type": "markdown",
   "id": "bd742827-43d9-4933-9945-127a1ced823d",
   "metadata": {
    "tags": []
   },
   "source": [
    "### Extraction of zones with a label indicating an \"interdiction\""
   ]
  },
  {
   "cell_type": "code",
   "execution_count": 236,
   "id": "783b258d-3812-4651-a485-5a76bfbcdcc6",
   "metadata": {},
   "outputs": [],
   "source": [
    "zones_interdites = []\n",
    "for zone in data_csv_geo.zone.unique():\n",
    "    zone = str(zone)\n",
    "    if zone.find(\"interdi\") != -1:\n",
    "        zones_interdites.append(zone)"
   ]
  },
  {
   "cell_type": "code",
   "execution_count": 237,
   "id": "21bd03c5-45cd-4faf-bb36-639257d108df",
   "metadata": {},
   "outputs": [
    {
     "data": {
      "text/plain": [
       "93"
      ]
     },
     "execution_count": 237,
     "metadata": {},
     "output_type": "execute_result"
    }
   ],
   "source": [
    "len(zones_interdites)"
   ]
  },
  {
   "cell_type": "code",
   "execution_count": 238,
   "id": "cfa9cb6b-7d0f-4830-ba64-4c0582708f48",
   "metadata": {},
   "outputs": [
    {
     "data": {
      "text/plain": [
       "['Banc de Maërl - Zone interdite à la pêche',\n",
       " 'Banc de Maërl - interdiction de pêche',\n",
       " 'Herbiers de zostères \"Baie de Morlaix\" - interdiction',\n",
       " \"Kerfinel - zone d'interdiction temporaire\",\n",
       " 'Zone de cohabitation 2 - interdiction pêche',\n",
       " 'Zone de cohabitation 1 - pêche interdite',\n",
       " 'Eaux territoriales Bretagne - Pêche interdite',\n",
       " 'Zone A - interdiction chalutage',\n",
       " 'Zone B - interdiction chalutage',\n",
       " 'Nord Groix - Zone interdite',\n",
       " 'Sud Groix - Zone interdite',\n",
       " 'Belle-Île - interdiction temporaire',\n",
       " 'Quiberon - Zone interdite temporaire',\n",
       " \"Zone d'interdiction : Ile-verte\",\n",
       " \"Zone d'interdiction : Epine-Est\",\n",
       " \"Zone d'interdiction : Agde\",\n",
       " \"Zone d'interdiction : Palavas\",\n",
       " \"Zone d'interdiction : Gruissan\",\n",
       " \"Zone d'interdiction : Fleury D'Aude\",\n",
       " \"Hérault et Gard - Pêche sous-marine interdite - Grau d'Adge\",\n",
       " 'Hérault et Gard - Pêche sous-marine interdite - Etang de Thau',\n",
       " \"Zone d'interdiction 1 : Marseillan-Sète\",\n",
       " \"Zone d'interdiction 2 : Marseillan-Sète\",\n",
       " \"Zone d'interdiction 3 : Marseillan-Sète\",\n",
       " 'Zone H : interdiction totale de pêche',\n",
       " 'Zone F : interdiction totale de pêche',\n",
       " \"Secteur d'interdiction sanitaire de pêche\",\n",
       " 'Zone interdite à la pêche dans la Baie du Trésor',\n",
       " \"Zone interdite à la pêche autour de l'îlet à Ramiers\",\n",
       " \"Zone d'interdiction totale de pêche\",\n",
       " 'Circulation interdite : Anse Amora',\n",
       " 'Navires motorisés interdits : Fanou',\n",
       " \"Zone d'interdiction totale\",\n",
       " \"Zone d'interdiction de pêche\",\n",
       " 'Zones interdites',\n",
       " 'Hérault et Gard - Pêche sous-marine interdite - Brescou',\n",
       " 'Hérault et Gard - Pêche sous-marine interdite - Brescou restreint',\n",
       " 'Pêche de loisir: interdiction en zone F',\n",
       " 'Pêche de loisir: interdiction en zone H',\n",
       " 'Pêche de loisir: interdiction en zone R',\n",
       " \"Bande Côtière: Zone d'interdiction d'usage de la drague\",\n",
       " 'Estuaires interdits aux chaluts selectifs',\n",
       " 'Zone R : interdiction partielle de pêche',\n",
       " 'Zone interdite au chalut barre à dents',\n",
       " 'Secteur interdit aux sennes',\n",
       " \"Zone d'interdiction de pose des casiers\",\n",
       " 'Zone 4 : interdiction totale',\n",
       " 'Zone 3 : interdiction totale',\n",
       " 'Zone 5 : interdiction totale',\n",
       " 'Zone 1 : interdiction totale',\n",
       " 'Zone 2 : interdiction temporaire',\n",
       " \"Zone d'interdiction : Baie des sablettes\",\n",
       " \"Zone d'interdiction : Golfe de Saint-Florent\",\n",
       " 'Zone de préservation des habitats interdite à la pêche',\n",
       " 'Zone des Daviers - interdiction',\n",
       " 'Cantonnement de CSJ La Plate (tourelle) - interdiction',\n",
       " 'Concessions conchylicoles - interdiction',\n",
       " 'Zone portuaire - interdiction',\n",
       " 'Zone interdite - Mousterlin',\n",
       " 'Zone interdite - Beg Meil',\n",
       " 'Zone interdite - Glénan - Saint-Nicolas',\n",
       " \"Zone interdite - Glénan - Est Le Loc'h\",\n",
       " 'Zone interdite - Glénan - Sud Penfret',\n",
       " 'Zone interdite - de Trévignon',\n",
       " 'Zone de Guerhéon - interdiction',\n",
       " 'Zone de Callot - interdiction',\n",
       " \"Zone d'interdiction partielle de pêche\",\n",
       " 'Crozet interdiction mouillage',\n",
       " 'Zone interdiction - ZEE UE',\n",
       " 'Zone interdiction - Eaux internationales',\n",
       " 'A8 - zone de Maërl interdite à la pêche',\n",
       " 'Hérault et Gard - Pêche sous-marine interdite - Bassin de Thau',\n",
       " 'Bouche du Rhône - Pêche sous-marine interdite - Anse de Pomègues',\n",
       " 'Bretagne Nord - interdiction de pêche',\n",
       " \"Zone d'interdiction chalut\",\n",
       " 'Zone interdite aux chaluts jumeaux à panneaux',\n",
       " \"Zone d'interdiction permanentes 1\",\n",
       " \"Zone d'interdiction permanentes 2\",\n",
       " \"Zone d'interdiction permanentes 3\",\n",
       " \"Zone d'interdiction permanentes 4\",\n",
       " \"Zone d'interdiction GOV\",\n",
       " 'Zone C - interdiction chalutage',\n",
       " 'Bouche du Rhône - Pêche sous-marine interdite - Anse des cuivres',\n",
       " \"Zone d'interdiction\",\n",
       " 'Zone A1 - interdiction arts dormants',\n",
       " 'Zone A2 - interdiction tout engin',\n",
       " 'Zone B2 - interdiction tout engin',\n",
       " 'Zone du Foulen : interdiction de chalutage',\n",
       " 'Aire de carénage Le Marin - interdiction arts dormants',\n",
       " \"Schoelcher - interdiction d'engins traînants\",\n",
       " 'Zone interdite à la pêche du pétoncle blanc',\n",
       " 'Zone interdite aux navires ⩾ 13.5 m',\n",
       " 'Zone de pêche interdite']"
      ]
     },
     "execution_count": 238,
     "metadata": {},
     "output_type": "execute_result"
    }
   ],
   "source": [
    "zones_interdites"
   ]
  },
  {
   "cell_type": "markdown",
   "id": "e9c29f53-82c3-4b8f-84f7-832f3c71fbbe",
   "metadata": {},
   "source": [
    "<br>"
   ]
  },
  {
   "cell_type": "code",
   "execution_count": 262,
   "id": "3b07eaae-f109-493d-ab24-9b3021aee06c",
   "metadata": {},
   "outputs": [],
   "source": [
    "data_csv_geo.crs = \"epsg:4326\"\n",
    "data_csv_geo.to_crs = {'init' :'epsg:4326'}\n",
    "\n",
    "map_test = folium.Map(location=[48, -3.5], tiles=\"cartodbpositron\", zoom_start=5)"
   ]
  },
  {
   "cell_type": "markdown",
   "id": "f4a26a9b-bdf8-4c37-a8a5-578eabb770cd",
   "metadata": {},
   "source": [
    "<br>"
   ]
  },
  {
   "cell_type": "markdown",
   "id": "dd90fdbe-f707-4e62-b1f1-d9de0314abfb",
   "metadata": {},
   "source": [
    "#### Choose the number of samples to display on the map for performance matters"
   ]
  },
  {
   "cell_type": "code",
   "execution_count": 265,
   "id": "d79a88bf-4ff0-40eb-8b35-1837b28e7893",
   "metadata": {},
   "outputs": [],
   "source": [
    "n_samples_for_viz = 100"
   ]
  },
  {
   "cell_type": "markdown",
   "id": "b3d7e3dd-e591-48aa-a1e5-849ef1b7d27a",
   "metadata": {},
   "source": [
    "<br>"
   ]
  },
  {
   "cell_type": "code",
   "execution_count": 266,
   "id": "7632e850-7218-46cb-a681-0311d6b3eed2",
   "metadata": {
    "tags": []
   },
   "outputs": [],
   "source": [
    "data_csv_geo_viz = data_csv_geo.sample(n_samples_for_viz)"
   ]
  },
  {
   "cell_type": "code",
   "execution_count": 267,
   "id": "18f804a7-d68e-44ad-897b-82e444bdd10f",
   "metadata": {},
   "outputs": [],
   "source": [
    "style1 = {'fillColor': '#0000BBFF', 'color': '#0000FF'}\n",
    "style2 = {'fillColor': '#BB0000FF', 'lineColor': '#FF0000'}"
   ]
  },
  {
   "cell_type": "code",
   "execution_count": 268,
   "id": "10b4b74a-bd10-4c27-a430-404e1fab7aa4",
   "metadata": {},
   "outputs": [
    {
     "data": {
      "text/plain": [
       "<folium.features.GeoJson at 0x1cade6c9b80>"
      ]
     },
     "execution_count": 268,
     "metadata": {},
     "output_type": "execute_result"
    }
   ],
   "source": [
    "folium.GeoJson(data=data_csv_geo_viz[~data_csv_geo_viz.zone.isin(zones_interdites)][\"wkt\"], style_function= lambda x: style1).add_to(map_test)"
   ]
  },
  {
   "cell_type": "code",
   "execution_count": 269,
   "id": "341d99ff-00ae-4040-b094-967e15183075",
   "metadata": {},
   "outputs": [
    {
     "data": {
      "text/plain": [
       "<folium.features.GeoJson at 0x1cade41cb50>"
      ]
     },
     "execution_count": 269,
     "metadata": {},
     "output_type": "execute_result"
    }
   ],
   "source": [
    "folium.GeoJson(data=data_csv_geo_viz[data_csv_geo_viz.zone.isin(zones_interdites)][\"wkt\"], style_function= lambda x: style2).add_to(map_test)"
   ]
  },
  {
   "cell_type": "markdown",
   "id": "04a6a783-cd18-4efb-90c7-240351584ee8",
   "metadata": {},
   "source": [
    "<br>"
   ]
  },
  {
   "cell_type": "markdown",
   "id": "ee08ec30-aa21-4d74-a95c-d8ce15515897",
   "metadata": {},
   "source": [
    "#### VISUALIZE ON MAP"
   ]
  },
  {
   "cell_type": "code",
   "execution_count": null,
   "id": "bff5a976-1419-4feb-bb9a-45e84d9e0a86",
   "metadata": {},
   "outputs": [],
   "source": [
    "#RUN THIS TO DISPLAY MAP\n",
    "map_test"
   ]
  }
 ],
 "metadata": {
  "kernelspec": {
   "display_name": "Python 3 (ipykernel)",
   "language": "python",
   "name": "python3"
  },
  "language_info": {
   "codemirror_mode": {
    "name": "ipython",
    "version": 3
   },
   "file_extension": ".py",
   "mimetype": "text/x-python",
   "name": "python",
   "nbconvert_exporter": "python",
   "pygments_lexer": "ipython3",
   "version": "3.9.16"
  }
 },
 "nbformat": 4,
 "nbformat_minor": 5
}